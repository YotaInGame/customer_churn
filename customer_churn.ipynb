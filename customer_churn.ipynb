{
 "cells": [
  {
   "cell_type": "markdown",
   "metadata": {
    "toc": true,
    "pycharm": {
     "name": "#%% md\n"
    }
   },
   "source": [
    "<h1>Содержание<span class=\"tocSkip\"></span></h1>\n",
    "<div class=\"toc\"><ul class=\"toc-item\"><li><span><a href=\"#Подготовка-данных\" data-toc-modified-id=\"Подготовка-данных-1\"><span class=\"toc-item-num\">1&nbsp;&nbsp;</span>Подготовка данных</a></span><ul class=\"toc-item\"><li><span><a href=\"#Вывод\" data-toc-modified-id=\"Вывод-1.1\"><span class=\"toc-item-num\">1.1&nbsp;&nbsp;</span>Вывод</a></span></li></ul></li><li><span><a href=\"#Исследование-задачи\" data-toc-modified-id=\"Исследование-задачи-2\"><span class=\"toc-item-num\">2&nbsp;&nbsp;</span>Исследование задачи</a></span><ul class=\"toc-item\"><li><span><a href=\"#Вывод\" data-toc-modified-id=\"Вывод-2.1\"><span class=\"toc-item-num\">2.1&nbsp;&nbsp;</span>Вывод</a></span></li></ul></li><li><span><a href=\"#Борьба-с-дисбалансом\" data-toc-modified-id=\"Борьба-с-дисбалансом-3\"><span class=\"toc-item-num\">3&nbsp;&nbsp;</span>Борьба с дисбалансом</a></span><ul class=\"toc-item\"><li><span><a href=\"#Балансировка-классов\" data-toc-modified-id=\"Балансировка-классов-3.1\"><span class=\"toc-item-num\">3.1&nbsp;&nbsp;</span>Балансировка классов</a></span></li><li><span><a href=\"#Увеличение-выборки\" data-toc-modified-id=\"Увеличение-выборки-3.2\"><span class=\"toc-item-num\">3.2&nbsp;&nbsp;</span>Увеличение выборки</a></span></li><li><span><a href=\"#Уменьшение-выборки\" data-toc-modified-id=\"Уменьшение-выборки-3.3\"><span class=\"toc-item-num\">3.3&nbsp;&nbsp;</span>Уменьшение выборки</a></span></li><li><span><a href=\"#Вывод\" data-toc-modified-id=\"Вывод-3.4\"><span class=\"toc-item-num\">3.4&nbsp;&nbsp;</span>Вывод</a></span></li></ul></li><li><span><a href=\"#Тестирование-модели\" data-toc-modified-id=\"Тестирование-модели-4\"><span class=\"toc-item-num\">4&nbsp;&nbsp;</span>Тестирование модели</a></span></li><li><span><a href=\"#Вывод\" data-toc-modified-id=\"Вывод-5\"><span class=\"toc-item-num\">5&nbsp;&nbsp;</span>Вывод</a></span></li><li><span><a href=\"#Чек-лист-готовности-проекта\" data-toc-modified-id=\"Чек-лист-готовности-проекта-6\"><span class=\"toc-item-num\">6&nbsp;&nbsp;</span>Чек-лист готовности проекта</a></span></li></ul></div>"
   ]
  },
  {
   "cell_type": "markdown",
   "metadata": {
    "pycharm": {
     "name": "#%% md\n"
    }
   },
   "source": [
    "# Отток клиентов"
   ]
  },
  {
   "cell_type": "markdown",
   "metadata": {
    "pycharm": {
     "name": "#%% md\n"
    }
   },
   "source": [
    "Из «Бета-Банка» стали уходить клиенты. Каждый месяц. Немного, но заметно. Банковские маркетологи посчитали: сохранять текущих клиентов дешевле, чем привлекать новых.\n",
    "\n",
    "Нужно спрогнозировать, уйдёт клиент из банка в ближайшее время или нет. Вам предоставлены исторические данные о поведении клиентов и расторжении договоров с банком. \n",
    "\n",
    "Постройте модель с предельно большим значением *F1*-меры. Чтобы сдать проект успешно, нужно довести метрику до 0.59. Проверьте *F1*-меру на тестовой выборке самостоятельно.\n",
    "\n",
    "Дополнительно измеряйте *AUC-ROC*, сравнивайте её значение с *F1*-мерой.\n",
    "\n",
    "Источник данных: [https://www.kaggle.com/barelydedicated/bank-customer-churn-modeling](https://www.kaggle.com/barelydedicated/bank-customer-churn-modeling)"
   ]
  },
  {
   "cell_type": "markdown",
   "metadata": {
    "pycharm": {
     "name": "#%% md\n"
    }
   },
   "source": [
    "## Подготовка данных"
   ]
  },
  {
   "cell_type": "code",
   "execution_count": 16,
   "metadata": {
    "pycharm": {
     "name": "#%%\n"
    }
   },
   "outputs": [],
   "source": [
    "# импортируем бибилиотеки\n",
    "import pandas as pd\n",
    "import numpy as np\n",
    "import matplotlib.pyplot as plt\n",
    "\n",
    "# импорт моделей\n",
    "from sklearn.tree import DecisionTreeClassifier\n",
    "from sklearn.ensemble import RandomForestClassifier\n",
    "from sklearn.linear_model import LogisticRegression\n",
    "\n",
    "# импорт утилит \n",
    "from sklearn.preprocessing import StandardScaler, OrdinalEncoder\n",
    "from sklearn.model_selection import train_test_split, GridSearchCV\n",
    "from sklearn.utils import shuffle\n",
    "\n",
    "# импорт метрик\n",
    "from sklearn.metrics import accuracy_score, precision_score, recall_score\n",
    "from sklearn.metrics import f1_score, roc_curve, roc_auc_score"
   ]
  },
  {
   "cell_type": "code",
   "execution_count": 17,
   "metadata": {
    "pycharm": {
     "name": "#%%\n"
    }
   },
   "outputs": [
    {
     "data": {
      "text/html": [
       "<div>\n",
       "<style scoped>\n",
       "    .dataframe tbody tr th:only-of-type {\n",
       "        vertical-align: middle;\n",
       "    }\n",
       "\n",
       "    .dataframe tbody tr th {\n",
       "        vertical-align: top;\n",
       "    }\n",
       "\n",
       "    .dataframe thead th {\n",
       "        text-align: right;\n",
       "    }\n",
       "</style>\n",
       "<table border=\"1\" class=\"dataframe\">\n",
       "  <thead>\n",
       "    <tr style=\"text-align: right;\">\n",
       "      <th></th>\n",
       "      <th>RowNumber</th>\n",
       "      <th>CustomerId</th>\n",
       "      <th>Surname</th>\n",
       "      <th>CreditScore</th>\n",
       "      <th>Geography</th>\n",
       "      <th>Gender</th>\n",
       "      <th>Age</th>\n",
       "      <th>Tenure</th>\n",
       "      <th>Balance</th>\n",
       "      <th>NumOfProducts</th>\n",
       "      <th>HasCrCard</th>\n",
       "      <th>IsActiveMember</th>\n",
       "      <th>EstimatedSalary</th>\n",
       "      <th>Exited</th>\n",
       "    </tr>\n",
       "  </thead>\n",
       "  <tbody>\n",
       "    <tr>\n",
       "      <th>0</th>\n",
       "      <td>1</td>\n",
       "      <td>15634602</td>\n",
       "      <td>Hargrave</td>\n",
       "      <td>619</td>\n",
       "      <td>France</td>\n",
       "      <td>Female</td>\n",
       "      <td>42</td>\n",
       "      <td>2.0</td>\n",
       "      <td>0.00</td>\n",
       "      <td>1</td>\n",
       "      <td>1</td>\n",
       "      <td>1</td>\n",
       "      <td>101348.88</td>\n",
       "      <td>1</td>\n",
       "    </tr>\n",
       "    <tr>\n",
       "      <th>1</th>\n",
       "      <td>2</td>\n",
       "      <td>15647311</td>\n",
       "      <td>Hill</td>\n",
       "      <td>608</td>\n",
       "      <td>Spain</td>\n",
       "      <td>Female</td>\n",
       "      <td>41</td>\n",
       "      <td>1.0</td>\n",
       "      <td>83807.86</td>\n",
       "      <td>1</td>\n",
       "      <td>0</td>\n",
       "      <td>1</td>\n",
       "      <td>112542.58</td>\n",
       "      <td>0</td>\n",
       "    </tr>\n",
       "    <tr>\n",
       "      <th>2</th>\n",
       "      <td>3</td>\n",
       "      <td>15619304</td>\n",
       "      <td>Onio</td>\n",
       "      <td>502</td>\n",
       "      <td>France</td>\n",
       "      <td>Female</td>\n",
       "      <td>42</td>\n",
       "      <td>8.0</td>\n",
       "      <td>159660.80</td>\n",
       "      <td>3</td>\n",
       "      <td>1</td>\n",
       "      <td>0</td>\n",
       "      <td>113931.57</td>\n",
       "      <td>1</td>\n",
       "    </tr>\n",
       "  </tbody>\n",
       "</table>\n",
       "</div>"
      ],
      "text/plain": [
       "   RowNumber  CustomerId   Surname  CreditScore Geography  Gender  Age  \\\n",
       "0          1    15634602  Hargrave          619    France  Female   42   \n",
       "1          2    15647311      Hill          608     Spain  Female   41   \n",
       "2          3    15619304      Onio          502    France  Female   42   \n",
       "\n",
       "   Tenure    Balance  NumOfProducts  HasCrCard  IsActiveMember  \\\n",
       "0     2.0       0.00              1          1               1   \n",
       "1     1.0   83807.86              1          0               1   \n",
       "2     8.0  159660.80              3          1               0   \n",
       "\n",
       "   EstimatedSalary  Exited  \n",
       "0        101348.88       1  \n",
       "1        112542.58       0  \n",
       "2        113931.57       1  "
      ]
     },
     "metadata": {},
     "output_type": "display_data"
    },
    {
     "name": "stdout",
     "output_type": "stream",
     "text": [
      "<class 'pandas.core.frame.DataFrame'>\n",
      "RangeIndex: 10000 entries, 0 to 9999\n",
      "Data columns (total 14 columns):\n",
      " #   Column           Non-Null Count  Dtype  \n",
      "---  ------           --------------  -----  \n",
      " 0   RowNumber        10000 non-null  int64  \n",
      " 1   CustomerId       10000 non-null  int64  \n",
      " 2   Surname          10000 non-null  object \n",
      " 3   CreditScore      10000 non-null  int64  \n",
      " 4   Geography        10000 non-null  object \n",
      " 5   Gender           10000 non-null  object \n",
      " 6   Age              10000 non-null  int64  \n",
      " 7   Tenure           9091 non-null   float64\n",
      " 8   Balance          10000 non-null  float64\n",
      " 9   NumOfProducts    10000 non-null  int64  \n",
      " 10  HasCrCard        10000 non-null  int64  \n",
      " 11  IsActiveMember   10000 non-null  int64  \n",
      " 12  EstimatedSalary  10000 non-null  float64\n",
      " 13  Exited           10000 non-null  int64  \n",
      "dtypes: float64(3), int64(8), object(3)\n",
      "memory usage: 1.1+ MB\n"
     ]
    }
   ],
   "source": [
    "# считываем файл и выведем информацию о датасете\n",
    "data = pd.read_csv('/datasets/Churn.csv')\n",
    "display(data.head(3))\n",
    "data.info()"
   ]
  },
  {
   "cell_type": "markdown",
   "metadata": {
    "pycharm": {
     "name": "#%% md\n"
    }
   },
   "source": [
    "Признаки:\n",
    "\n",
    "* `RowNumber` — индекс строки в данных\n",
    "* `CustomerId` — уникальный идентификатор клиента\n",
    "* `Surname` — фамилия\n",
    "* `CreditScore` — кредитный рейтинг\n",
    "* `Geography` — страна проживания\n",
    "* `Gender` — пол\n",
    "* `Age` — возраст\n",
    "* `Tenure` — сколько лет человек является клиентом банка\n",
    "* `Balance` — баланс на счёте\n",
    "* `NumOfProducts` — количество продуктов банка, используемых клиентом\n",
    "* `HasCrCard` — наличие кредитной карты\n",
    "* `IsActiveMember` — активность клиента\n",
    "* `EstimatedSalary` — предполагаемая зарплата"
   ]
  },
  {
   "cell_type": "markdown",
   "metadata": {
    "pycharm": {
     "name": "#%% md\n"
    }
   },
   "source": [
    "Целевой признак:\n",
    "* `Exited` — факт ухода клиента"
   ]
  },
  {
   "cell_type": "markdown",
   "metadata": {
    "pycharm": {
     "name": "#%% md\n"
    }
   },
   "source": [
    "Столбец `Tenure` имеет пустые значения, выведем уникальные значения."
   ]
  },
  {
   "cell_type": "code",
   "execution_count": 18,
   "metadata": {
    "pycharm": {
     "name": "#%%\n"
    }
   },
   "outputs": [
    {
     "data": {
      "text/html": [
       "<div>\n",
       "<style scoped>\n",
       "    .dataframe tbody tr th:only-of-type {\n",
       "        vertical-align: middle;\n",
       "    }\n",
       "\n",
       "    .dataframe tbody tr th {\n",
       "        vertical-align: top;\n",
       "    }\n",
       "\n",
       "    .dataframe thead th {\n",
       "        text-align: right;\n",
       "    }\n",
       "</style>\n",
       "<table border=\"1\" class=\"dataframe\">\n",
       "  <thead>\n",
       "    <tr style=\"text-align: right;\">\n",
       "      <th></th>\n",
       "      <th>RowNumber</th>\n",
       "      <th>CustomerId</th>\n",
       "      <th>Surname</th>\n",
       "      <th>CreditScore</th>\n",
       "      <th>Geography</th>\n",
       "      <th>Gender</th>\n",
       "      <th>Age</th>\n",
       "      <th>Tenure</th>\n",
       "      <th>Balance</th>\n",
       "      <th>NumOfProducts</th>\n",
       "      <th>HasCrCard</th>\n",
       "      <th>IsActiveMember</th>\n",
       "      <th>EstimatedSalary</th>\n",
       "      <th>Exited</th>\n",
       "    </tr>\n",
       "  </thead>\n",
       "  <tbody>\n",
       "    <tr>\n",
       "      <th>30</th>\n",
       "      <td>31</td>\n",
       "      <td>15589475</td>\n",
       "      <td>Azikiwe</td>\n",
       "      <td>591</td>\n",
       "      <td>Spain</td>\n",
       "      <td>Female</td>\n",
       "      <td>39</td>\n",
       "      <td>NaN</td>\n",
       "      <td>0.00</td>\n",
       "      <td>3</td>\n",
       "      <td>1</td>\n",
       "      <td>0</td>\n",
       "      <td>140469.38</td>\n",
       "      <td>1</td>\n",
       "    </tr>\n",
       "    <tr>\n",
       "      <th>48</th>\n",
       "      <td>49</td>\n",
       "      <td>15766205</td>\n",
       "      <td>Yin</td>\n",
       "      <td>550</td>\n",
       "      <td>Germany</td>\n",
       "      <td>Male</td>\n",
       "      <td>38</td>\n",
       "      <td>NaN</td>\n",
       "      <td>103391.38</td>\n",
       "      <td>1</td>\n",
       "      <td>0</td>\n",
       "      <td>1</td>\n",
       "      <td>90878.13</td>\n",
       "      <td>0</td>\n",
       "    </tr>\n",
       "    <tr>\n",
       "      <th>51</th>\n",
       "      <td>52</td>\n",
       "      <td>15768193</td>\n",
       "      <td>Trevisani</td>\n",
       "      <td>585</td>\n",
       "      <td>Germany</td>\n",
       "      <td>Male</td>\n",
       "      <td>36</td>\n",
       "      <td>NaN</td>\n",
       "      <td>146050.97</td>\n",
       "      <td>2</td>\n",
       "      <td>0</td>\n",
       "      <td>0</td>\n",
       "      <td>86424.57</td>\n",
       "      <td>0</td>\n",
       "    </tr>\n",
       "  </tbody>\n",
       "</table>\n",
       "</div>"
      ],
      "text/plain": [
       "    RowNumber  CustomerId    Surname  CreditScore Geography  Gender  Age  \\\n",
       "30         31    15589475    Azikiwe          591     Spain  Female   39   \n",
       "48         49    15766205        Yin          550   Germany    Male   38   \n",
       "51         52    15768193  Trevisani          585   Germany    Male   36   \n",
       "\n",
       "    Tenure    Balance  NumOfProducts  HasCrCard  IsActiveMember  \\\n",
       "30     NaN       0.00              3          1               0   \n",
       "48     NaN  103391.38              1          0               1   \n",
       "51     NaN  146050.97              2          0               0   \n",
       "\n",
       "    EstimatedSalary  Exited  \n",
       "30        140469.38       1  \n",
       "48         90878.13       0  \n",
       "51         86424.57       0  "
      ]
     },
     "metadata": {},
     "output_type": "display_data"
    },
    {
     "name": "stdout",
     "output_type": "stream",
     "text": [
      "1.0     952\n",
      "2.0     950\n",
      "8.0     933\n",
      "3.0     928\n",
      "5.0     927\n",
      "7.0     925\n",
      "4.0     885\n",
      "9.0     882\n",
      "6.0     881\n",
      "10.0    446\n",
      "0.0     382\n",
      "Name: Tenure, dtype: int64\n"
     ]
    }
   ],
   "source": [
    "# посмотрим строки с пустыми значениями\n",
    "# выведем уникальные\n",
    "\n",
    "display(data[data['Tenure'].isna()].head(3))\n",
    "print(data['Tenure'].value_counts())"
   ]
  },
  {
   "cell_type": "markdown",
   "metadata": {
    "pycharm": {
     "name": "#%% md\n"
    }
   },
   "source": [
    "Изначально предполагалось, что пустые значения - это клиент банка, который только начал пользоваться услугами, но у таких клиентах в столбце стоит значение 0, тогда заполним пустые строки медианными значениями."
   ]
  },
  {
   "cell_type": "code",
   "execution_count": 19,
   "metadata": {
    "pycharm": {
     "name": "#%%\n"
    }
   },
   "outputs": [],
   "source": [
    "# Сгруппируем данные по стране, полу и возврасту\n",
    "# найдем медианну по стобцу `Tenure`\n",
    "# Напишем функцию перебора и заполнения пустых ячеек медианным значениями исходя из фильтра\n",
    "# Оставщиеся значения заполним медианой\n",
    "\n",
    "data_fill = data.groupby(['Geography', 'Gender', 'Age']).agg({'Tenure':'median'}).reset_index()\n",
    "\n",
    "def fill_empty_tenure(row):\n",
    "      \n",
    "    row_filter =(\n",
    "        (data_fill['Geography'] == row['Geography']) & \n",
    "        (data_fill['Gender'] == row['Gender']) &\n",
    "        (data_fill['Age'] == row['Age'])\n",
    "   )\n",
    "    \n",
    "    tenure_value = data_fill[row_filter]['Tenure'].iloc[0]\n",
    "    \n",
    "    if tenure_value:\n",
    "        row['Tenure'] = tenure_value\n",
    "\n",
    "    return row\n",
    "\n",
    "#data[data['Tenure'].isna()] = data[data['Tenure'].isna()].apply(fill_empty_tenure, axis=1)  \n",
    "#data.loc[data['Tenure'].isna(), ('Tenure')] = data['Tenure'].median()\n",
    "#print('Пустых строк:', len(data[data['Tenure'].isna()]))"
   ]
  },
  {
   "cell_type": "code",
   "execution_count": 20,
   "metadata": {
    "pycharm": {
     "name": "#%%\n"
    }
   },
   "outputs": [],
   "source": [
    "data.loc[data['Tenure'].isna(), ('Tenure')] = np.random.randint(0, 11)"
   ]
  },
  {
   "cell_type": "markdown",
   "metadata": {
    "pycharm": {
     "name": "#%% md\n"
    }
   },
   "source": [
    "Для перевода категориальных переменных воспользуемся прямым кодированием."
   ]
  },
  {
   "cell_type": "code",
   "execution_count": 21,
   "metadata": {
    "pycharm": {
     "name": "#%%\n"
    }
   },
   "outputs": [
    {
     "name": "stdout",
     "output_type": "stream",
     "text": [
      "<class 'pandas.core.frame.DataFrame'>\n",
      "RangeIndex: 10000 entries, 0 to 9999\n",
      "Data columns (total 12 columns):\n",
      " #   Column             Non-Null Count  Dtype  \n",
      "---  ------             --------------  -----  \n",
      " 0   CreditScore        10000 non-null  int64  \n",
      " 1   Age                10000 non-null  int64  \n",
      " 2   Tenure             10000 non-null  float64\n",
      " 3   Balance            10000 non-null  float64\n",
      " 4   NumOfProducts      10000 non-null  int64  \n",
      " 5   HasCrCard          10000 non-null  int64  \n",
      " 6   IsActiveMember     10000 non-null  int64  \n",
      " 7   EstimatedSalary    10000 non-null  float64\n",
      " 8   Exited             10000 non-null  int64  \n",
      " 9   Geography_Germany  10000 non-null  uint8  \n",
      " 10  Geography_Spain    10000 non-null  uint8  \n",
      " 11  Gender_Male        10000 non-null  uint8  \n",
      "dtypes: float64(3), int64(6), uint8(3)\n",
      "memory usage: 732.5 KB\n"
     ]
    },
    {
     "data": {
      "text/plain": [
       "None"
      ]
     },
     "metadata": {},
     "output_type": "display_data"
    },
    {
     "data": {
      "text/html": [
       "<div>\n",
       "<style scoped>\n",
       "    .dataframe tbody tr th:only-of-type {\n",
       "        vertical-align: middle;\n",
       "    }\n",
       "\n",
       "    .dataframe tbody tr th {\n",
       "        vertical-align: top;\n",
       "    }\n",
       "\n",
       "    .dataframe thead th {\n",
       "        text-align: right;\n",
       "    }\n",
       "</style>\n",
       "<table border=\"1\" class=\"dataframe\">\n",
       "  <thead>\n",
       "    <tr style=\"text-align: right;\">\n",
       "      <th></th>\n",
       "      <th>CreditScore</th>\n",
       "      <th>Age</th>\n",
       "      <th>Tenure</th>\n",
       "      <th>Balance</th>\n",
       "      <th>NumOfProducts</th>\n",
       "      <th>HasCrCard</th>\n",
       "      <th>IsActiveMember</th>\n",
       "      <th>EstimatedSalary</th>\n",
       "      <th>Exited</th>\n",
       "      <th>Geography_Germany</th>\n",
       "      <th>Geography_Spain</th>\n",
       "      <th>Gender_Male</th>\n",
       "    </tr>\n",
       "  </thead>\n",
       "  <tbody>\n",
       "    <tr>\n",
       "      <th>0</th>\n",
       "      <td>619</td>\n",
       "      <td>42</td>\n",
       "      <td>2.0</td>\n",
       "      <td>0.00</td>\n",
       "      <td>1</td>\n",
       "      <td>1</td>\n",
       "      <td>1</td>\n",
       "      <td>101348.88</td>\n",
       "      <td>1</td>\n",
       "      <td>0</td>\n",
       "      <td>0</td>\n",
       "      <td>0</td>\n",
       "    </tr>\n",
       "    <tr>\n",
       "      <th>1</th>\n",
       "      <td>608</td>\n",
       "      <td>41</td>\n",
       "      <td>1.0</td>\n",
       "      <td>83807.86</td>\n",
       "      <td>1</td>\n",
       "      <td>0</td>\n",
       "      <td>1</td>\n",
       "      <td>112542.58</td>\n",
       "      <td>0</td>\n",
       "      <td>0</td>\n",
       "      <td>1</td>\n",
       "      <td>0</td>\n",
       "    </tr>\n",
       "    <tr>\n",
       "      <th>2</th>\n",
       "      <td>502</td>\n",
       "      <td>42</td>\n",
       "      <td>8.0</td>\n",
       "      <td>159660.80</td>\n",
       "      <td>3</td>\n",
       "      <td>1</td>\n",
       "      <td>0</td>\n",
       "      <td>113931.57</td>\n",
       "      <td>1</td>\n",
       "      <td>0</td>\n",
       "      <td>0</td>\n",
       "      <td>0</td>\n",
       "    </tr>\n",
       "  </tbody>\n",
       "</table>\n",
       "</div>"
      ],
      "text/plain": [
       "   CreditScore  Age  Tenure    Balance  NumOfProducts  HasCrCard  \\\n",
       "0          619   42     2.0       0.00              1          1   \n",
       "1          608   41     1.0   83807.86              1          0   \n",
       "2          502   42     8.0  159660.80              3          1   \n",
       "\n",
       "   IsActiveMember  EstimatedSalary  Exited  Geography_Germany  \\\n",
       "0               1        101348.88       1                  0   \n",
       "1               1        112542.58       0                  0   \n",
       "2               0        113931.57       1                  0   \n",
       "\n",
       "   Geography_Spain  Gender_Male  \n",
       "0                0            0  \n",
       "1                1            0  \n",
       "2                0            0  "
      ]
     },
     "execution_count": 21,
     "metadata": {},
     "output_type": "execute_result"
    }
   ],
   "source": [
    "# Используем прямое кодирование, удалим столбцем 'Surname', 'CustomerId', 'RowNumber'\n",
    "# что бы не попасть в дамми-ловушку метод get_dummies вызываем с парамером drop_first=True\n",
    "\n",
    "data_ohe = pd.get_dummies(data.drop(['Surname', 'CustomerId', 'RowNumber'], axis=1), drop_first=True)\n",
    "display(data_ohe.info())\n",
    "data_ohe.head(3)"
   ]
  },
  {
   "cell_type": "markdown",
   "metadata": {
    "pycharm": {
     "name": "#%% md\n"
    }
   },
   "source": [
    "Разобьем данные на обучающую, вадидационную и тестовую выборку."
   ]
  },
  {
   "cell_type": "code",
   "execution_count": 22,
   "metadata": {
    "pycharm": {
     "name": "#%%\n"
    }
   },
   "outputs": [],
   "source": [
    "# Разбиваем данные на\n",
    "# Признаки и целевые признаки на тестовые и валидационные выборки\n",
    "# Удалим из признаков целевой признак\n",
    "\n",
    "features = data_ohe.drop(['Exited'], axis=1)\n",
    "target = data_ohe['Exited']\n",
    "\n",
    "data_train, data_test = train_test_split(data_ohe, test_size=0.4, random_state=12345, stratify=data_ohe['Exited'])\n",
    "data_test, data_valid = train_test_split(data_test, test_size=0.5, random_state=12345)\n",
    "\n",
    "features_train = data_train.drop(['Exited'], axis=1)\n",
    "target_train = data_train['Exited']\n",
    "\n",
    "features_valid = data_valid.drop(['Exited'], axis=1)\n",
    "target_valid = data_valid['Exited']\n",
    "\n",
    "features_test = data_test.drop(['Exited'], axis=1)\n",
    "target_test = data_test['Exited']"
   ]
  },
  {
   "cell_type": "markdown",
   "metadata": {
    "pycharm": {
     "name": "#%% md\n"
    }
   },
   "source": [
    "Все признаки важны, по этому стандартизируем данные что бы минимизировать разброс, т.к алгоритм может посчитать какой-то из признаков более важным."
   ]
  },
  {
   "cell_type": "code",
   "execution_count": 23,
   "metadata": {
    "scrolled": true,
    "pycharm": {
     "name": "#%%\n"
    }
   },
   "outputs": [
    {
     "data": {
      "text/html": [
       "<div>\n",
       "<style scoped>\n",
       "    .dataframe tbody tr th:only-of-type {\n",
       "        vertical-align: middle;\n",
       "    }\n",
       "\n",
       "    .dataframe tbody tr th {\n",
       "        vertical-align: top;\n",
       "    }\n",
       "\n",
       "    .dataframe thead th {\n",
       "        text-align: right;\n",
       "    }\n",
       "</style>\n",
       "<table border=\"1\" class=\"dataframe\">\n",
       "  <thead>\n",
       "    <tr style=\"text-align: right;\">\n",
       "      <th></th>\n",
       "      <th>Age</th>\n",
       "      <th>Tenure</th>\n",
       "      <th>CreditScore</th>\n",
       "      <th>Balance</th>\n",
       "      <th>EstimatedSalary</th>\n",
       "    </tr>\n",
       "  </thead>\n",
       "  <tbody>\n",
       "    <tr>\n",
       "      <th>2837</th>\n",
       "      <td>0.953312</td>\n",
       "      <td>0.287258</td>\n",
       "      <td>-1.040434</td>\n",
       "      <td>0.774657</td>\n",
       "      <td>-0.119110</td>\n",
       "    </tr>\n",
       "    <tr>\n",
       "      <th>9925</th>\n",
       "      <td>-0.095244</td>\n",
       "      <td>0.642922</td>\n",
       "      <td>0.454006</td>\n",
       "      <td>1.910540</td>\n",
       "      <td>-0.258658</td>\n",
       "    </tr>\n",
       "    <tr>\n",
       "      <th>8746</th>\n",
       "      <td>-0.476537</td>\n",
       "      <td>0.998585</td>\n",
       "      <td>0.103585</td>\n",
       "      <td>0.481608</td>\n",
       "      <td>1.422836</td>\n",
       "    </tr>\n",
       "  </tbody>\n",
       "</table>\n",
       "</div>"
      ],
      "text/plain": [
       "           Age    Tenure  CreditScore   Balance  EstimatedSalary\n",
       "2837  0.953312  0.287258    -1.040434  0.774657        -0.119110\n",
       "9925 -0.095244  0.642922     0.454006  1.910540        -0.258658\n",
       "8746 -0.476537  0.998585     0.103585  0.481608         1.422836"
      ]
     },
     "metadata": {},
     "output_type": "display_data"
    },
    {
     "data": {
      "text/html": [
       "<div>\n",
       "<style scoped>\n",
       "    .dataframe tbody tr th:only-of-type {\n",
       "        vertical-align: middle;\n",
       "    }\n",
       "\n",
       "    .dataframe tbody tr th {\n",
       "        vertical-align: top;\n",
       "    }\n",
       "\n",
       "    .dataframe thead th {\n",
       "        text-align: right;\n",
       "    }\n",
       "</style>\n",
       "<table border=\"1\" class=\"dataframe\">\n",
       "  <thead>\n",
       "    <tr style=\"text-align: right;\">\n",
       "      <th></th>\n",
       "      <th>Age</th>\n",
       "      <th>Tenure</th>\n",
       "      <th>CreditScore</th>\n",
       "      <th>Balance</th>\n",
       "      <th>EstimatedSalary</th>\n",
       "    </tr>\n",
       "  </thead>\n",
       "  <tbody>\n",
       "    <tr>\n",
       "      <th>8035</th>\n",
       "      <td>-0.857830</td>\n",
       "      <td>0.998585</td>\n",
       "      <td>-0.751852</td>\n",
       "      <td>0.257705</td>\n",
       "      <td>0.452454</td>\n",
       "    </tr>\n",
       "    <tr>\n",
       "      <th>369</th>\n",
       "      <td>-0.953153</td>\n",
       "      <td>-1.135397</td>\n",
       "      <td>-0.586949</td>\n",
       "      <td>1.212991</td>\n",
       "      <td>-1.154131</td>\n",
       "    </tr>\n",
       "    <tr>\n",
       "      <th>3812</th>\n",
       "      <td>0.095403</td>\n",
       "      <td>0.642922</td>\n",
       "      <td>-0.257141</td>\n",
       "      <td>1.037286</td>\n",
       "      <td>1.338271</td>\n",
       "    </tr>\n",
       "  </tbody>\n",
       "</table>\n",
       "</div>"
      ],
      "text/plain": [
       "           Age    Tenure  CreditScore   Balance  EstimatedSalary\n",
       "8035 -0.857830  0.998585    -0.751852  0.257705         0.452454\n",
       "369  -0.953153 -1.135397    -0.586949  1.212991        -1.154131\n",
       "3812  0.095403  0.642922    -0.257141  1.037286         1.338271"
      ]
     },
     "metadata": {},
     "output_type": "display_data"
    },
    {
     "data": {
      "text/html": [
       "<div>\n",
       "<style scoped>\n",
       "    .dataframe tbody tr th:only-of-type {\n",
       "        vertical-align: middle;\n",
       "    }\n",
       "\n",
       "    .dataframe tbody tr th {\n",
       "        vertical-align: top;\n",
       "    }\n",
       "\n",
       "    .dataframe thead th {\n",
       "        text-align: right;\n",
       "    }\n",
       "</style>\n",
       "<table border=\"1\" class=\"dataframe\">\n",
       "  <thead>\n",
       "    <tr style=\"text-align: right;\">\n",
       "      <th></th>\n",
       "      <th>Age</th>\n",
       "      <th>Tenure</th>\n",
       "      <th>CreditScore</th>\n",
       "      <th>Balance</th>\n",
       "      <th>EstimatedSalary</th>\n",
       "    </tr>\n",
       "  </thead>\n",
       "  <tbody>\n",
       "    <tr>\n",
       "      <th>6113</th>\n",
       "      <td>-0.285890</td>\n",
       "      <td>-1.135397</td>\n",
       "      <td>-0.556029</td>\n",
       "      <td>-1.219673</td>\n",
       "      <td>0.437216</td>\n",
       "    </tr>\n",
       "    <tr>\n",
       "      <th>760</th>\n",
       "      <td>0.381372</td>\n",
       "      <td>-0.068406</td>\n",
       "      <td>-0.514803</td>\n",
       "      <td>0.921527</td>\n",
       "      <td>1.640143</td>\n",
       "    </tr>\n",
       "    <tr>\n",
       "      <th>1419</th>\n",
       "      <td>0.476696</td>\n",
       "      <td>-1.135397</td>\n",
       "      <td>-1.184724</td>\n",
       "      <td>0.608480</td>\n",
       "      <td>0.624456</td>\n",
       "    </tr>\n",
       "  </tbody>\n",
       "</table>\n",
       "</div>"
      ],
      "text/plain": [
       "           Age    Tenure  CreditScore   Balance  EstimatedSalary\n",
       "6113 -0.285890 -1.135397    -0.556029 -1.219673         0.437216\n",
       "760   0.381372 -0.068406    -0.514803  0.921527         1.640143\n",
       "1419  0.476696 -1.135397    -1.184724  0.608480         0.624456"
      ]
     },
     "metadata": {},
     "output_type": "display_data"
    }
   ],
   "source": [
    "# Отключим вывод предупржедений\n",
    "# Пречислим столбцы для стандартизации признаков\n",
    "# Воспользуемся классом StandardScaler\n",
    "# Выведем на акран\n",
    "\n",
    "pd.options.mode.chained_assignment = None\n",
    "columns = ['Age', 'Tenure', 'CreditScore', 'Balance', 'EstimatedSalary']\n",
    "\n",
    "scaler = StandardScaler()\n",
    "scaler.fit(features_train[columns])\n",
    "\n",
    "features_train[columns] = scaler.transform(features_train[columns])\n",
    "features_valid[columns] = scaler.transform(features_valid[columns])\n",
    "features_test[columns] = scaler.transform(features_test[columns])\n",
    "\n",
    "display(features_train[columns].head(3))\n",
    "display(features_valid[columns].head(3))\n",
    "display(features_test[columns].head(3))"
   ]
  },
  {
   "cell_type": "markdown",
   "metadata": {
    "pycharm": {
     "name": "#%% md\n"
    }
   },
   "source": [
    "### Вывод"
   ]
  },
  {
   "cell_type": "markdown",
   "metadata": {
    "pycharm": {
     "name": "#%% md\n"
    }
   },
   "source": [
    "В датасете присутствовал столбец `Tenure` с пустыми значениям, что бы его заполнить получили медианное значение из группировки по трем столбцам. Категориальные признаки были подготовлены методом прямого кодирования, а данные были стандартизированы.\n",
    "\n",
    "Стандартизация данных необходима для уравновешивания признаков, т.к алгоритм из-за большого разброса может посчитать какой-то из признаков важнее."
   ]
  },
  {
   "cell_type": "markdown",
   "metadata": {
    "pycharm": {
     "name": "#%% md\n"
    }
   },
   "source": [
    "## Исследование задачи"
   ]
  },
  {
   "cell_type": "markdown",
   "metadata": {
    "pycharm": {
     "name": "#%% md\n"
    }
   },
   "source": [
    "Посмотрим на баланс классов, в большинстве задач всегда встречается дисбаланс."
   ]
  },
  {
   "cell_type": "code",
   "execution_count": 24,
   "metadata": {
    "scrolled": true,
    "pycharm": {
     "name": "#%%\n"
    }
   },
   "outputs": [
    {
     "data": {
      "text/plain": [
       "<AxesSubplot:>"
      ]
     },
     "execution_count": 24,
     "metadata": {},
     "output_type": "execute_result"
    },
    {
     "data": {
      "image/png": "[encoded data removed]",
      "text/plain": [
       "<Figure size 432x288 with 1 Axes>"
      ]
     },
     "metadata": {
      "needs_background": "light"
     },
     "output_type": "display_data"
    }
   ],
   "source": [
    "# Используем метод value_counts, с параметром normalize\n",
    "# построим диаграмму\n",
    "\n",
    "class_frequency = data['Exited'].value_counts(normalize=True)\n",
    "class_frequency.plot(kind='bar')"
   ]
  },
  {
   "cell_type": "markdown",
   "metadata": {
    "pycharm": {
     "name": "#%% md\n"
    }
   },
   "source": [
    " Порядка 80% клиентов остаются в банке. Отток клиентов составляет 20%.<br>"
   ]
  },
  {
   "cell_type": "markdown",
   "metadata": {
    "pycharm": {
     "name": "#%% md\n"
    }
   },
   "source": [
    "В первую очередь проверим на дубликаты - это тоже может влиять на баланс классов"
   ]
  },
  {
   "cell_type": "code",
   "execution_count": 25,
   "metadata": {
    "pycharm": {
     "name": "#%%\n"
    }
   },
   "outputs": [
    {
     "name": "stdout",
     "output_type": "stream",
     "text": [
      "Количество дубликатов: 0\n"
     ]
    }
   ],
   "source": [
    "print('Количество дубликатов:', len(data[data.duplicated()]))"
   ]
  },
  {
   "cell_type": "markdown",
   "metadata": {
    "pycharm": {
     "name": "#%% md\n"
    }
   },
   "source": [
    "Проверим модель на адекватность. Для этого построим решающее дерево без учета дисбаланса классов."
   ]
  },
  {
   "cell_type": "code",
   "execution_count": 26,
   "metadata": {
    "pycharm": {
     "name": "#%%\n"
    }
   },
   "outputs": [
    {
     "name": "stdout",
     "output_type": "stream",
     "text": [
      "F1: 0.5406643757159222\n",
      "Accuracy: 0.7995\n"
     ]
    },
    {
     "data": {
      "image/png": "[encoded data removed]",
      "text/plain": [
       "<Figure size 432x288 with 1 Axes>"
      ]
     },
     "metadata": {
      "needs_background": "light"
     },
     "output_type": "display_data"
    }
   ],
   "source": [
    "# используем решающее дерево\n",
    "# Посмотрим на f-меру и accuracy\n",
    "# выведем график\n",
    "\n",
    "model = DecisionTreeClassifier()\n",
    "model.fit(features_train, target_train)\n",
    "\n",
    "predicted_valid = model.predict(features_valid)\n",
    "accuracy_valid = accuracy_score(target_valid, predicted_valid)\n",
    "\n",
    "print(\"F1:\", f1_score(target_valid, predicted_valid))\n",
    "print('Accuracy:', accuracy_valid)\n",
    "\n",
    "predicted_valid = pd.Series(predicted_valid).value_counts(normalize=True)\n",
    "predicted_valid.plot(kind='bar')\n",
    "\n",
    "plt.title('Баланс классов')\n",
    "plt.ylabel('Соотношение')\n",
    "plt.xlabel('Класс 0 и 1')\n",
    "plt.show()"
   ]
  },
  {
   "cell_type": "markdown",
   "metadata": {
    "pycharm": {
     "name": "#%% md\n"
    }
   },
   "source": [
    "Наблюдается дисбаланс, а F - мера 53.3%.  Создадим константную модель для проверки на адекватность."
   ]
  },
  {
   "cell_type": "code",
   "execution_count": 27,
   "metadata": {
    "pycharm": {
     "name": "#%%\n"
    }
   },
   "outputs": [
    {
     "name": "stdout",
     "output_type": "stream",
     "text": [
      "Accuracy: 0.7963\n"
     ]
    }
   ],
   "source": [
    "# создадим константную модель\n",
    "# при помощи библиотеки np и метода randint\n",
    "# размер должен быть такой же как у датасета\n",
    "\n",
    "target_pred_constant = pd.Series(np.random.randint(0, 1, size=(10000)))\n",
    "print('Accuracy:', accuracy_score(target, target_pred_constant))"
   ]
  },
  {
   "cell_type": "markdown",
   "metadata": {
    "pycharm": {
     "name": "#%% md\n"
    }
   },
   "source": [
    "Проверку на адекватность модель не прошла, со всеми нулями в целевом признаке модель может поставить единицу."
   ]
  },
  {
   "cell_type": "markdown",
   "metadata": {
    "pycharm": {
     "name": "#%% md\n"
    }
   },
   "source": [
    "Построим модель «Случайного леса» без учета дисбаланса классов."
   ]
  },
  {
   "cell_type": "code",
   "execution_count": 28,
   "metadata": {
    "pycharm": {
     "name": "#%%\n"
    }
   },
   "outputs": [
    {
     "name": "stdout",
     "output_type": "stream",
     "text": [
      "F1: 0.5915080527086384\n",
      "ROC: 0.8674613602624269\n"
     ]
    }
   ],
   "source": [
    "# Подберем лучшие гиперпараметры для Случайного леса\n",
    "# n_estimators и max_depth\n",
    "# сохраним результаты лучших моделей\n",
    "\n",
    "best_model_random_tree = None\n",
    "best_result = 0\n",
    "best_est = 0\n",
    "best_depth_tree = 0\n",
    "for est in range(120, 210, 10): #range(165, 335, 45):\n",
    "    \n",
    "    for depth in range(1, 16):#range(165, 335, 45):\n",
    "        \n",
    "        model = RandomForestClassifier(random_state=12345, \n",
    "                                        n_estimators=est, max_depth=depth)\n",
    "        model.fit(features_train, target_train)\n",
    "    \n",
    "        predictions_valid = model.predict(features_valid)\n",
    "        result = f1_score(target_valid, predictions_valid) \n",
    "    \n",
    "        if result > best_result:\n",
    "            best_depth_tree = depth\n",
    "            best_est = est\n",
    "            best_result = result\n",
    "            best_model_random_tree = model\n",
    "            \n",
    "        \n",
    "print(\"F1:\", result)\n",
    "\n",
    "probabilities_valid = best_model_random_tree.predict_proba(features_valid)\n",
    "probabilities_one_valid = probabilities_valid[:, 1]\n",
    "auc_roc = roc_auc_score(target_valid, probabilities_one_valid)\n",
    "print('ROC:', auc_roc)"
   ]
  },
  {
   "cell_type": "markdown",
   "metadata": {
    "pycharm": {
     "name": "#%% md\n"
    }
   },
   "source": [
    "### Вывод"
   ]
  },
  {
   "cell_type": "markdown",
   "metadata": {
    "pycharm": {
     "name": "#%% md\n"
    }
   },
   "source": [
    "При построении модели Случайного леса без борьбы с дисбалансом была достигнута f-мерв в **59.1%**, а ROC-AUC **86.7%**, остальные модели показали себя хуже."
   ]
  },
  {
   "cell_type": "markdown",
   "metadata": {
    "pycharm": {
     "name": "#%% md\n"
    }
   },
   "source": [
    "## Борьба с дисбалансом"
   ]
  },
  {
   "cell_type": "code",
   "execution_count": 29,
   "metadata": {
    "pycharm": {
     "name": "#%%\n"
    }
   },
   "outputs": [],
   "source": [
    "# Функция для построение Roc-кривой\n",
    "\n",
    "def func_roc_curve(target, probabilities_one):\n",
    "    \n",
    "    fpr, tpr, thresholds = roc_curve(target, probabilities_one)\n",
    "\n",
    "    plt.figure()\n",
    "\n",
    "    plt.plot(fpr, tpr)\n",
    "    plt.plot([0, 1], [0, 1], linestyle='--')\n",
    "\n",
    "    plt.xlim([0.0, 1.0])\n",
    "    plt.ylim([0.0, 1.0])\n",
    "\n",
    "    plt.xlabel('False Positive Rate')\n",
    "    plt.ylabel('True Positive Rate')\n",
    "    plt.title('ROC-кривая')\n",
    "\n",
    "    auc_roc = roc_auc_score(target, probabilities_one)\n",
    "    print('ROC:', auc_roc)"
   ]
  },
  {
   "cell_type": "markdown",
   "metadata": {
    "pycharm": {
     "name": "#%% md\n"
    }
   },
   "source": [
    "### Балансировка классов"
   ]
  },
  {
   "cell_type": "markdown",
   "metadata": {
    "pycharm": {
     "name": "#%% md\n"
    }
   },
   "source": [
    "Обучим разные модели и найдем лучшую. Обучим модель «Решающее дерево» с учетом дисбаланса."
   ]
  },
  {
   "cell_type": "code",
   "execution_count": 30,
   "metadata": {
    "pycharm": {
     "name": "#%%\n"
    }
   },
   "outputs": [
    {
     "data": {
      "image/png": "[encoded data removed]",
      "text/plain": [
       "<Figure size 432x288 with 1 Axes>"
      ]
     },
     "metadata": {
      "needs_background": "light"
     },
     "output_type": "display_data"
    },
    {
     "name": "stdout",
     "output_type": "stream",
     "text": [
      "F1: 0.5716911764705882\n"
     ]
    }
   ],
   "source": [
    "# Напишем цикл в котором найдем лучшую модель решащего дерева\n",
    "# запомним лучшую модель\n",
    "# построим график зависимости f-меры от максимальной глубины \n",
    "\n",
    "best_depth = 0\n",
    "f1 = 0\n",
    "best_model = None\n",
    "\n",
    "depth_levels = []\n",
    "f1_levels = []\n",
    "for depth in range (2, 32, 2):\n",
    "    for\n",
    "    model = DecisionTreeClassifier(class_weight='balanced', max_depth=depth, random_state=12345)\n",
    "    model.fit(features_train, target_train)\n",
    "    \n",
    "    predicted_valid = model.predict(features_valid)\n",
    "    \n",
    "    f1_current = f1_score(target_valid, predicted_valid)\n",
    "  \n",
    "    depth_levels.append(depth)\n",
    "    f1_levels.append(f1_current)\n",
    "    \n",
    "    if f1_current > f1:\n",
    "        f1 = f1_current\n",
    "        best_dept = depth\n",
    "        best_model = model\n",
    "\n",
    "plt.plot(depth_levels, f1_levels, label='Accuracy об. выборки')\n",
    "\n",
    "plt.title('F-мера в зависмости от уровня')\n",
    "plt.ylabel('F-мера')\n",
    "plt.xlabel('Depth level')\n",
    "plt.show()\n",
    "\n",
    "print('F1:', f1)"
   ]
  },
  {
   "cell_type": "markdown",
   "metadata": {
    "pycharm": {
     "name": "#%% md\n"
    }
   },
   "source": [
    "При взвешивании классов f-мера повысилась до **57.1%**."
   ]
  },
  {
   "cell_type": "code",
   "execution_count": 31,
   "metadata": {
    "pycharm": {
     "name": "#%%\n"
    }
   },
   "outputs": [
    {
     "name": "stdout",
     "output_type": "stream",
     "text": [
      "ROC: 0.8284534826644958\n"
     ]
    },
    {
     "data": {
      "image/png": "[encoded data removed]",
      "text/plain": [
       "<Figure size 432x288 with 1 Axes>"
      ]
     },
     "metadata": {
      "needs_background": "light"
     },
     "output_type": "display_data"
    }
   ],
   "source": [
    "# выведем Roc-кривую для решающего дерева\n",
    "\n",
    "probabilities_valid = best_model.predict_proba(features_valid)\n",
    "probabilities_one_valid = probabilities_valid[:, 1]\n",
    "func_roc_curve(target_valid, probabilities_one_valid)"
   ]
  },
  {
   "cell_type": "markdown",
   "metadata": {
    "pycharm": {
     "name": "#%% md\n"
    }
   },
   "source": [
    "Обучим модель «Случайный лес» с учетом дисбаланса."
   ]
  },
  {
   "cell_type": "code",
   "execution_count": 32,
   "metadata": {
    "pycharm": {
     "name": "#%%\n"
    }
   },
   "outputs": [
    {
     "name": "stdout",
     "output_type": "stream",
     "text": [
      "F1: 0.645021645021645\n",
      "CPU times: user 24.9 s, sys: 115 ms, total: 25 s\n",
      "Wall time: 25.2 s\n"
     ]
    }
   ],
   "source": [
    "%%time\n",
    "\n",
    "# Обьявим модель и найдем параметры \n",
    "# переададим их в GridSearchCV \n",
    "#установим параметр cv 8 (на сколько частей разбивать данные)\n",
    "\n",
    "model = RandomForestClassifier()\n",
    "\n",
    "params = {\n",
    "    'class_weight': ['balanced'],\n",
    "    'random_state': [12345],\n",
    "    'n_estimators': range(40, 180, 20),\n",
    "    'max_depth': [8]\n",
    "}\n",
    "\n",
    "gs = GridSearchCV(model, params, cv=8, scoring='f1')\n",
    "\n",
    "gs.fit(features_train, target_train)\n",
    "predicted_valid = gs.best_estimator_.predict(features_valid)\n",
    "gs_random_tree = gs\n",
    "print(\"F1:\", f1_score(target_valid, predicted_valid))"
   ]
  },
  {
   "cell_type": "markdown",
   "metadata": {
    "pycharm": {
     "name": "#%% md\n"
    }
   },
   "source": [
    "При взвешивании классов и использовании кросс валидации f-мера повысилась до **64.5%**."
   ]
  },
  {
   "cell_type": "markdown",
   "metadata": {
    "pycharm": {
     "name": "#%% md\n"
    }
   },
   "source": [
    "Построим Roc-кривую. Для лучшей модели Случайного леса."
   ]
  },
  {
   "cell_type": "code",
   "execution_count": 33,
   "metadata": {
    "pycharm": {
     "name": "#%%\n"
    }
   },
   "outputs": [
    {
     "name": "stdout",
     "output_type": "stream",
     "text": [
      "ROC: 0.871947131500814\n"
     ]
    },
    {
     "data": {
      "image/png": "[encoded data removed]",
      "text/plain": [
       "<Figure size 432x288 with 1 Axes>"
      ]
     },
     "metadata": {
      "needs_background": "light"
     },
     "output_type": "display_data"
    }
   ],
   "source": [
    "# выведем Roc-кривую для случайного леса\n",
    "\n",
    "probabilities_valid = gs.best_estimator_.predict_proba(features_valid)\n",
    "probabilities_one_valid = probabilities_valid[:, 1]\n",
    "\n",
    "func_roc_curve(target_valid, probabilities_one_valid)"
   ]
  },
  {
   "cell_type": "markdown",
   "metadata": {
    "pycharm": {
     "name": "#%% md\n"
    }
   },
   "source": [
    "Обучим модель «Логистическая регрессия» с учетом дисбаланса."
   ]
  },
  {
   "cell_type": "code",
   "execution_count": 34,
   "metadata": {
    "pycharm": {
     "name": "#%%\n"
    }
   },
   "outputs": [
    {
     "name": "stdout",
     "output_type": "stream",
     "text": [
      "F1: 0.5068493150684931\n"
     ]
    }
   ],
   "source": [
    "# вызовем класс с гиперпараметрами\n",
    "# обучим модель методом fit\n",
    "\n",
    "model = LogisticRegression(class_weight='balanced', random_state=12345, solver='liblinear')\n",
    "\n",
    "model.fit(features_train, target_train)\n",
    "predicted_valid = model.predict(features_valid)\n",
    "print(\"F1:\", f1_score(target_valid, predicted_valid))"
   ]
  },
  {
   "cell_type": "markdown",
   "metadata": {
    "pycharm": {
     "name": "#%% md\n"
    }
   },
   "source": [
    "При взвешивании классов и использовании кросс валидации f-мера повысилась до **50.6%**."
   ]
  },
  {
   "cell_type": "code",
   "execution_count": 35,
   "metadata": {
    "pycharm": {
     "name": "#%%\n"
    }
   },
   "outputs": [
    {
     "name": "stdout",
     "output_type": "stream",
     "text": [
      "ROC: 0.7731105138396706\n"
     ]
    },
    {
     "data": {
      "image/png": "[encoded data removed]",
      "text/plain": [
       "<Figure size 432x288 with 1 Axes>"
      ]
     },
     "metadata": {
      "needs_background": "light"
     },
     "output_type": "display_data"
    }
   ],
   "source": [
    "# выведем Roc-кривую для Логистической регрессии\n",
    "\n",
    "probabilities_valid = model.predict_proba(features_valid)\n",
    "probabilities_one_valid = probabilities_valid[:, 1]\n",
    "\n",
    "func_roc_curve(target_valid, probabilities_one_valid)"
   ]
  },
  {
   "cell_type": "markdown",
   "metadata": {
    "pycharm": {
     "name": "#%% md\n"
    }
   },
   "source": [
    "### Увеличение выборки"
   ]
  },
  {
   "cell_type": "code",
   "execution_count": 36,
   "metadata": {
    "pycharm": {
     "name": "#%%\n"
    }
   },
   "outputs": [],
   "source": [
    "# Функция для Решающего дерева\n",
    "def func_decision_tree (stop, start, iteration, features, target, features_valid, target_valid):\n",
    "    f1 = 0\n",
    "    model = None\n",
    "    best_model = None\n",
    "    for depth in range(stop, start, iteration):\n",
    "\n",
    "        model = DecisionTreeClassifier(max_depth=depth, random_state=12345)\n",
    "        model.fit(features_upsampled, target_upsampled)\n",
    "\n",
    "        predicted_valid = model.predict(features_valid)\n",
    "\n",
    "        f1_current = f1_score(target_valid, predicted_valid)\n",
    "\n",
    "        if f1_current > f1:\n",
    "            f1 = f1_current\n",
    "            best_model = model \n",
    "            \n",
    "    probabilities_valid = best_model.predict_proba(features_valid)\n",
    "    probabilities_one_valid = probabilities_valid[:, 1]\n",
    "\n",
    "    func_roc_curve(target_valid, probabilities_one_valid)    \n",
    "    print('F1:', f1)  \n",
    "    \n",
    "# Функция для Случайного леса \n",
    "def func_random_tree (stop, start, iteration, depth, features, target, features_valid, target_valid):    \n",
    "\n",
    "    model = RandomForestClassifier()\n",
    "\n",
    "    params = {\n",
    "    #   'class_weight': ['balanced'],\n",
    "        'random_state': [12345],\n",
    "        'n_estimators': range(stop, start, iteration),\n",
    "        'max_depth': [depth]\n",
    "    }\n",
    "\n",
    "    gs = GridSearchCV(model, params, cv=8)\n",
    "\n",
    "    gs.fit(features, target)\n",
    "    predicted_valid = gs.best_estimator_.predict(features_valid)\n",
    "    print(\"F1:\", f1_score(target_valid, predicted_valid))\n",
    "    \n",
    "    probabilities_valid = gs.best_estimator_.predict_proba(features_valid)\n",
    "    probabilities_one_valid = probabilities_valid[:, 1]\n",
    "\n",
    "    func_roc_curve(target_valid, probabilities_one_valid)\n",
    "\n",
    "# Функция для Логистической регрессии \n",
    "def func_logic_regression(features, target, features_valid, target_valid):\n",
    "    \n",
    "    model = LogisticRegression(random_state=12345, solver='liblinear')\n",
    "\n",
    "    model.fit(features, target)\n",
    "    predicted_valid = model.predict(features_valid)\n",
    "    print(\"F1:\", f1_score(target_valid, predicted_valid))\n",
    "    \n",
    "    probabilities_valid = model.predict_proba(features_valid)\n",
    "    probabilities_one_valid = probabilities_valid[:, 1]\n",
    "\n",
    "    func_roc_curve(target_valid, probabilities_one_valid)\n"
   ]
  },
  {
   "cell_type": "markdown",
   "metadata": {
    "pycharm": {
     "name": "#%% md\n"
    }
   },
   "source": [
    "Для борьбы с дисбалансом используем технику увеличения выборки «upsampling»."
   ]
  },
  {
   "cell_type": "code",
   "execution_count": 37,
   "metadata": {
    "pycharm": {
     "name": "#%%\n"
    }
   },
   "outputs": [
    {
     "name": "stdout",
     "output_type": "stream",
     "text": [
      "Размер features_upsampled: (9666, 11)\n",
      "Размер target_upsampled: (9666,)\n"
     ]
    }
   ],
   "source": [
    "# Разделим тестовую выборку на отрицательные и положительные объекты\n",
    "# скопируем repeat раз полозительную выборку\n",
    "# перемешаем функцией shuffle\n",
    "# выведем размер выборок\n",
    "\n",
    "features_positive = features_train[target_train == 1]\n",
    "features_negative = features_train[target_train == 0]\n",
    "\n",
    "target_positive = target_train[target_train == 1]\n",
    "target_negative = target_train[target_train == 0]\n",
    "\n",
    "repeat = 4\n",
    "features_upsampled = shuffle(\n",
    "    pd.concat([features_negative] + [features_positive] * repeat), random_state=12345)\n",
    "target_upsampled = shuffle(\n",
    "    pd.concat([target_negative] + [target_positive] * repeat), random_state=12345)\n",
    "\n",
    "print('Размер features_upsampled:', features_upsampled.shape)\n",
    "print('Размер target_upsampled:',  target_upsampled.shape)"
   ]
  },
  {
   "cell_type": "code",
   "execution_count": 38,
   "metadata": {
    "pycharm": {
     "name": "#%%\n"
    }
   },
   "outputs": [
    {
     "data": {
      "text/plain": [
       "<AxesSubplot:>"
      ]
     },
     "execution_count": 38,
     "metadata": {},
     "output_type": "execute_result"
    },
    {
     "data": {
      "image/png": "[encoded data removed]",
      "text/plain": [
       "<Figure size 432x288 with 1 Axes>"
      ]
     },
     "metadata": {
      "needs_background": "light"
     },
     "output_type": "display_data"
    }
   ],
   "source": [
    "# Посмотрим на дисбаланс после замножения\n",
    "class_frequency = target_upsampled.value_counts(normalize=True)\n",
    "class_frequency.plot(kind='bar')"
   ]
  },
  {
   "cell_type": "code",
   "execution_count": 39,
   "metadata": {
    "pycharm": {
     "name": "#%%\n"
    }
   },
   "outputs": [
    {
     "name": "stdout",
     "output_type": "stream",
     "text": [
      "ROC: 0.815352336940906\n",
      "F1: 0.5757847533632287\n"
     ]
    },
    {
     "data": {
      "image/png": "[encoded data removed]",
      "text/plain": [
       "<Figure size 432x288 with 1 Axes>"
      ]
     },
     "metadata": {
      "needs_background": "light"
     },
     "output_type": "display_data"
    }
   ],
   "source": [
    "# Вызовем функцию дря решающего дерева\n",
    "func_decision_tree (1, 16, 1, features_upsampled, target_upsampled, features_valid, target_valid)    "
   ]
  },
  {
   "cell_type": "code",
   "execution_count": 40,
   "metadata": {
    "pycharm": {
     "name": "#%%\n"
    }
   },
   "outputs": [
    {
     "name": "stdout",
     "output_type": "stream",
     "text": [
      "F1: 0.6402439024390244\n",
      "ROC: 0.8706182358011684\n",
      "CPU times: user 17.1 s, sys: 43.2 ms, total: 17.1 s\n",
      "Wall time: 17.2 s\n"
     ]
    },
    {
     "data": {
      "image/png": "[encoded data removed]",
      "text/plain": [
       "<Figure size 432x288 with 1 Axes>"
      ]
     },
     "metadata": {
      "needs_background": "light"
     },
     "output_type": "display_data"
    }
   ],
   "source": [
    "%%time\n",
    "# Вызовем функцию для Случайного леса\n",
    "# замерим время выполнения\n",
    "func_random_tree (90, 180, 30, 8, features_upsampled, target_upsampled, features_valid, target_valid)"
   ]
  },
  {
   "cell_type": "code",
   "execution_count": 41,
   "metadata": {
    "pycharm": {
     "name": "#%%\n"
    }
   },
   "outputs": [
    {
     "name": "stdout",
     "output_type": "stream",
     "text": [
      "F1: 0.5050505050505051\n",
      "ROC: 0.7731224858730006\n"
     ]
    },
    {
     "data": {
      "image/png": "[encoded data removed]",
      "text/plain": [
       "<Figure size 432x288 with 1 Axes>"
      ]
     },
     "metadata": {
      "needs_background": "light"
     },
     "output_type": "display_data"
    }
   ],
   "source": [
    "# Вызовем функцию для Логист. регрессии\n",
    "func_logic_regression(features_upsampled, target_upsampled, features_valid, target_valid) "
   ]
  },
  {
   "cell_type": "markdown",
   "metadata": {
    "pycharm": {
     "name": "#%% md\n"
    }
   },
   "source": [
    "### Уменьшение выборки"
   ]
  },
  {
   "cell_type": "markdown",
   "metadata": {
    "pycharm": {
     "name": "#%% md\n"
    }
   },
   "source": [
    "Для борьбы с дисбалансом используем технику увеличения выборки «downsampling»."
   ]
  },
  {
   "cell_type": "code",
   "execution_count": 42,
   "metadata": {
    "pycharm": {
     "name": "#%%\n"
    }
   },
   "outputs": [
    {
     "name": "stdout",
     "output_type": "stream",
     "text": [
      "Размер features_upsampled: (2464, 11)\n",
      "Размер target_upsampled: (2464,)\n"
     ]
    }
   ],
   "source": [
    "# Выборка берется из пункта 3.2\n",
    "# уменьшим негативный класс\n",
    "# укажем долю для метода sample \n",
    "\n",
    "fraction = 0.26\n",
    "\n",
    "features_downsampling = shuffle(\n",
    "    pd.concat([features_negative.sample(frac=fraction, random_state=12345)] + [features_positive]), \n",
    "    random_state=12345)\n",
    "\n",
    "target_downsampling = shuffle(\n",
    "    pd.concat([target_negative.sample(frac=fraction, random_state=12345)] + [target_positive]), \n",
    "    random_state=12345)\n",
    "\n",
    "print('Размер features_upsampled:', features_downsampling.shape)\n",
    "print('Размер target_upsampled:',  target_downsampling.shape)"
   ]
  },
  {
   "cell_type": "code",
   "execution_count": 43,
   "metadata": {
    "pycharm": {
     "name": "#%%\n"
    }
   },
   "outputs": [
    {
     "data": {
      "text/plain": [
       "<AxesSubplot:>"
      ]
     },
     "execution_count": 43,
     "metadata": {},
     "output_type": "execute_result"
    },
    {
     "data": {
      "image/png": "[encoded data removed]",
      "text/plain": [
       "<Figure size 432x288 with 1 Axes>"
      ]
     },
     "metadata": {
      "needs_background": "light"
     },
     "output_type": "display_data"
    }
   ],
   "source": [
    "# Посмотрим на дисбаланс после замножения\n",
    "class_frequency = target_downsampling.value_counts(normalize=True)\n",
    "class_frequency.plot(kind='bar')"
   ]
  },
  {
   "cell_type": "code",
   "execution_count": 44,
   "metadata": {
    "pycharm": {
     "name": "#%%\n"
    }
   },
   "outputs": [
    {
     "name": "stdout",
     "output_type": "stream",
     "text": [
      "ROC: 0.815352336940906\n",
      "F1: 0.5757847533632287\n"
     ]
    },
    {
     "data": {
      "image/png": "[encoded data removed]",
      "text/plain": [
       "<Figure size 432x288 with 1 Axes>"
      ]
     },
     "metadata": {
      "needs_background": "light"
     },
     "output_type": "display_data"
    }
   ],
   "source": [
    "# Вызовем функцию дря решающего дерева\n",
    "func_decision_tree(1, 16, 1, features_downsampling, target_downsampling, features_valid, target_valid)"
   ]
  },
  {
   "cell_type": "code",
   "execution_count": 45,
   "metadata": {
    "pycharm": {
     "name": "#%%\n"
    }
   },
   "outputs": [
    {
     "name": "stdout",
     "output_type": "stream",
     "text": [
      "F1: 0.6323809523809524\n",
      "ROC: 0.8660254645148933\n"
     ]
    },
    {
     "data": {
      "image/png": "[encoded data removed]",
      "text/plain": [
       "<Figure size 432x288 with 1 Axes>"
      ]
     },
     "metadata": {
      "needs_background": "light"
     },
     "output_type": "display_data"
    }
   ],
   "source": [
    "# Вызовем функцию дря случайного леса\n",
    "func_random_tree (90, 180, 30, 8, features_downsampling, target_downsampling, features_valid, target_valid)"
   ]
  },
  {
   "cell_type": "code",
   "execution_count": 46,
   "metadata": {
    "pycharm": {
     "name": "#%%\n"
    }
   },
   "outputs": [
    {
     "name": "stdout",
     "output_type": "stream",
     "text": [
      "F1: 0.5146299483648881\n",
      "ROC: 0.7725403457523226\n"
     ]
    },
    {
     "data": {
      "image/png": "[encoded data removed]",
      "text/plain": [
       "<Figure size 432x288 with 1 Axes>"
      ]
     },
     "metadata": {
      "needs_background": "light"
     },
     "output_type": "display_data"
    }
   ],
   "source": [
    "# Вызовем функцию для Логист. регрессии\n",
    "func_logic_regression(features_downsampling, target_downsampling, features_valid, target_valid) "
   ]
  },
  {
   "cell_type": "markdown",
   "metadata": {
    "pycharm": {
     "name": "#%% md\n"
    }
   },
   "source": [
    "### Вывод"
   ]
  },
  {
   "cell_type": "markdown",
   "metadata": {
    "pycharm": {
     "name": "#%% md\n"
    }
   },
   "source": [
    "Балансировка классов с кросс валидацией показывает лучшие результаты на модели «Случайного леса». Следом идет модель «Решающего дерева» и на последнем месте модель «Логистическая регрессия». Увеличение выборки и Уменьшение выборки показали результаты хуже.\n",
    "В качестве примера возьмем лучшую модель:\n",
    "\n",
    "* Балансировка классов, модель «Случайного леса» f-мера **64.5%**\n",
    "* Увеличение выборки, модель «Случайного леса» f-мера **64.0%** \n",
    "* Уменьшение выборки, модель «Случайного леса» f-мера **63.2%**"
   ]
  },
  {
   "cell_type": "markdown",
   "metadata": {
    "pycharm": {
     "name": "#%% md\n"
    }
   },
   "source": [
    "## Тестирование модели"
   ]
  },
  {
   "cell_type": "markdown",
   "metadata": {
    "pycharm": {
     "name": "#%% md\n"
    }
   },
   "source": [
    "Протестируем лучшую модель «Случайный лес». Для этого обьеденим тестовые и валидационные данные."
   ]
  },
  {
   "cell_type": "code",
   "execution_count": 47,
   "metadata": {
    "pycharm": {
     "name": "#%%\n"
    }
   },
   "outputs": [
    {
     "name": "stdout",
     "output_type": "stream",
     "text": [
      "F1: 0.6098964326812428\n",
      "ROC: 0.8554422931114781\n"
     ]
    },
    {
     "data": {
      "image/png": "[encoded data removed]",
      "text/plain": [
       "<Figure size 432x288 with 1 Axes>"
      ]
     },
     "metadata": {
      "needs_background": "light"
     },
     "output_type": "display_data"
    }
   ],
   "source": [
    "# обьеденим тестовую и валидационую выборку\n",
    "# предскажем и выведем f-меру на экран\n",
    "\n",
    "features_total = pd.concat([features_valid, features_test], ignore_index=True)\n",
    "target_total = pd.concat([target_valid, target_test], ignore_index=True)\n",
    "\n",
    "predicted_valid = gs_random_tree.best_estimator_.predict(features_test)\n",
    "print(\"F1:\", f1_score(target_test, predicted_valid))\n",
    "\n",
    "probabilities_valid = gs_random_tree.best_estimator_.predict_proba(features_test)\n",
    "probabilities_one_valid = probabilities_valid[:, 1]\n",
    " \n",
    "func_roc_curve(target_test, probabilities_one_valid)"
   ]
  },
  {
   "cell_type": "markdown",
   "metadata": {
    "pycharm": {
     "name": "#%% md\n"
    }
   },
   "source": [
    "## Вывод"
   ]
  },
  {
   "cell_type": "markdown",
   "metadata": {
    "pycharm": {
     "name": "#%% md\n"
    }
   },
   "source": [
    "При борьбе с дисбалансом были исследованы три метода «Балансировка классов», «Увеличение выборки», «Уменьшение выборки». Для каждого из метода найдена F-мера. Данные приведены в таблице:\n",
    "\n",
    "| Модели                  | F-мера, Балансировка классов            | F-мера, Увеличение выборки | F-мера, Уменьшение выборки               |  \n",
    "| :-------------------    | -------------------:| ---------------:|---------------:|   \n",
    "| Решающее дерево         | 57.1%               | 57.5%         | 57.5%           | \n",
    "| Случайный лес           | 64.5%               | 64%           | 63.2%           |\n",
    "| Логистическая регрессия | 59.1%               | 50.5%         | 51.4%           |\n",
    "\n",
    "\n",
    "При «Балансировке классов» для всех трех моделей использовался гиперпараметр `class_weight='balanced'`, а для модели «Случайный лес» во всех методах использовалась кросс валидация.\n",
    "\n",
    "Методы «Увеличение выборки», «Уменьшение выборки» замножали меньший класс или соответсвено отбрасывали больший. По сравнению с Балансировкой классов показали результаты немного хуже.\n",
    "\n",
    "«Увеличение выборки» и «Уменьшение выборки» не рекомендуется использовать в качестве борьбы с дисбалансом. При «Увеличение выборки» создается много искусственных данных, а при уменьшении есть риски недообучения.\n",
    "\n",
    "Была рассмотрена метрика ROC-AUC и построена ROC-кривая, чем значение метрики ближе к единице тем лучше. Данные в таблице ниже: \n",
    "\n",
    "| Модели                  | ROC-AUC, Балансировка классов            | ROC-AUC, Увеличение выборки | ROC-AUC, Уменьшение выборки               |  \n",
    "| :-------------------    | -------------------:| ---------------:|---------------:|   \n",
    "| Решающее дерево         | 82.8%               | 81.5%          | 86.6%           | \n",
    "| Случайный лес           | 87.1%               | 87%            | 77.2%          |\n",
    "| Логистическая регрессия | 77.3%               | 77.3%          | 85.5%          |\n",
    "\n",
    "\n",
    "На последнем этапе тестирования лучшей модели «Случайного леса» f-мера достигла показателей **61.4%**, а ROC-AUC **85.5%**.\n",
    "\n",
    "ROC-AUC устойчива к дисбалансу, по этому лучше всего сначала смотреть на эту метрику, а потому на f-меру.\n",
    "\n",
    "Построим график важности факторов лучшей модели."
   ]
  },
  {
   "cell_type": "code",
   "execution_count": 48,
   "metadata": {
    "pycharm": {
     "name": "#%%\n"
    }
   },
   "outputs": [
    {
     "data": {
      "text/plain": [
       "<AxesSubplot:>"
      ]
     },
     "execution_count": 48,
     "metadata": {},
     "output_type": "execute_result"
    },
    {
     "data": {
      "image/png": "[encoded data removed]",
      "text/plain": [
       "<Figure size 432x288 with 1 Axes>"
      ]
     },
     "metadata": {
      "needs_background": "light"
     },
     "output_type": "display_data"
    }
   ],
   "source": [
    "feature_names = [f\"{i}\" for i in features]\n",
    "\n",
    "importances = gs_random_tree.best_estimator_.feature_importances_\n",
    "forest_importances = pd.Series(importances, index=feature_names)\n",
    "\n",
    "forest_importances.plot(kind='bar')"
   ]
  },
  {
   "cell_type": "markdown",
   "metadata": {
    "pycharm": {
     "name": "#%% md\n"
    }
   },
   "source": [
    "Максимальное влияние на модель оказывает признак `Возвраст`, `Количество продуктов`, `Баланс`."
   ]
  },
  {
   "cell_type": "markdown",
   "metadata": {
    "pycharm": {
     "name": "#%% md\n"
    }
   },
   "source": [
    "## Чек-лист готовности проекта"
   ]
  },
  {
   "cell_type": "markdown",
   "metadata": {
    "pycharm": {
     "name": "#%% md\n"
    }
   },
   "source": [
    "Поставьте 'x' в выполненных пунктах. Далее нажмите Shift+Enter."
   ]
  },
  {
   "cell_type": "markdown",
   "metadata": {
    "pycharm": {
     "name": "#%% md\n"
    }
   },
   "source": [
    "- [x]  Jupyter Notebook открыт\n",
    "- [x]  Весь код выполняется без ошибок\n",
    "- [x]  Ячейки с кодом расположены в порядке исполнения\n",
    "- [x]  Выполнен шаг 1: данные подготовлены\n",
    "- [x]  Выполнен шаг 2: задача исследована\n",
    "    - [x]  Исследован баланс классов\n",
    "    - [x]  Изучены модели без учёта дисбаланса\n",
    "    - [x]  Написаны выводы по результатам исследования\n",
    "- [ ]  Выполнен шаг 3: учтён дисбаланс\n",
    "    - [x]  Применено несколько способов борьбы с дисбалансом\n",
    "    - [x]  Написаны выводы по результатам исследования\n",
    "- [x]  Выполнен шаг 4: проведено тестирование\n",
    "- [x]  Удалось достичь *F1*-меры не менее 0.59\n",
    "- [x]  Исследована метрика *AUC-ROC*"
   ]
  }
 ],
 "metadata": {
  "ExecuteTimeLog": [
   {
    "duration": 1258,
    "start_time": "2022-08-24T07:53:54.132Z"
   },
   {
    "duration": 173,
    "start_time": "2022-08-24T07:58:58.095Z"
   },
   {
    "duration": 61,
    "start_time": "2022-08-24T07:59:27.436Z"
   },
   {
    "duration": 74,
    "start_time": "2022-08-24T07:59:34.599Z"
   },
   {
    "duration": 224,
    "start_time": "2022-08-24T09:09:44.885Z"
   },
   {
    "duration": 238,
    "start_time": "2022-08-24T09:09:54.129Z"
   },
   {
    "duration": 30,
    "start_time": "2022-08-24T09:11:34.114Z"
   },
   {
    "duration": 3,
    "start_time": "2022-08-24T09:37:27.885Z"
   },
   {
    "duration": 1418,
    "start_time": "2022-08-25T12:35:13.175Z"
   },
   {
    "duration": 105,
    "start_time": "2022-08-25T12:44:33.579Z"
   },
   {
    "duration": 9,
    "start_time": "2022-08-25T12:44:42.128Z"
   },
   {
    "duration": 9,
    "start_time": "2022-08-25T12:44:46.000Z"
   },
   {
    "duration": 188,
    "start_time": "2022-08-25T12:44:49.067Z"
   },
   {
    "duration": 24,
    "start_time": "2022-08-25T12:44:52.289Z"
   },
   {
    "duration": 9,
    "start_time": "2022-08-25T12:44:54.776Z"
   },
   {
    "duration": 11,
    "start_time": "2022-08-25T12:44:57.401Z"
   },
   {
    "duration": 12,
    "start_time": "2022-08-25T12:45:43.898Z"
   },
   {
    "duration": 14,
    "start_time": "2022-08-25T12:46:03.929Z"
   },
   {
    "duration": 13,
    "start_time": "2022-08-25T12:46:06.296Z"
   },
   {
    "duration": 9,
    "start_time": "2022-08-25T12:46:13.775Z"
   },
   {
    "duration": 8,
    "start_time": "2022-08-25T12:46:26.664Z"
   },
   {
    "duration": 9,
    "start_time": "2022-08-25T12:46:42.512Z"
   },
   {
    "duration": 22,
    "start_time": "2022-08-25T12:46:59.715Z"
   },
   {
    "duration": 7,
    "start_time": "2022-08-25T12:47:06.631Z"
   },
   {
    "duration": 29,
    "start_time": "2022-08-25T12:47:08.724Z"
   },
   {
    "duration": 38,
    "start_time": "2022-08-25T12:47:10.984Z"
   },
   {
    "duration": 20,
    "start_time": "2022-08-25T12:47:17.575Z"
   },
   {
    "duration": 12,
    "start_time": "2022-08-25T12:47:19.729Z"
   },
   {
    "duration": 9,
    "start_time": "2022-08-25T12:49:27.287Z"
   },
   {
    "duration": 9,
    "start_time": "2022-08-25T12:49:31.192Z"
   },
   {
    "duration": 10,
    "start_time": "2022-08-25T12:50:15.729Z"
   },
   {
    "duration": 10,
    "start_time": "2022-08-25T12:50:25.729Z"
   },
   {
    "duration": 31,
    "start_time": "2022-08-25T12:51:10.661Z"
   },
   {
    "duration": 10,
    "start_time": "2022-08-25T12:51:46.472Z"
   },
   {
    "duration": 10,
    "start_time": "2022-08-25T12:51:58.615Z"
   },
   {
    "duration": 10,
    "start_time": "2022-08-25T12:53:20.253Z"
   },
   {
    "duration": 9,
    "start_time": "2022-08-25T12:53:27.853Z"
   },
   {
    "duration": 9,
    "start_time": "2022-08-25T12:53:38.718Z"
   },
   {
    "duration": 11,
    "start_time": "2022-08-25T12:53:44.659Z"
   },
   {
    "duration": 11,
    "start_time": "2022-08-25T12:53:53.571Z"
   },
   {
    "duration": 7,
    "start_time": "2022-08-25T12:54:03.765Z"
   },
   {
    "duration": 10,
    "start_time": "2022-08-25T12:54:12.126Z"
   },
   {
    "duration": 10,
    "start_time": "2022-08-25T12:54:32.877Z"
   },
   {
    "duration": 10,
    "start_time": "2022-08-25T12:54:40.116Z"
   },
   {
    "duration": 11,
    "start_time": "2022-08-25T12:55:00.012Z"
   },
   {
    "duration": 9,
    "start_time": "2022-08-25T12:55:05.658Z"
   },
   {
    "duration": 11,
    "start_time": "2022-08-25T12:55:15.276Z"
   },
   {
    "duration": 10,
    "start_time": "2022-08-25T12:56:20.356Z"
   },
   {
    "duration": 5,
    "start_time": "2022-08-25T12:56:26.467Z"
   },
   {
    "duration": 5,
    "start_time": "2022-08-25T12:56:29.100Z"
   },
   {
    "duration": 11,
    "start_time": "2022-08-25T12:56:31.923Z"
   },
   {
    "duration": 18,
    "start_time": "2022-08-25T12:56:33.444Z"
   },
   {
    "duration": 9,
    "start_time": "2022-08-25T12:56:37.448Z"
   },
   {
    "duration": 12,
    "start_time": "2022-08-25T12:56:41.124Z"
   },
   {
    "duration": 14,
    "start_time": "2022-08-25T12:56:51.367Z"
   },
   {
    "duration": 22,
    "start_time": "2022-08-25T12:57:00.444Z"
   },
   {
    "duration": 22,
    "start_time": "2022-08-25T12:57:20.428Z"
   },
   {
    "duration": 26,
    "start_time": "2022-08-25T13:00:38.649Z"
   },
   {
    "duration": 15,
    "start_time": "2022-08-25T13:00:52.250Z"
   },
   {
    "duration": 24,
    "start_time": "2022-08-25T13:01:04.099Z"
   },
   {
    "duration": 24,
    "start_time": "2022-08-25T13:01:19.651Z"
   },
   {
    "duration": 1158,
    "start_time": "2022-08-25T13:01:34.105Z"
   },
   {
    "duration": 73,
    "start_time": "2022-08-25T13:01:35.265Z"
   },
   {
    "duration": 51,
    "start_time": "2022-08-25T13:01:35.340Z"
   },
   {
    "duration": 10,
    "start_time": "2022-08-25T13:01:35.393Z"
   },
   {
    "duration": 29,
    "start_time": "2022-08-25T13:01:35.405Z"
   },
   {
    "duration": 16,
    "start_time": "2022-08-25T13:01:43.562Z"
   },
   {
    "duration": 115,
    "start_time": "2022-08-25T13:02:01.210Z"
   },
   {
    "duration": 22,
    "start_time": "2022-08-25T13:02:08.306Z"
   },
   {
    "duration": 14,
    "start_time": "2022-08-25T13:02:11.265Z"
   },
   {
    "duration": 13,
    "start_time": "2022-08-25T13:02:42.602Z"
   },
   {
    "duration": 27,
    "start_time": "2022-08-25T13:02:46.442Z"
   },
   {
    "duration": 37,
    "start_time": "2022-08-25T13:02:53.763Z"
   },
   {
    "duration": 33,
    "start_time": "2022-08-25T13:03:05.738Z"
   },
   {
    "duration": 43,
    "start_time": "2022-08-25T13:03:21.865Z"
   },
   {
    "duration": 33,
    "start_time": "2022-08-25T14:14:03.632Z"
   },
   {
    "duration": 49,
    "start_time": "2022-08-26T08:20:59.071Z"
   },
   {
    "duration": 1080,
    "start_time": "2022-08-26T08:21:18.949Z"
   },
   {
    "duration": 110,
    "start_time": "2022-08-26T08:21:20.031Z"
   },
   {
    "duration": 32,
    "start_time": "2022-08-26T08:21:20.142Z"
   },
   {
    "duration": 8,
    "start_time": "2022-08-26T08:21:20.176Z"
   },
   {
    "duration": 48,
    "start_time": "2022-08-26T08:21:20.185Z"
   },
   {
    "duration": 112,
    "start_time": "2022-08-26T08:21:20.234Z"
   },
   {
    "duration": 19,
    "start_time": "2022-08-26T08:21:33.594Z"
   },
   {
    "duration": 17,
    "start_time": "2022-08-26T08:21:55.398Z"
   },
   {
    "duration": 18,
    "start_time": "2022-08-26T08:22:34.045Z"
   },
   {
    "duration": 22,
    "start_time": "2022-08-26T08:24:39.261Z"
   },
   {
    "duration": 6,
    "start_time": "2022-08-26T08:25:32.868Z"
   },
   {
    "duration": 10,
    "start_time": "2022-08-26T08:25:56.324Z"
   },
   {
    "duration": 22,
    "start_time": "2022-08-26T08:26:01.897Z"
   },
   {
    "duration": 12,
    "start_time": "2022-08-26T08:26:19.379Z"
   },
   {
    "duration": 22,
    "start_time": "2022-08-26T08:26:22.924Z"
   },
   {
    "duration": 7,
    "start_time": "2022-08-26T08:27:14.436Z"
   },
   {
    "duration": 6,
    "start_time": "2022-08-26T08:27:22.306Z"
   },
   {
    "duration": 7,
    "start_time": "2022-08-26T08:27:27.315Z"
   },
   {
    "duration": 23,
    "start_time": "2022-08-26T08:27:36.043Z"
   },
   {
    "duration": 31,
    "start_time": "2022-08-26T08:30:25.554Z"
   },
   {
    "duration": 50,
    "start_time": "2022-08-26T08:30:33.610Z"
   },
   {
    "duration": 46,
    "start_time": "2022-08-26T08:30:51.043Z"
   },
   {
    "duration": 39,
    "start_time": "2022-08-26T08:31:14.133Z"
   },
   {
    "duration": 47,
    "start_time": "2022-08-26T08:31:31.919Z"
   },
   {
    "duration": 106,
    "start_time": "2022-08-26T08:32:15.206Z"
   },
   {
    "duration": 38,
    "start_time": "2022-08-26T08:32:20.998Z"
   },
   {
    "duration": 32,
    "start_time": "2022-08-26T08:32:38.114Z"
   },
   {
    "duration": 29,
    "start_time": "2022-08-26T08:32:52.401Z"
   },
   {
    "duration": 27,
    "start_time": "2022-08-26T08:33:30.093Z"
   },
   {
    "duration": 4,
    "start_time": "2022-08-26T08:34:03.152Z"
   },
   {
    "duration": 4,
    "start_time": "2022-08-26T08:34:07.560Z"
   },
   {
    "duration": 20,
    "start_time": "2022-08-26T08:34:11.545Z"
   },
   {
    "duration": 115,
    "start_time": "2022-08-26T09:11:54.807Z"
   },
   {
    "duration": 63,
    "start_time": "2022-08-26T09:12:10.050Z"
   },
   {
    "duration": 76,
    "start_time": "2022-08-26T09:12:13.433Z"
   },
   {
    "duration": 76,
    "start_time": "2022-08-26T09:12:16.121Z"
   },
   {
    "duration": 65,
    "start_time": "2022-08-26T09:12:23.169Z"
   },
   {
    "duration": 1303,
    "start_time": "2022-08-26T09:12:57.865Z"
   },
   {
    "duration": 63,
    "start_time": "2022-08-26T09:13:21.419Z"
   },
   {
    "duration": 55,
    "start_time": "2022-08-26T09:13:29.186Z"
   },
   {
    "duration": 3672,
    "start_time": "2022-08-26T09:13:48.049Z"
   },
   {
    "duration": 1304,
    "start_time": "2022-08-26T09:14:15.153Z"
   },
   {
    "duration": 4025,
    "start_time": "2022-08-26T09:14:43.927Z"
   },
   {
    "duration": 2838,
    "start_time": "2022-08-26T09:15:14.312Z"
   },
   {
    "duration": 1784,
    "start_time": "2022-08-26T09:15:21.784Z"
   },
   {
    "duration": 955,
    "start_time": "2022-08-26T09:16:23.224Z"
   },
   {
    "duration": 1732,
    "start_time": "2022-08-26T09:17:20.087Z"
   },
   {
    "duration": 28,
    "start_time": "2022-08-26T09:17:36.184Z"
   },
   {
    "duration": 1283,
    "start_time": "2022-08-26T09:18:00.087Z"
   },
   {
    "duration": 275,
    "start_time": "2022-08-26T09:18:19.167Z"
   },
   {
    "duration": 277,
    "start_time": "2022-08-26T09:18:26.054Z"
   },
   {
    "duration": 52,
    "start_time": "2022-08-26T09:18:43.765Z"
   },
   {
    "duration": 4,
    "start_time": "2022-08-26T09:18:48.454Z"
   },
   {
    "duration": 32,
    "start_time": "2022-08-26T09:18:50.752Z"
   },
   {
    "duration": 893,
    "start_time": "2022-08-26T09:19:54.733Z"
   },
   {
    "duration": 24,
    "start_time": "2022-08-26T09:20:03.439Z"
   },
   {
    "duration": 33,
    "start_time": "2022-08-26T09:20:14.056Z"
   },
   {
    "duration": 37,
    "start_time": "2022-08-26T09:20:27.598Z"
   },
   {
    "duration": 27,
    "start_time": "2022-08-26T09:20:38.297Z"
   },
   {
    "duration": 31,
    "start_time": "2022-08-26T09:20:45.150Z"
   },
   {
    "duration": 35,
    "start_time": "2022-08-26T09:23:04.813Z"
   },
   {
    "duration": 30,
    "start_time": "2022-08-26T09:23:32.853Z"
   },
   {
    "duration": 29,
    "start_time": "2022-08-26T09:23:44.445Z"
   },
   {
    "duration": 1074,
    "start_time": "2022-08-26T09:23:51.272Z"
   },
   {
    "duration": 79,
    "start_time": "2022-08-26T09:23:52.348Z"
   },
   {
    "duration": 35,
    "start_time": "2022-08-26T09:23:52.430Z"
   },
   {
    "duration": 40,
    "start_time": "2022-08-26T09:23:52.467Z"
   },
   {
    "duration": 974,
    "start_time": "2022-08-26T09:23:52.509Z"
   },
   {
    "duration": 8,
    "start_time": "2022-08-26T09:23:53.484Z"
   },
   {
    "duration": 62,
    "start_time": "2022-08-26T09:23:53.493Z"
   },
   {
    "duration": 112,
    "start_time": "2022-08-26T09:23:53.557Z"
   },
   {
    "duration": 31,
    "start_time": "2022-08-26T09:24:01.005Z"
   },
   {
    "duration": 31,
    "start_time": "2022-08-26T09:24:16.398Z"
   },
   {
    "duration": 27,
    "start_time": "2022-08-26T09:24:19.765Z"
   },
   {
    "duration": 30,
    "start_time": "2022-08-26T09:24:32.597Z"
   },
   {
    "duration": 1133,
    "start_time": "2022-08-26T09:24:37.200Z"
   },
   {
    "duration": 0,
    "start_time": "2022-08-26T09:24:38.335Z"
   },
   {
    "duration": 0,
    "start_time": "2022-08-26T09:24:38.336Z"
   },
   {
    "duration": 0,
    "start_time": "2022-08-26T09:24:38.337Z"
   },
   {
    "duration": 0,
    "start_time": "2022-08-26T09:24:38.338Z"
   },
   {
    "duration": 0,
    "start_time": "2022-08-26T09:24:38.339Z"
   },
   {
    "duration": 0,
    "start_time": "2022-08-26T09:24:38.340Z"
   },
   {
    "duration": 0,
    "start_time": "2022-08-26T09:24:38.341Z"
   },
   {
    "duration": 307,
    "start_time": "2022-08-26T09:25:17.053Z"
   },
   {
    "duration": 20,
    "start_time": "2022-08-26T09:25:29.332Z"
   },
   {
    "duration": 1104,
    "start_time": "2022-08-26T09:25:36.940Z"
   },
   {
    "duration": 68,
    "start_time": "2022-08-26T09:25:38.046Z"
   },
   {
    "duration": 32,
    "start_time": "2022-08-26T09:25:38.116Z"
   },
   {
    "duration": 25,
    "start_time": "2022-08-26T09:25:38.149Z"
   },
   {
    "duration": 1098,
    "start_time": "2022-08-26T09:25:38.176Z"
   },
   {
    "duration": 8,
    "start_time": "2022-08-26T09:25:39.275Z"
   },
   {
    "duration": 46,
    "start_time": "2022-08-26T09:25:39.285Z"
   },
   {
    "duration": 109,
    "start_time": "2022-08-26T09:25:39.333Z"
   },
   {
    "duration": 3,
    "start_time": "2022-08-26T09:30:35.752Z"
   },
   {
    "duration": 18,
    "start_time": "2022-08-26T09:31:33.334Z"
   },
   {
    "duration": 20,
    "start_time": "2022-08-26T09:32:17.775Z"
   },
   {
    "duration": 1104,
    "start_time": "2022-08-26T09:32:28.426Z"
   },
   {
    "duration": 71,
    "start_time": "2022-08-26T09:32:29.532Z"
   },
   {
    "duration": 34,
    "start_time": "2022-08-26T09:32:29.605Z"
   },
   {
    "duration": 25,
    "start_time": "2022-08-26T09:32:29.642Z"
   },
   {
    "duration": 1036,
    "start_time": "2022-08-26T09:32:29.669Z"
   },
   {
    "duration": 8,
    "start_time": "2022-08-26T09:32:30.707Z"
   },
   {
    "duration": 69,
    "start_time": "2022-08-26T09:32:30.717Z"
   },
   {
    "duration": 114,
    "start_time": "2022-08-26T09:32:30.788Z"
   },
   {
    "duration": 16,
    "start_time": "2022-08-26T09:32:36.296Z"
   },
   {
    "duration": 17,
    "start_time": "2022-08-26T09:32:53.856Z"
   },
   {
    "duration": 8,
    "start_time": "2022-08-26T09:33:16.977Z"
   },
   {
    "duration": 8,
    "start_time": "2022-08-26T09:33:20.129Z"
   },
   {
    "duration": 1181,
    "start_time": "2022-08-26T09:33:28.007Z"
   },
   {
    "duration": 69,
    "start_time": "2022-08-26T09:33:29.190Z"
   },
   {
    "duration": 33,
    "start_time": "2022-08-26T09:33:29.261Z"
   },
   {
    "duration": 28,
    "start_time": "2022-08-26T09:33:29.296Z"
   },
   {
    "duration": 1006,
    "start_time": "2022-08-26T09:33:29.325Z"
   },
   {
    "duration": 8,
    "start_time": "2022-08-26T09:33:30.333Z"
   },
   {
    "duration": 34,
    "start_time": "2022-08-26T09:33:30.342Z"
   },
   {
    "duration": 29,
    "start_time": "2022-08-26T09:33:30.377Z"
   },
   {
    "duration": 126,
    "start_time": "2022-08-26T09:33:39.748Z"
   },
   {
    "duration": 17,
    "start_time": "2022-08-26T09:33:44.061Z"
   },
   {
    "duration": 4,
    "start_time": "2022-08-26T09:33:46.518Z"
   },
   {
    "duration": 21,
    "start_time": "2022-08-26T09:33:50.142Z"
   },
   {
    "duration": 21,
    "start_time": "2022-08-26T09:34:14.142Z"
   },
   {
    "duration": 33,
    "start_time": "2022-08-26T09:34:18.158Z"
   },
   {
    "duration": 18,
    "start_time": "2022-08-26T09:34:22.782Z"
   },
   {
    "duration": 19,
    "start_time": "2022-08-26T09:34:36.533Z"
   },
   {
    "duration": 35,
    "start_time": "2022-08-26T09:34:45.110Z"
   },
   {
    "duration": 1114,
    "start_time": "2022-08-26T09:34:50.730Z"
   },
   {
    "duration": 67,
    "start_time": "2022-08-26T09:34:51.846Z"
   },
   {
    "duration": 33,
    "start_time": "2022-08-26T09:34:51.917Z"
   },
   {
    "duration": 23,
    "start_time": "2022-08-26T09:34:51.952Z"
   },
   {
    "duration": 1094,
    "start_time": "2022-08-26T09:34:52.003Z"
   },
   {
    "duration": 9,
    "start_time": "2022-08-26T09:34:53.102Z"
   },
   {
    "duration": 33,
    "start_time": "2022-08-26T09:34:53.113Z"
   },
   {
    "duration": 125,
    "start_time": "2022-08-26T09:34:53.148Z"
   },
   {
    "duration": 20,
    "start_time": "2022-08-26T09:35:03.727Z"
   },
   {
    "duration": 18,
    "start_time": "2022-08-26T09:35:17.935Z"
   },
   {
    "duration": 3,
    "start_time": "2022-08-26T09:35:23.400Z"
   },
   {
    "duration": 36,
    "start_time": "2022-08-26T09:35:58.591Z"
   },
   {
    "duration": 1332,
    "start_time": "2022-08-26T09:36:08.245Z"
   },
   {
    "duration": 71,
    "start_time": "2022-08-26T09:36:09.579Z"
   },
   {
    "duration": 55,
    "start_time": "2022-08-26T09:36:09.652Z"
   },
   {
    "duration": 1074,
    "start_time": "2022-08-26T09:36:09.709Z"
   },
   {
    "duration": 40,
    "start_time": "2022-08-26T09:36:10.785Z"
   },
   {
    "duration": 7,
    "start_time": "2022-08-26T09:36:10.827Z"
   },
   {
    "duration": 25,
    "start_time": "2022-08-26T09:36:10.835Z"
   },
   {
    "duration": 2,
    "start_time": "2022-08-26T09:36:10.862Z"
   },
   {
    "duration": 108,
    "start_time": "2022-08-26T09:36:26.265Z"
   },
   {
    "duration": 18,
    "start_time": "2022-08-26T09:36:36.576Z"
   },
   {
    "duration": 20,
    "start_time": "2022-08-26T09:37:07.001Z"
   },
   {
    "duration": 15,
    "start_time": "2022-08-26T09:37:21.633Z"
   },
   {
    "duration": 19,
    "start_time": "2022-08-26T09:37:33.152Z"
   },
   {
    "duration": 21,
    "start_time": "2022-08-26T09:37:41.009Z"
   },
   {
    "duration": 16,
    "start_time": "2022-08-26T09:37:49.735Z"
   },
   {
    "duration": 34,
    "start_time": "2022-08-26T09:39:28.016Z"
   },
   {
    "duration": 1093,
    "start_time": "2022-08-26T09:40:28.654Z"
   },
   {
    "duration": 70,
    "start_time": "2022-08-26T09:40:29.749Z"
   },
   {
    "duration": 28,
    "start_time": "2022-08-26T09:40:29.821Z"
   },
   {
    "duration": 1048,
    "start_time": "2022-08-26T09:40:29.852Z"
   },
   {
    "duration": 33,
    "start_time": "2022-08-26T09:40:30.903Z"
   },
   {
    "duration": 130,
    "start_time": "2022-08-26T09:40:30.939Z"
   },
   {
    "duration": 0,
    "start_time": "2022-08-26T09:40:31.071Z"
   },
   {
    "duration": 0,
    "start_time": "2022-08-26T09:40:31.073Z"
   },
   {
    "duration": 8,
    "start_time": "2022-08-26T09:40:59.323Z"
   },
   {
    "duration": 16,
    "start_time": "2022-08-26T09:41:09.571Z"
   },
   {
    "duration": 34,
    "start_time": "2022-08-26T09:41:57.409Z"
   },
   {
    "duration": 37,
    "start_time": "2022-08-26T09:42:10.354Z"
   },
   {
    "duration": 14,
    "start_time": "2022-08-26T09:42:35.628Z"
   },
   {
    "duration": 9,
    "start_time": "2022-08-26T09:42:43.020Z"
   },
   {
    "duration": 31,
    "start_time": "2022-08-26T09:42:45.577Z"
   },
   {
    "duration": 17,
    "start_time": "2022-08-26T09:42:47.313Z"
   },
   {
    "duration": 117,
    "start_time": "2022-08-26T09:43:01.370Z"
   },
   {
    "duration": 17,
    "start_time": "2022-08-26T09:43:05.873Z"
   },
   {
    "duration": 17,
    "start_time": "2022-08-26T09:43:15.778Z"
   },
   {
    "duration": 16,
    "start_time": "2022-08-26T09:43:20.629Z"
   },
   {
    "duration": 16,
    "start_time": "2022-08-26T09:43:41.482Z"
   },
   {
    "duration": 28,
    "start_time": "2022-08-26T09:43:45.378Z"
   },
   {
    "duration": 17,
    "start_time": "2022-08-26T09:43:47.203Z"
   },
   {
    "duration": 20,
    "start_time": "2022-08-26T09:43:53.675Z"
   },
   {
    "duration": 1159,
    "start_time": "2022-08-26T09:44:01.799Z"
   },
   {
    "duration": 78,
    "start_time": "2022-08-26T09:44:02.961Z"
   },
   {
    "duration": 33,
    "start_time": "2022-08-26T09:44:03.041Z"
   },
   {
    "duration": 1039,
    "start_time": "2022-08-26T09:44:03.077Z"
   },
   {
    "duration": 33,
    "start_time": "2022-08-26T09:44:04.118Z"
   },
   {
    "duration": 8,
    "start_time": "2022-08-26T09:44:04.152Z"
   },
   {
    "duration": 51,
    "start_time": "2022-08-26T09:44:04.162Z"
   },
   {
    "duration": 118,
    "start_time": "2022-08-26T09:44:04.214Z"
   },
   {
    "duration": 21,
    "start_time": "2022-08-26T09:44:13.417Z"
   },
   {
    "duration": 15,
    "start_time": "2022-08-26T09:44:26.297Z"
   },
   {
    "duration": 9,
    "start_time": "2022-08-26T09:44:28.275Z"
   },
   {
    "duration": 28,
    "start_time": "2022-08-26T09:44:30.074Z"
   },
   {
    "duration": 24,
    "start_time": "2022-08-26T09:44:31.809Z"
   },
   {
    "duration": 1188,
    "start_time": "2022-08-26T09:44:39.309Z"
   },
   {
    "duration": 71,
    "start_time": "2022-08-26T09:44:40.499Z"
   },
   {
    "duration": 23,
    "start_time": "2022-08-26T09:44:40.572Z"
   },
   {
    "duration": 13,
    "start_time": "2022-08-26T09:44:40.597Z"
   },
   {
    "duration": 34,
    "start_time": "2022-08-26T09:44:40.612Z"
   },
   {
    "duration": 8,
    "start_time": "2022-08-26T09:44:40.648Z"
   },
   {
    "duration": 48,
    "start_time": "2022-08-26T09:44:40.658Z"
   },
   {
    "duration": 16,
    "start_time": "2022-08-26T09:44:40.707Z"
   },
   {
    "duration": 30,
    "start_time": "2022-08-26T09:44:53.254Z"
   },
   {
    "duration": 15,
    "start_time": "2022-08-26T09:44:55.453Z"
   },
   {
    "duration": 1232,
    "start_time": "2022-08-26T09:45:00.671Z"
   },
   {
    "duration": 73,
    "start_time": "2022-08-26T09:45:01.906Z"
   },
   {
    "duration": 25,
    "start_time": "2022-08-26T09:45:01.981Z"
   },
   {
    "duration": 13,
    "start_time": "2022-08-26T09:45:02.007Z"
   },
   {
    "duration": 33,
    "start_time": "2022-08-26T09:45:02.021Z"
   },
   {
    "duration": 7,
    "start_time": "2022-08-26T09:45:02.056Z"
   },
   {
    "duration": 54,
    "start_time": "2022-08-26T09:45:02.065Z"
   },
   {
    "duration": 17,
    "start_time": "2022-08-26T09:45:02.120Z"
   },
   {
    "duration": 20,
    "start_time": "2022-08-26T09:45:55.444Z"
   },
   {
    "duration": 105,
    "start_time": "2022-08-26T09:46:03.412Z"
   },
   {
    "duration": 20,
    "start_time": "2022-08-26T09:46:05.532Z"
   },
   {
    "duration": 28,
    "start_time": "2022-08-26T09:46:13.684Z"
   },
   {
    "duration": 38,
    "start_time": "2022-08-26T09:46:18.540Z"
   },
   {
    "duration": 18,
    "start_time": "2022-08-26T09:46:28.484Z"
   },
   {
    "duration": 39,
    "start_time": "2022-08-26T09:46:31.588Z"
   },
   {
    "duration": 41,
    "start_time": "2022-08-26T09:46:40.963Z"
   },
   {
    "duration": 41,
    "start_time": "2022-08-26T09:46:48.011Z"
   },
   {
    "duration": 39,
    "start_time": "2022-08-26T09:46:55.604Z"
   },
   {
    "duration": 38,
    "start_time": "2022-08-26T09:47:05.931Z"
   },
   {
    "duration": 32,
    "start_time": "2022-08-26T11:20:01.059Z"
   },
   {
    "duration": 16,
    "start_time": "2022-08-26T11:20:24.979Z"
   },
   {
    "duration": 24,
    "start_time": "2022-08-26T11:20:28.467Z"
   },
   {
    "duration": 18,
    "start_time": "2022-08-26T11:20:40.555Z"
   },
   {
    "duration": 30,
    "start_time": "2022-08-26T11:21:05.980Z"
   },
   {
    "duration": 29,
    "start_time": "2022-08-26T11:21:09.437Z"
   },
   {
    "duration": 1235,
    "start_time": "2022-08-26T11:21:14.296Z"
   },
   {
    "duration": 69,
    "start_time": "2022-08-26T11:21:15.533Z"
   },
   {
    "duration": 24,
    "start_time": "2022-08-26T11:21:15.605Z"
   },
   {
    "duration": 1022,
    "start_time": "2022-08-26T11:21:15.631Z"
   },
   {
    "duration": 31,
    "start_time": "2022-08-26T11:21:16.655Z"
   },
   {
    "duration": 22,
    "start_time": "2022-08-26T11:21:16.687Z"
   },
   {
    "duration": 42,
    "start_time": "2022-08-26T11:21:16.710Z"
   },
   {
    "duration": 50,
    "start_time": "2022-08-26T11:21:16.754Z"
   },
   {
    "duration": 7,
    "start_time": "2022-08-26T11:22:44.484Z"
   },
   {
    "duration": 5,
    "start_time": "2022-08-26T11:23:02.101Z"
   },
   {
    "duration": 4,
    "start_time": "2022-08-26T11:23:06.990Z"
   },
   {
    "duration": 100,
    "start_time": "2022-08-26T11:23:21.437Z"
   },
   {
    "duration": 9,
    "start_time": "2022-08-26T11:23:24.629Z"
   },
   {
    "duration": 7,
    "start_time": "2022-08-26T11:23:30.939Z"
   },
   {
    "duration": 38,
    "start_time": "2022-08-26T11:23:48.624Z"
   },
   {
    "duration": 41,
    "start_time": "2022-08-26T11:23:57.373Z"
   },
   {
    "duration": 57,
    "start_time": "2022-08-26T11:24:15.525Z"
   },
   {
    "duration": 41,
    "start_time": "2022-08-26T11:24:24.574Z"
   },
   {
    "duration": 48,
    "start_time": "2022-08-26T11:24:35.027Z"
   },
   {
    "duration": 10,
    "start_time": "2022-08-26T11:24:51.692Z"
   },
   {
    "duration": 5,
    "start_time": "2022-08-26T11:25:00.268Z"
   },
   {
    "duration": 42,
    "start_time": "2022-08-26T11:25:05.926Z"
   },
   {
    "duration": 46,
    "start_time": "2022-08-26T11:25:22.372Z"
   },
   {
    "duration": 45,
    "start_time": "2022-08-26T11:25:25.966Z"
   },
   {
    "duration": 42,
    "start_time": "2022-08-26T11:26:02.563Z"
   },
   {
    "duration": 534,
    "start_time": "2022-08-26T11:27:43.928Z"
   },
   {
    "duration": 113,
    "start_time": "2022-08-26T11:28:26.587Z"
   },
   {
    "duration": 120,
    "start_time": "2022-08-26T11:30:07.771Z"
   },
   {
    "duration": 42,
    "start_time": "2022-08-26T11:34:21.489Z"
   },
   {
    "duration": 38,
    "start_time": "2022-08-26T11:34:45.131Z"
   },
   {
    "duration": 205,
    "start_time": "2022-08-26T11:34:47.512Z"
   },
   {
    "duration": 43,
    "start_time": "2022-08-26T11:34:49.792Z"
   },
   {
    "duration": 20,
    "start_time": "2022-08-26T11:34:58.775Z"
   },
   {
    "duration": 111,
    "start_time": "2022-08-26T11:35:00.841Z"
   },
   {
    "duration": 42,
    "start_time": "2022-08-26T11:35:03.873Z"
   },
   {
    "duration": 33,
    "start_time": "2022-08-26T11:35:07.680Z"
   },
   {
    "duration": 60,
    "start_time": "2022-08-26T11:39:04.332Z"
   },
   {
    "duration": 55,
    "start_time": "2022-08-26T11:40:23.560Z"
   },
   {
    "duration": 1096,
    "start_time": "2022-08-26T11:40:29.946Z"
   },
   {
    "duration": 70,
    "start_time": "2022-08-26T11:40:31.044Z"
   },
   {
    "duration": 24,
    "start_time": "2022-08-26T11:40:31.115Z"
   },
   {
    "duration": 999,
    "start_time": "2022-08-26T11:40:31.141Z"
   },
   {
    "duration": 29,
    "start_time": "2022-08-26T11:40:32.142Z"
   },
   {
    "duration": 15,
    "start_time": "2022-08-26T11:40:32.173Z"
   },
   {
    "duration": 42,
    "start_time": "2022-08-26T11:40:32.190Z"
   },
   {
    "duration": 352,
    "start_time": "2022-08-26T11:40:32.233Z"
   },
   {
    "duration": 53,
    "start_time": "2022-08-26T11:40:32.587Z"
   },
   {
    "duration": 163,
    "start_time": "2022-08-26T11:41:55.728Z"
   },
   {
    "duration": 283,
    "start_time": "2022-08-26T11:43:32.332Z"
   },
   {
    "duration": 4,
    "start_time": "2022-08-26T11:43:53.777Z"
   },
   {
    "duration": 1197,
    "start_time": "2022-08-26T11:44:00.976Z"
   },
   {
    "duration": 68,
    "start_time": "2022-08-26T11:44:02.175Z"
   },
   {
    "duration": 24,
    "start_time": "2022-08-26T11:44:02.245Z"
   },
   {
    "duration": 1000,
    "start_time": "2022-08-26T11:44:02.271Z"
   },
   {
    "duration": 42,
    "start_time": "2022-08-26T11:44:03.273Z"
   },
   {
    "duration": 8,
    "start_time": "2022-08-26T11:44:03.317Z"
   },
   {
    "duration": 34,
    "start_time": "2022-08-26T11:44:03.327Z"
   },
   {
    "duration": 354,
    "start_time": "2022-08-26T11:44:03.363Z"
   },
   {
    "duration": 284,
    "start_time": "2022-08-26T11:44:03.719Z"
   },
   {
    "duration": 206,
    "start_time": "2022-08-26T11:44:18.941Z"
   },
   {
    "duration": 158,
    "start_time": "2022-08-26T11:44:38.513Z"
   },
   {
    "duration": 221,
    "start_time": "2022-08-26T11:44:44.041Z"
   },
   {
    "duration": 508,
    "start_time": "2022-08-26T11:45:29.099Z"
   },
   {
    "duration": 162,
    "start_time": "2022-08-26T11:45:32.732Z"
   },
   {
    "duration": 152,
    "start_time": "2022-08-26T11:45:37.042Z"
   },
   {
    "duration": 162,
    "start_time": "2022-08-26T11:45:42.832Z"
   },
   {
    "duration": 161,
    "start_time": "2022-08-26T11:46:04.570Z"
   },
   {
    "duration": 47,
    "start_time": "2022-08-26T11:48:10.052Z"
   },
   {
    "duration": 107,
    "start_time": "2022-08-26T11:48:38.167Z"
   },
   {
    "duration": 42,
    "start_time": "2022-08-26T11:49:04.688Z"
   },
   {
    "duration": 165,
    "start_time": "2022-08-26T11:49:11.806Z"
   },
   {
    "duration": 149,
    "start_time": "2022-08-26T11:49:16.911Z"
   },
   {
    "duration": 5,
    "start_time": "2022-08-26T11:49:36.238Z"
   },
   {
    "duration": 5,
    "start_time": "2022-08-26T11:52:15.743Z"
   },
   {
    "duration": 21,
    "start_time": "2022-08-26T13:34:52.022Z"
   },
   {
    "duration": 163,
    "start_time": "2022-08-26T13:35:10.101Z"
   },
   {
    "duration": 8,
    "start_time": "2022-08-26T13:35:29.751Z"
   },
   {
    "duration": 1113,
    "start_time": "2022-08-27T05:52:45.591Z"
   },
   {
    "duration": 108,
    "start_time": "2022-08-27T05:52:46.706Z"
   },
   {
    "duration": 22,
    "start_time": "2022-08-27T05:52:46.815Z"
   },
   {
    "duration": 885,
    "start_time": "2022-08-27T05:52:46.838Z"
   },
   {
    "duration": 26,
    "start_time": "2022-08-27T05:52:47.725Z"
   },
   {
    "duration": 9,
    "start_time": "2022-08-27T05:52:47.752Z"
   },
   {
    "duration": 46,
    "start_time": "2022-08-27T05:52:47.762Z"
   },
   {
    "duration": 449,
    "start_time": "2022-08-27T05:52:47.810Z"
   },
   {
    "duration": 150,
    "start_time": "2022-08-27T05:52:48.261Z"
   },
   {
    "duration": 5,
    "start_time": "2022-08-27T05:52:48.413Z"
   },
   {
    "duration": 5,
    "start_time": "2022-08-27T05:52:48.420Z"
   },
   {
    "duration": 6,
    "start_time": "2022-08-27T05:52:48.426Z"
   },
   {
    "duration": 8,
    "start_time": "2022-08-27T05:52:48.433Z"
   },
   {
    "duration": 6,
    "start_time": "2022-08-27T05:52:48.443Z"
   },
   {
    "duration": 114,
    "start_time": "2022-08-27T05:57:09.788Z"
   },
   {
    "duration": 10,
    "start_time": "2022-08-27T05:57:26.142Z"
   },
   {
    "duration": 11,
    "start_time": "2022-08-27T05:57:31.013Z"
   },
   {
    "duration": 10,
    "start_time": "2022-08-27T05:57:51.570Z"
   },
   {
    "duration": 53075,
    "start_time": "2022-08-27T05:57:56.351Z"
   },
   {
    "duration": 54148,
    "start_time": "2022-08-27T05:59:00.549Z"
   },
   {
    "duration": 55513,
    "start_time": "2022-08-27T06:00:06.463Z"
   },
   {
    "duration": 308,
    "start_time": "2022-08-27T06:01:30.874Z"
   },
   {
    "duration": 12124,
    "start_time": "2022-08-27T06:01:34.146Z"
   },
   {
    "duration": 11884,
    "start_time": "2022-08-27T06:01:54.125Z"
   },
   {
    "duration": 8115,
    "start_time": "2022-08-27T06:02:32.560Z"
   },
   {
    "duration": 9767,
    "start_time": "2022-08-27T06:03:14.494Z"
   },
   {
    "duration": 851,
    "start_time": "2022-08-27T06:03:35.081Z"
   },
   {
    "duration": 8121,
    "start_time": "2022-08-27T06:03:50.884Z"
   },
   {
    "duration": 69858,
    "start_time": "2022-08-27T06:04:52.354Z"
   },
   {
    "duration": 208400,
    "start_time": "2022-08-27T06:06:26.554Z"
   },
   {
    "duration": 84209,
    "start_time": "2022-08-27T06:10:16.786Z"
   },
   {
    "duration": 118677,
    "start_time": "2022-08-27T06:11:55.710Z"
   },
   {
    "duration": 71110,
    "start_time": "2022-08-27T06:14:06.119Z"
   },
   {
    "duration": 74,
    "start_time": "2022-08-27T06:15:26.328Z"
   },
   {
    "duration": 6145,
    "start_time": "2022-08-27T06:15:33.828Z"
   },
   {
    "duration": 4796,
    "start_time": "2022-08-27T06:15:49.235Z"
   },
   {
    "duration": 9298,
    "start_time": "2022-08-27T06:15:58.258Z"
   },
   {
    "duration": 79131,
    "start_time": "2022-08-27T06:16:19.936Z"
   },
   {
    "duration": 104107,
    "start_time": "2022-08-27T06:17:58.826Z"
   },
   {
    "duration": 9191,
    "start_time": "2022-08-27T06:19:57.255Z"
   },
   {
    "duration": 103311,
    "start_time": "2022-08-27T06:20:19.740Z"
   },
   {
    "duration": 79236,
    "start_time": "2022-08-27T06:22:14.395Z"
   },
   {
    "duration": 95637,
    "start_time": "2022-08-27T06:24:07.020Z"
   },
   {
    "duration": 52,
    "start_time": "2022-08-27T06:25:52.910Z"
   },
   {
    "duration": 6879,
    "start_time": "2022-08-27T06:25:57.547Z"
   },
   {
    "duration": 120802,
    "start_time": "2022-08-27T06:26:34.280Z"
   },
   {
    "duration": 16,
    "start_time": "2022-08-27T06:28:35.086Z"
   },
   {
    "duration": 231852,
    "start_time": "2022-08-27T06:29:15.096Z"
   },
   {
    "duration": 178598,
    "start_time": "2022-08-27T07:44:38.203Z"
   },
   {
    "duration": 525588,
    "start_time": "2022-08-27T07:51:09.088Z"
   },
   {
    "duration": 255374,
    "start_time": "2022-08-27T08:00:22.433Z"
   },
   {
    "duration": 133997,
    "start_time": "2022-08-27T08:05:03.507Z"
   },
   {
    "duration": 91454,
    "start_time": "2022-08-27T08:07:27.324Z"
   },
   {
    "duration": 42499,
    "start_time": "2022-08-27T08:09:41.722Z"
   },
   {
    "duration": 68065,
    "start_time": "2022-08-27T08:10:38.562Z"
   },
   {
    "duration": 91891,
    "start_time": "2022-08-27T08:11:55.457Z"
   },
   {
    "duration": 30015,
    "start_time": "2022-08-27T08:13:49.885Z"
   },
   {
    "duration": 61865,
    "start_time": "2022-08-27T08:14:31.346Z"
   },
   {
    "duration": 27885,
    "start_time": "2022-08-27T08:15:43.600Z"
   },
   {
    "duration": 59330,
    "start_time": "2022-08-27T08:16:26.306Z"
   },
   {
    "duration": 60727,
    "start_time": "2022-08-27T08:17:40.999Z"
   },
   {
    "duration": 107093,
    "start_time": "2022-08-27T08:19:12.932Z"
   },
   {
    "duration": 8328,
    "start_time": "2022-08-27T08:21:15.426Z"
   },
   {
    "duration": 80849,
    "start_time": "2022-08-27T08:22:05.310Z"
   },
   {
    "duration": 114688,
    "start_time": "2022-08-27T08:24:44.371Z"
   },
   {
    "duration": 8694,
    "start_time": "2022-08-27T08:26:53.761Z"
   },
   {
    "duration": 10239,
    "start_time": "2022-08-27T08:27:22.974Z"
   },
   {
    "duration": 7015,
    "start_time": "2022-08-27T08:28:05.022Z"
   },
   {
    "duration": 24151,
    "start_time": "2022-08-27T08:28:35.068Z"
   },
   {
    "duration": 28000,
    "start_time": "2022-08-27T08:29:14.110Z"
   },
   {
    "duration": 36870,
    "start_time": "2022-08-27T08:29:52.162Z"
   },
   {
    "duration": 17861,
    "start_time": "2022-08-27T08:30:37.680Z"
   },
   {
    "duration": 16092,
    "start_time": "2022-08-27T08:31:03.708Z"
   },
   {
    "duration": 24138,
    "start_time": "2022-08-27T08:31:25.480Z"
   },
   {
    "duration": 18062,
    "start_time": "2022-08-27T08:32:18.454Z"
   },
   {
    "duration": 166353,
    "start_time": "2022-08-27T08:33:05.037Z"
   },
   {
    "duration": 213636,
    "start_time": "2022-08-27T08:36:55.244Z"
   },
   {
    "duration": 190081,
    "start_time": "2022-08-27T08:41:34.669Z"
   },
   {
    "duration": 250686,
    "start_time": "2022-08-27T08:46:49.393Z"
   },
   {
    "duration": 8215,
    "start_time": "2022-08-27T08:54:39.369Z"
   },
   {
    "duration": 17044,
    "start_time": "2022-08-27T08:54:52.959Z"
   },
   {
    "duration": 12245,
    "start_time": "2022-08-27T08:55:19.537Z"
   },
   {
    "duration": 42848,
    "start_time": "2022-08-27T08:55:58.531Z"
   },
   {
    "duration": 20270,
    "start_time": "2022-08-27T08:56:53.599Z"
   },
   {
    "duration": 42987,
    "start_time": "2022-08-27T08:57:32.790Z"
   },
   {
    "duration": 62197,
    "start_time": "2022-08-27T08:58:27.319Z"
   },
   {
    "duration": 26610,
    "start_time": "2022-08-27T08:59:47.969Z"
   },
   {
    "duration": 28291,
    "start_time": "2022-08-27T09:00:23.509Z"
   },
   {
    "duration": 43611,
    "start_time": "2022-08-27T09:01:05.037Z"
   },
   {
    "duration": 44328,
    "start_time": "2022-08-27T09:02:06.505Z"
   },
   {
    "duration": 64371,
    "start_time": "2022-08-27T09:03:32.027Z"
   },
   {
    "duration": 18149,
    "start_time": "2022-08-27T09:05:11.057Z"
   },
   {
    "duration": 53788,
    "start_time": "2022-08-27T09:05:36.900Z"
   },
   {
    "duration": 50014,
    "start_time": "2022-08-27T09:06:44.315Z"
   },
   {
    "duration": 53606,
    "start_time": "2022-08-27T09:07:41.035Z"
   },
   {
    "duration": 749885,
    "start_time": "2022-08-27T09:08:48.885Z"
   },
   {
    "duration": 155508,
    "start_time": "2022-08-27T09:40:37.861Z"
   },
   {
    "duration": 34716,
    "start_time": "2022-08-27T09:43:55.144Z"
   },
   {
    "duration": 73281,
    "start_time": "2022-08-27T09:59:01.097Z"
   },
   {
    "duration": 25773,
    "start_time": "2022-08-27T12:31:30.769Z"
   },
   {
    "duration": 51979,
    "start_time": "2022-08-27T12:32:14.584Z"
   },
   {
    "duration": 3,
    "start_time": "2022-08-27T12:33:17.030Z"
   },
   {
    "duration": 39288,
    "start_time": "2022-08-27T12:33:35.110Z"
   },
   {
    "duration": 38769,
    "start_time": "2022-08-27T12:34:28.347Z"
   },
   {
    "duration": 40813,
    "start_time": "2022-08-27T12:35:41.247Z"
   },
   {
    "duration": 48584,
    "start_time": "2022-08-27T12:36:30.848Z"
   },
   {
    "duration": 39193,
    "start_time": "2022-08-27T12:37:39.617Z"
   },
   {
    "duration": 10,
    "start_time": "2022-08-27T12:40:21.738Z"
   },
   {
    "duration": 42,
    "start_time": "2022-08-27T12:40:28.693Z"
   },
   {
    "duration": 613,
    "start_time": "2022-08-27T12:45:35.780Z"
   },
   {
    "duration": 243,
    "start_time": "2022-08-27T12:45:51.249Z"
   },
   {
    "duration": 45,
    "start_time": "2022-08-27T12:47:47.764Z"
   },
   {
    "duration": 22,
    "start_time": "2022-08-27T12:47:50.352Z"
   },
   {
    "duration": 39,
    "start_time": "2022-08-27T12:47:53.329Z"
   },
   {
    "duration": 42,
    "start_time": "2022-08-27T12:47:56.779Z"
   },
   {
    "duration": 35,
    "start_time": "2022-08-27T12:48:00.288Z"
   },
   {
    "duration": 43,
    "start_time": "2022-08-27T12:48:04.220Z"
   },
   {
    "duration": 34,
    "start_time": "2022-08-27T12:48:07.576Z"
   },
   {
    "duration": 11,
    "start_time": "2022-08-27T12:55:19.360Z"
   },
   {
    "duration": 11,
    "start_time": "2022-08-27T12:55:59.709Z"
   },
   {
    "duration": 1475,
    "start_time": "2022-08-27T12:56:09.461Z"
   },
   {
    "duration": 0,
    "start_time": "2022-08-27T12:56:10.939Z"
   },
   {
    "duration": 0,
    "start_time": "2022-08-27T12:56:10.942Z"
   },
   {
    "duration": 0,
    "start_time": "2022-08-27T12:56:10.943Z"
   },
   {
    "duration": 0,
    "start_time": "2022-08-27T12:56:10.945Z"
   },
   {
    "duration": 0,
    "start_time": "2022-08-27T12:56:10.946Z"
   },
   {
    "duration": 0,
    "start_time": "2022-08-27T12:56:10.947Z"
   },
   {
    "duration": 0,
    "start_time": "2022-08-27T12:56:10.948Z"
   },
   {
    "duration": 0,
    "start_time": "2022-08-27T12:56:10.949Z"
   },
   {
    "duration": 0,
    "start_time": "2022-08-27T12:56:10.950Z"
   },
   {
    "duration": 0,
    "start_time": "2022-08-27T12:56:10.951Z"
   },
   {
    "duration": 0,
    "start_time": "2022-08-27T12:56:10.952Z"
   },
   {
    "duration": 0,
    "start_time": "2022-08-27T12:56:10.953Z"
   },
   {
    "duration": 0,
    "start_time": "2022-08-27T12:56:10.954Z"
   },
   {
    "duration": 233,
    "start_time": "2022-08-27T12:58:13.632Z"
   },
   {
    "duration": 1273,
    "start_time": "2022-08-27T12:58:21.724Z"
   },
   {
    "duration": 61,
    "start_time": "2022-08-27T12:58:22.999Z"
   },
   {
    "duration": 13,
    "start_time": "2022-08-27T12:58:23.062Z"
   },
   {
    "duration": 875,
    "start_time": "2022-08-27T12:58:23.078Z"
   },
   {
    "duration": 32,
    "start_time": "2022-08-27T12:58:23.955Z"
   },
   {
    "duration": 9,
    "start_time": "2022-08-27T12:58:23.988Z"
   },
   {
    "duration": 39,
    "start_time": "2022-08-27T12:58:23.998Z"
   },
   {
    "duration": 15,
    "start_time": "2022-08-27T12:58:24.039Z"
   },
   {
    "duration": 140,
    "start_time": "2022-08-27T12:58:24.056Z"
   },
   {
    "duration": 0,
    "start_time": "2022-08-27T12:58:24.197Z"
   },
   {
    "duration": 0,
    "start_time": "2022-08-27T12:58:24.198Z"
   },
   {
    "duration": 0,
    "start_time": "2022-08-27T12:58:24.200Z"
   },
   {
    "duration": 0,
    "start_time": "2022-08-27T12:58:24.202Z"
   },
   {
    "duration": 0,
    "start_time": "2022-08-27T12:58:24.203Z"
   },
   {
    "duration": 9,
    "start_time": "2022-08-27T12:59:00.565Z"
   },
   {
    "duration": 137,
    "start_time": "2022-08-27T12:59:08.118Z"
   },
   {
    "duration": 44,
    "start_time": "2022-08-27T13:01:32.610Z"
   },
   {
    "duration": 1339,
    "start_time": "2022-08-27T13:03:02.410Z"
   },
   {
    "duration": 65,
    "start_time": "2022-08-27T13:03:03.751Z"
   },
   {
    "duration": 16,
    "start_time": "2022-08-27T13:03:03.820Z"
   },
   {
    "duration": 925,
    "start_time": "2022-08-27T13:03:03.838Z"
   },
   {
    "duration": 35,
    "start_time": "2022-08-27T13:03:04.765Z"
   },
   {
    "duration": 10,
    "start_time": "2022-08-27T13:03:04.801Z"
   },
   {
    "duration": 32,
    "start_time": "2022-08-27T13:03:04.813Z"
   },
   {
    "duration": 44,
    "start_time": "2022-08-27T13:03:04.847Z"
   },
   {
    "duration": 133,
    "start_time": "2022-08-27T13:03:04.893Z"
   },
   {
    "duration": 162,
    "start_time": "2022-08-27T13:03:05.028Z"
   },
   {
    "duration": 6,
    "start_time": "2022-08-27T13:03:05.192Z"
   },
   {
    "duration": 225,
    "start_time": "2022-08-27T13:03:05.200Z"
   },
   {
    "duration": 39280,
    "start_time": "2022-08-27T13:03:05.427Z"
   },
   {
    "duration": 388,
    "start_time": "2022-08-27T13:03:44.708Z"
   },
   {
    "duration": 38927,
    "start_time": "2022-08-27T13:04:44.998Z"
   },
   {
    "duration": 39273,
    "start_time": "2022-08-27T13:05:52.234Z"
   },
   {
    "duration": 211,
    "start_time": "2022-08-27T15:59:11.111Z"
   },
   {
    "duration": 59,
    "start_time": "2022-08-28T10:50:10.977Z"
   },
   {
    "duration": 1837,
    "start_time": "2022-08-28T10:50:16.541Z"
   },
   {
    "duration": 116,
    "start_time": "2022-08-28T10:50:18.380Z"
   },
   {
    "duration": 22,
    "start_time": "2022-08-28T10:50:18.501Z"
   },
   {
    "duration": 943,
    "start_time": "2022-08-28T10:50:18.524Z"
   },
   {
    "duration": 40,
    "start_time": "2022-08-28T10:50:19.470Z"
   },
   {
    "duration": 10,
    "start_time": "2022-08-28T10:50:19.512Z"
   },
   {
    "duration": 31,
    "start_time": "2022-08-28T10:50:19.524Z"
   },
   {
    "duration": 49,
    "start_time": "2022-08-28T10:50:19.556Z"
   },
   {
    "duration": 137,
    "start_time": "2022-08-28T10:50:19.607Z"
   },
   {
    "duration": 191,
    "start_time": "2022-08-28T10:50:19.746Z"
   },
   {
    "duration": 6,
    "start_time": "2022-08-28T10:50:19.939Z"
   },
   {
    "duration": 302,
    "start_time": "2022-08-28T10:50:19.946Z"
   },
   {
    "duration": 40954,
    "start_time": "2022-08-28T10:50:20.251Z"
   },
   {
    "duration": 291,
    "start_time": "2022-08-28T10:51:01.208Z"
   },
   {
    "duration": 466,
    "start_time": "2022-08-28T10:52:29.768Z"
   },
   {
    "duration": 251,
    "start_time": "2022-08-28T10:55:55.687Z"
   },
   {
    "duration": 24,
    "start_time": "2022-08-28T10:56:06.736Z"
   },
   {
    "duration": 20,
    "start_time": "2022-08-28T10:56:13.537Z"
   },
   {
    "duration": 24,
    "start_time": "2022-08-28T10:56:21.596Z"
   },
   {
    "duration": 20,
    "start_time": "2022-08-28T10:56:48.743Z"
   },
   {
    "duration": 20,
    "start_time": "2022-08-28T10:56:53.460Z"
   },
   {
    "duration": 19,
    "start_time": "2022-08-28T10:56:55.350Z"
   },
   {
    "duration": 20,
    "start_time": "2022-08-28T10:56:59.035Z"
   },
   {
    "duration": 20,
    "start_time": "2022-08-28T10:57:07.251Z"
   },
   {
    "duration": 1653,
    "start_time": "2022-08-28T10:57:12.772Z"
   },
   {
    "duration": 69,
    "start_time": "2022-08-28T10:57:14.427Z"
   },
   {
    "duration": 22,
    "start_time": "2022-08-28T10:57:14.500Z"
   },
   {
    "duration": 1057,
    "start_time": "2022-08-28T10:57:14.525Z"
   },
   {
    "duration": 42,
    "start_time": "2022-08-28T10:57:15.584Z"
   },
   {
    "duration": 15,
    "start_time": "2022-08-28T10:57:15.630Z"
   },
   {
    "duration": 72,
    "start_time": "2022-08-28T10:57:15.647Z"
   },
   {
    "duration": 23,
    "start_time": "2022-08-28T10:57:15.721Z"
   },
   {
    "duration": 171,
    "start_time": "2022-08-28T10:57:15.746Z"
   },
   {
    "duration": 237,
    "start_time": "2022-08-28T10:57:15.919Z"
   },
   {
    "duration": 6,
    "start_time": "2022-08-28T10:57:16.158Z"
   },
   {
    "duration": 581,
    "start_time": "2022-08-28T10:57:16.166Z"
   },
   {
    "duration": 42985,
    "start_time": "2022-08-28T10:57:16.750Z"
   },
   {
    "duration": 372,
    "start_time": "2022-08-28T10:57:59.737Z"
   },
   {
    "duration": 636,
    "start_time": "2022-08-28T10:58:00.118Z"
   },
   {
    "duration": 608,
    "start_time": "2022-08-28T10:58:31.954Z"
   },
   {
    "duration": 541,
    "start_time": "2022-08-28T10:58:38.022Z"
   },
   {
    "duration": 745,
    "start_time": "2022-08-28T10:58:50.066Z"
   },
   {
    "duration": 695,
    "start_time": "2022-08-28T10:59:17.967Z"
   },
   {
    "duration": 689,
    "start_time": "2022-08-28T10:59:23.571Z"
   },
   {
    "duration": 715,
    "start_time": "2022-08-28T10:59:33.322Z"
   },
   {
    "duration": 566,
    "start_time": "2022-08-28T10:59:38.856Z"
   },
   {
    "duration": 744,
    "start_time": "2022-08-28T10:59:45.780Z"
   },
   {
    "duration": 128,
    "start_time": "2022-08-28T11:01:31.107Z"
   },
   {
    "duration": 633,
    "start_time": "2022-08-28T11:01:36.373Z"
   },
   {
    "duration": 591,
    "start_time": "2022-08-28T11:02:45.491Z"
   },
   {
    "duration": 574,
    "start_time": "2022-08-28T11:03:25.142Z"
   },
   {
    "duration": 578,
    "start_time": "2022-08-28T11:03:38.524Z"
   },
   {
    "duration": 595,
    "start_time": "2022-08-28T11:03:43.784Z"
   },
   {
    "duration": 678,
    "start_time": "2022-08-28T11:03:59.168Z"
   },
   {
    "duration": 632,
    "start_time": "2022-08-28T11:04:04.932Z"
   },
   {
    "duration": 594,
    "start_time": "2022-08-28T11:04:12.826Z"
   },
   {
    "duration": 582,
    "start_time": "2022-08-28T11:04:23.637Z"
   },
   {
    "duration": 19,
    "start_time": "2022-08-28T11:07:00.560Z"
   },
   {
    "duration": 14,
    "start_time": "2022-08-28T11:07:38.130Z"
   },
   {
    "duration": 48,
    "start_time": "2022-08-28T11:10:24.338Z"
   },
   {
    "duration": 62,
    "start_time": "2022-08-28T11:10:50.003Z"
   },
   {
    "duration": 149,
    "start_time": "2022-08-28T11:11:00.304Z"
   },
   {
    "duration": 55,
    "start_time": "2022-08-28T11:12:33.837Z"
   },
   {
    "duration": 171,
    "start_time": "2022-08-28T11:12:41.983Z"
   },
   {
    "duration": 160,
    "start_time": "2022-08-28T11:13:55.171Z"
   },
   {
    "duration": 253,
    "start_time": "2022-08-28T11:14:41.771Z"
   },
   {
    "duration": 172,
    "start_time": "2022-08-28T11:14:54.699Z"
   },
   {
    "duration": 245,
    "start_time": "2022-08-28T11:15:08.238Z"
   },
   {
    "duration": 65,
    "start_time": "2022-08-28T11:21:55.637Z"
   },
   {
    "duration": 1484,
    "start_time": "2022-08-28T11:22:14.145Z"
   },
   {
    "duration": 69,
    "start_time": "2022-08-28T11:22:15.632Z"
   },
   {
    "duration": 19,
    "start_time": "2022-08-28T11:22:15.703Z"
   },
   {
    "duration": 1144,
    "start_time": "2022-08-28T11:22:15.724Z"
   },
   {
    "duration": 63,
    "start_time": "2022-08-28T11:22:16.871Z"
   },
   {
    "duration": 0,
    "start_time": "2022-08-28T11:22:16.936Z"
   },
   {
    "duration": 0,
    "start_time": "2022-08-28T11:22:16.938Z"
   },
   {
    "duration": 0,
    "start_time": "2022-08-28T11:22:16.939Z"
   },
   {
    "duration": 0,
    "start_time": "2022-08-28T11:22:16.940Z"
   },
   {
    "duration": 0,
    "start_time": "2022-08-28T11:22:16.942Z"
   },
   {
    "duration": 0,
    "start_time": "2022-08-28T11:22:16.943Z"
   },
   {
    "duration": 0,
    "start_time": "2022-08-28T11:22:16.944Z"
   },
   {
    "duration": 0,
    "start_time": "2022-08-28T11:22:16.945Z"
   },
   {
    "duration": 0,
    "start_time": "2022-08-28T11:22:16.946Z"
   },
   {
    "duration": 186,
    "start_time": "2022-08-28T11:23:41.688Z"
   },
   {
    "duration": 191,
    "start_time": "2022-08-28T11:23:46.241Z"
   },
   {
    "duration": 105,
    "start_time": "2022-08-28T11:23:49.821Z"
   },
   {
    "duration": 74,
    "start_time": "2022-08-28T11:24:13.340Z"
   },
   {
    "duration": 20,
    "start_time": "2022-08-28T11:24:24.906Z"
   },
   {
    "duration": 70,
    "start_time": "2022-08-28T11:24:32.313Z"
   },
   {
    "duration": 51,
    "start_time": "2022-08-28T11:24:56.694Z"
   },
   {
    "duration": 27,
    "start_time": "2022-08-28T11:25:01.365Z"
   },
   {
    "duration": 51,
    "start_time": "2022-08-28T11:26:05.378Z"
   },
   {
    "duration": 53,
    "start_time": "2022-08-28T11:26:19.419Z"
   },
   {
    "duration": 46,
    "start_time": "2022-08-28T11:26:38.651Z"
   },
   {
    "duration": 58,
    "start_time": "2022-08-28T11:26:52.170Z"
   },
   {
    "duration": 50,
    "start_time": "2022-08-28T11:27:10.670Z"
   },
   {
    "duration": 50,
    "start_time": "2022-08-28T11:27:27.690Z"
   },
   {
    "duration": 44,
    "start_time": "2022-08-28T11:27:46.076Z"
   },
   {
    "duration": 51,
    "start_time": "2022-08-28T11:28:50.237Z"
   },
   {
    "duration": 63,
    "start_time": "2022-08-28T11:28:52.669Z"
   },
   {
    "duration": 54,
    "start_time": "2022-08-28T11:30:10.218Z"
   },
   {
    "duration": 80,
    "start_time": "2022-08-28T11:30:29.641Z"
   },
   {
    "duration": 96,
    "start_time": "2022-08-28T11:30:36.538Z"
   },
   {
    "duration": 40,
    "start_time": "2022-08-28T11:30:47.831Z"
   },
   {
    "duration": 52,
    "start_time": "2022-08-28T11:31:30.833Z"
   },
   {
    "duration": 59,
    "start_time": "2022-08-28T11:31:37.479Z"
   },
   {
    "duration": 22,
    "start_time": "2022-08-28T11:31:45.487Z"
   },
   {
    "duration": 46,
    "start_time": "2022-08-28T11:31:53.241Z"
   },
   {
    "duration": 68,
    "start_time": "2022-08-28T11:31:58.242Z"
   },
   {
    "duration": 18,
    "start_time": "2022-08-28T11:32:49.601Z"
   },
   {
    "duration": 20,
    "start_time": "2022-08-28T11:33:04.001Z"
   },
   {
    "duration": 27,
    "start_time": "2022-08-28T11:33:18.403Z"
   },
   {
    "duration": 28,
    "start_time": "2022-08-28T11:33:29.032Z"
   },
   {
    "duration": 22,
    "start_time": "2022-08-28T11:33:32.733Z"
   },
   {
    "duration": 24,
    "start_time": "2022-08-28T11:33:59.322Z"
   },
   {
    "duration": 36,
    "start_time": "2022-08-28T11:34:28.689Z"
   },
   {
    "duration": 42,
    "start_time": "2022-08-28T11:34:43.552Z"
   },
   {
    "duration": 13,
    "start_time": "2022-08-28T11:35:56.261Z"
   },
   {
    "duration": 49,
    "start_time": "2022-08-28T11:37:54.340Z"
   },
   {
    "duration": 41,
    "start_time": "2022-08-28T11:39:24.796Z"
   },
   {
    "duration": 36,
    "start_time": "2022-08-28T11:40:19.963Z"
   },
   {
    "duration": 1606,
    "start_time": "2022-08-28T11:40:26.541Z"
   },
   {
    "duration": 68,
    "start_time": "2022-08-28T11:40:28.149Z"
   },
   {
    "duration": 21,
    "start_time": "2022-08-28T11:40:28.221Z"
   },
   {
    "duration": 50,
    "start_time": "2022-08-28T11:40:28.245Z"
   },
   {
    "duration": 35,
    "start_time": "2022-08-28T11:40:28.297Z"
   },
   {
    "duration": 10,
    "start_time": "2022-08-28T11:40:28.334Z"
   },
   {
    "duration": 74,
    "start_time": "2022-08-28T11:40:28.346Z"
   },
   {
    "duration": 137,
    "start_time": "2022-08-28T11:40:28.422Z"
   },
   {
    "duration": 31,
    "start_time": "2022-08-28T11:40:28.561Z"
   },
   {
    "duration": 231,
    "start_time": "2022-08-28T11:40:28.594Z"
   },
   {
    "duration": 0,
    "start_time": "2022-08-28T11:40:28.828Z"
   },
   {
    "duration": 0,
    "start_time": "2022-08-28T11:40:28.829Z"
   },
   {
    "duration": 0,
    "start_time": "2022-08-28T11:40:28.830Z"
   },
   {
    "duration": 0,
    "start_time": "2022-08-28T11:40:28.831Z"
   },
   {
    "duration": 27,
    "start_time": "2022-08-28T11:41:22.185Z"
   },
   {
    "duration": 1526,
    "start_time": "2022-08-28T11:41:32.753Z"
   },
   {
    "duration": 83,
    "start_time": "2022-08-28T11:41:34.282Z"
   },
   {
    "duration": 22,
    "start_time": "2022-08-28T11:41:34.368Z"
   },
   {
    "duration": 31,
    "start_time": "2022-08-28T11:41:34.393Z"
   },
   {
    "duration": 69,
    "start_time": "2022-08-28T11:41:34.426Z"
   },
   {
    "duration": 16,
    "start_time": "2022-08-28T11:41:34.497Z"
   },
   {
    "duration": 43,
    "start_time": "2022-08-28T11:41:34.515Z"
   },
   {
    "duration": 208,
    "start_time": "2022-08-28T11:41:34.560Z"
   },
   {
    "duration": 25,
    "start_time": "2022-08-28T11:41:34.770Z"
   },
   {
    "duration": 174,
    "start_time": "2022-08-28T11:41:34.798Z"
   },
   {
    "duration": 0,
    "start_time": "2022-08-28T11:41:34.974Z"
   },
   {
    "duration": 0,
    "start_time": "2022-08-28T11:41:34.976Z"
   },
   {
    "duration": 0,
    "start_time": "2022-08-28T11:41:34.977Z"
   },
   {
    "duration": 0,
    "start_time": "2022-08-28T11:41:34.987Z"
   },
   {
    "duration": 26,
    "start_time": "2022-08-28T11:42:21.211Z"
   },
   {
    "duration": 14,
    "start_time": "2022-08-28T11:42:23.592Z"
   },
   {
    "duration": 4,
    "start_time": "2022-08-28T11:42:29.198Z"
   },
   {
    "duration": 33,
    "start_time": "2022-08-28T11:43:03.498Z"
   },
   {
    "duration": 42,
    "start_time": "2022-08-28T11:43:15.807Z"
   },
   {
    "duration": 52,
    "start_time": "2022-08-28T11:43:28.271Z"
   },
   {
    "duration": 1758,
    "start_time": "2022-08-28T11:43:37.678Z"
   },
   {
    "duration": 84,
    "start_time": "2022-08-28T11:43:39.438Z"
   },
   {
    "duration": 22,
    "start_time": "2022-08-28T11:43:39.524Z"
   },
   {
    "duration": 75,
    "start_time": "2022-08-28T11:43:39.549Z"
   },
   {
    "duration": 37,
    "start_time": "2022-08-28T11:43:39.626Z"
   },
   {
    "duration": 28,
    "start_time": "2022-08-28T11:43:39.665Z"
   },
   {
    "duration": 46,
    "start_time": "2022-08-28T11:43:39.695Z"
   },
   {
    "duration": 199,
    "start_time": "2022-08-28T11:43:39.743Z"
   },
   {
    "duration": 15,
    "start_time": "2022-08-28T11:43:39.944Z"
   },
   {
    "duration": 176,
    "start_time": "2022-08-28T11:43:39.962Z"
   },
   {
    "duration": 0,
    "start_time": "2022-08-28T11:43:40.140Z"
   },
   {
    "duration": 0,
    "start_time": "2022-08-28T11:43:40.142Z"
   },
   {
    "duration": 0,
    "start_time": "2022-08-28T11:43:40.144Z"
   },
   {
    "duration": 0,
    "start_time": "2022-08-28T11:43:40.145Z"
   },
   {
    "duration": 1229,
    "start_time": "2022-08-28T11:44:10.867Z"
   },
   {
    "duration": 1815,
    "start_time": "2022-08-28T11:44:23.736Z"
   },
   {
    "duration": 91,
    "start_time": "2022-08-28T11:44:25.554Z"
   },
   {
    "duration": 22,
    "start_time": "2022-08-28T11:44:25.647Z"
   },
   {
    "duration": 1330,
    "start_time": "2022-08-28T11:44:25.672Z"
   },
   {
    "duration": 43,
    "start_time": "2022-08-28T11:44:27.005Z"
   },
   {
    "duration": 37,
    "start_time": "2022-08-28T11:44:27.050Z"
   },
   {
    "duration": 46,
    "start_time": "2022-08-28T11:44:27.090Z"
   },
   {
    "duration": 209,
    "start_time": "2022-08-28T11:44:27.138Z"
   },
   {
    "duration": 16,
    "start_time": "2022-08-28T11:44:27.350Z"
   },
   {
    "duration": 189,
    "start_time": "2022-08-28T11:44:27.368Z"
   },
   {
    "duration": 0,
    "start_time": "2022-08-28T11:44:27.559Z"
   },
   {
    "duration": 0,
    "start_time": "2022-08-28T11:44:27.560Z"
   },
   {
    "duration": 0,
    "start_time": "2022-08-28T11:44:27.561Z"
   },
   {
    "duration": 0,
    "start_time": "2022-08-28T11:44:27.562Z"
   },
   {
    "duration": 61,
    "start_time": "2022-08-28T11:44:52.236Z"
   },
   {
    "duration": 58,
    "start_time": "2022-08-28T11:45:19.909Z"
   },
   {
    "duration": 1662,
    "start_time": "2022-08-28T11:45:40.614Z"
   },
   {
    "duration": 87,
    "start_time": "2022-08-28T11:45:42.278Z"
   },
   {
    "duration": 23,
    "start_time": "2022-08-28T11:45:42.367Z"
   },
   {
    "duration": 1475,
    "start_time": "2022-08-28T11:45:42.392Z"
   },
   {
    "duration": 51,
    "start_time": "2022-08-28T11:45:43.871Z"
   },
   {
    "duration": 14,
    "start_time": "2022-08-28T11:45:43.924Z"
   },
   {
    "duration": 72,
    "start_time": "2022-08-28T11:45:43.939Z"
   },
   {
    "duration": 201,
    "start_time": "2022-08-28T11:45:44.013Z"
   },
   {
    "duration": 17,
    "start_time": "2022-08-28T11:45:44.216Z"
   },
   {
    "duration": 206,
    "start_time": "2022-08-28T11:45:44.236Z"
   },
   {
    "duration": 0,
    "start_time": "2022-08-28T11:45:44.444Z"
   },
   {
    "duration": 0,
    "start_time": "2022-08-28T11:45:44.446Z"
   },
   {
    "duration": 0,
    "start_time": "2022-08-28T11:45:44.448Z"
   },
   {
    "duration": 0,
    "start_time": "2022-08-28T11:45:44.449Z"
   },
   {
    "duration": 61,
    "start_time": "2022-08-28T11:46:16.295Z"
   },
   {
    "duration": 47,
    "start_time": "2022-08-28T11:46:30.405Z"
   },
   {
    "duration": 25,
    "start_time": "2022-08-28T11:46:39.298Z"
   },
   {
    "duration": 1617,
    "start_time": "2022-08-28T11:46:53.054Z"
   },
   {
    "duration": 81,
    "start_time": "2022-08-28T11:46:54.675Z"
   },
   {
    "duration": 20,
    "start_time": "2022-08-28T11:46:54.760Z"
   },
   {
    "duration": 1211,
    "start_time": "2022-08-28T11:46:54.782Z"
   },
   {
    "duration": 51,
    "start_time": "2022-08-28T11:46:55.996Z"
   },
   {
    "duration": 27,
    "start_time": "2022-08-28T11:46:56.049Z"
   },
   {
    "duration": 54,
    "start_time": "2022-08-28T11:46:56.078Z"
   },
   {
    "duration": 205,
    "start_time": "2022-08-28T11:46:56.135Z"
   },
   {
    "duration": 17,
    "start_time": "2022-08-28T11:46:56.344Z"
   },
   {
    "duration": 209,
    "start_time": "2022-08-28T11:46:56.363Z"
   },
   {
    "duration": 0,
    "start_time": "2022-08-28T11:46:56.574Z"
   },
   {
    "duration": 0,
    "start_time": "2022-08-28T11:46:56.577Z"
   },
   {
    "duration": 0,
    "start_time": "2022-08-28T11:46:56.578Z"
   },
   {
    "duration": 0,
    "start_time": "2022-08-28T11:46:56.580Z"
   },
   {
    "duration": 57,
    "start_time": "2022-08-28T11:47:48.266Z"
   },
   {
    "duration": 57,
    "start_time": "2022-08-28T11:48:22.964Z"
   },
   {
    "duration": 54,
    "start_time": "2022-08-28T11:48:46.644Z"
   },
   {
    "duration": 44,
    "start_time": "2022-08-28T11:48:52.008Z"
   },
   {
    "duration": 30,
    "start_time": "2022-08-28T11:48:56.134Z"
   },
   {
    "duration": 1806,
    "start_time": "2022-08-28T11:49:06.158Z"
   },
   {
    "duration": 94,
    "start_time": "2022-08-28T11:49:07.966Z"
   },
   {
    "duration": 23,
    "start_time": "2022-08-28T11:49:08.062Z"
   },
   {
    "duration": 1258,
    "start_time": "2022-08-28T11:49:08.087Z"
   },
   {
    "duration": 60,
    "start_time": "2022-08-28T11:49:09.348Z"
   },
   {
    "duration": 16,
    "start_time": "2022-08-28T11:49:09.410Z"
   },
   {
    "duration": 64,
    "start_time": "2022-08-28T11:49:09.428Z"
   },
   {
    "duration": 199,
    "start_time": "2022-08-28T11:49:09.494Z"
   },
   {
    "duration": 18,
    "start_time": "2022-08-28T11:49:09.695Z"
   },
   {
    "duration": 248,
    "start_time": "2022-08-28T11:49:09.715Z"
   },
   {
    "duration": 201,
    "start_time": "2022-08-28T11:49:09.966Z"
   },
   {
    "duration": 0,
    "start_time": "2022-08-28T11:49:10.169Z"
   },
   {
    "duration": 0,
    "start_time": "2022-08-28T11:49:10.171Z"
   },
   {
    "duration": 0,
    "start_time": "2022-08-28T11:49:10.174Z"
   },
   {
    "duration": 8,
    "start_time": "2022-08-28T11:49:20.831Z"
   },
   {
    "duration": 1734,
    "start_time": "2022-08-28T11:49:40.649Z"
   },
   {
    "duration": 81,
    "start_time": "2022-08-28T11:49:42.386Z"
   },
   {
    "duration": 23,
    "start_time": "2022-08-28T11:49:42.469Z"
   },
   {
    "duration": 983,
    "start_time": "2022-08-28T11:49:42.497Z"
   },
   {
    "duration": 31,
    "start_time": "2022-08-28T11:49:43.482Z"
   },
   {
    "duration": 11,
    "start_time": "2022-08-28T11:49:43.515Z"
   },
   {
    "duration": 69,
    "start_time": "2022-08-28T11:49:43.528Z"
   },
   {
    "duration": 136,
    "start_time": "2022-08-28T11:49:43.599Z"
   },
   {
    "duration": 13,
    "start_time": "2022-08-28T11:49:43.737Z"
   },
   {
    "duration": 245,
    "start_time": "2022-08-28T11:49:43.752Z"
   },
   {
    "duration": 7,
    "start_time": "2022-08-28T11:49:43.999Z"
   },
   {
    "duration": 702,
    "start_time": "2022-08-28T11:49:44.009Z"
   },
   {
    "duration": 49802,
    "start_time": "2022-08-28T11:49:44.714Z"
   },
   {
    "duration": 372,
    "start_time": "2022-08-28T11:50:34.520Z"
   },
   {
    "duration": 1477,
    "start_time": "2022-08-29T11:20:07.044Z"
   },
   {
    "duration": 109,
    "start_time": "2022-08-29T11:20:08.524Z"
   },
   {
    "duration": 14,
    "start_time": "2022-08-29T11:20:08.635Z"
   },
   {
    "duration": 881,
    "start_time": "2022-08-29T11:20:08.651Z"
   },
   {
    "duration": 28,
    "start_time": "2022-08-29T11:20:09.534Z"
   },
   {
    "duration": 9,
    "start_time": "2022-08-29T11:20:09.563Z"
   },
   {
    "duration": 54,
    "start_time": "2022-08-29T11:20:09.574Z"
   },
   {
    "duration": 148,
    "start_time": "2022-08-29T11:20:09.630Z"
   },
   {
    "duration": 11,
    "start_time": "2022-08-29T11:20:09.780Z"
   },
   {
    "duration": 159,
    "start_time": "2022-08-29T11:20:09.794Z"
   },
   {
    "duration": 6,
    "start_time": "2022-08-29T11:20:09.957Z"
   },
   {
    "duration": 539,
    "start_time": "2022-08-29T11:20:09.964Z"
   },
   {
    "duration": 37386,
    "start_time": "2022-08-29T11:20:10.505Z"
   },
   {
    "duration": 516,
    "start_time": "2022-08-29T11:20:47.894Z"
   },
   {
    "duration": 11,
    "start_time": "2022-08-29T11:24:46.358Z"
   },
   {
    "duration": 592,
    "start_time": "2022-08-29T11:30:26.237Z"
   },
   {
    "duration": 568,
    "start_time": "2022-08-29T11:30:36.796Z"
   },
   {
    "duration": 50,
    "start_time": "2022-08-29T11:30:45.549Z"
   },
   {
    "duration": 3,
    "start_time": "2022-08-29T11:30:50.005Z"
   },
   {
    "duration": 516,
    "start_time": "2022-08-29T11:30:54.526Z"
   },
   {
    "duration": 516,
    "start_time": "2022-08-29T11:31:12.164Z"
   },
   {
    "duration": 539,
    "start_time": "2022-08-29T11:31:25.981Z"
   },
   {
    "duration": 497,
    "start_time": "2022-08-29T11:31:42.636Z"
   },
   {
    "duration": 498,
    "start_time": "2022-08-29T11:32:21.836Z"
   },
   {
    "duration": 514,
    "start_time": "2022-08-29T11:32:33.845Z"
   },
   {
    "duration": 544,
    "start_time": "2022-08-29T11:33:27.868Z"
   },
   {
    "duration": 509,
    "start_time": "2022-08-29T11:33:45.330Z"
   },
   {
    "duration": 636,
    "start_time": "2022-08-29T11:33:56.178Z"
   },
   {
    "duration": 506,
    "start_time": "2022-08-29T11:34:14.786Z"
   },
   {
    "duration": 539,
    "start_time": "2022-08-29T11:34:47.235Z"
   },
   {
    "duration": 3,
    "start_time": "2022-08-29T11:34:56.842Z"
   },
   {
    "duration": 525,
    "start_time": "2022-08-29T11:35:02.500Z"
   },
   {
    "duration": 507,
    "start_time": "2022-08-29T11:35:12.409Z"
   },
   {
    "duration": 37710,
    "start_time": "2022-08-29T11:35:28.641Z"
   },
   {
    "duration": 37606,
    "start_time": "2022-08-29T11:36:47.313Z"
   },
   {
    "duration": 37645,
    "start_time": "2022-08-29T11:37:39.912Z"
   },
   {
    "duration": 38064,
    "start_time": "2022-08-29T11:40:32.295Z"
   },
   {
    "duration": 38040,
    "start_time": "2022-08-29T11:41:14.887Z"
   },
   {
    "duration": 185,
    "start_time": "2022-08-29T11:42:45.269Z"
   },
   {
    "duration": 13,
    "start_time": "2022-08-29T11:43:51.518Z"
   },
   {
    "duration": 526,
    "start_time": "2022-08-29T11:43:59.245Z"
   },
   {
    "duration": 119,
    "start_time": "2022-08-29T11:44:09.653Z"
   },
   {
    "duration": 5,
    "start_time": "2022-08-29T11:46:59.483Z"
   },
   {
    "duration": 11640,
    "start_time": "2022-08-29T11:47:04.092Z"
   },
   {
    "duration": 5,
    "start_time": "2022-08-29T11:47:28.467Z"
   },
   {
    "duration": 11275,
    "start_time": "2022-08-29T11:47:33.251Z"
   },
   {
    "duration": 5,
    "start_time": "2022-08-29T11:48:02.203Z"
   },
   {
    "duration": 11341,
    "start_time": "2022-08-29T11:48:12.260Z"
   },
   {
    "duration": 2,
    "start_time": "2022-08-29T11:48:50.459Z"
   },
   {
    "duration": 11283,
    "start_time": "2022-08-29T11:48:54.284Z"
   },
   {
    "duration": 4,
    "start_time": "2022-08-29T11:49:32.090Z"
   },
   {
    "duration": 11724,
    "start_time": "2022-08-29T11:49:35.988Z"
   },
   {
    "duration": 1359,
    "start_time": "2022-08-29T11:50:03.107Z"
   },
   {
    "duration": 74,
    "start_time": "2022-08-29T11:50:04.468Z"
   },
   {
    "duration": 15,
    "start_time": "2022-08-29T11:50:04.544Z"
   },
   {
    "duration": 842,
    "start_time": "2022-08-29T11:50:04.561Z"
   },
   {
    "duration": 28,
    "start_time": "2022-08-29T11:50:05.409Z"
   },
   {
    "duration": 10,
    "start_time": "2022-08-29T11:50:05.439Z"
   },
   {
    "duration": 31,
    "start_time": "2022-08-29T11:50:05.451Z"
   },
   {
    "duration": 126,
    "start_time": "2022-08-29T11:50:05.510Z"
   },
   {
    "duration": 12,
    "start_time": "2022-08-29T11:50:05.638Z"
   },
   {
    "duration": 182,
    "start_time": "2022-08-29T11:50:05.652Z"
   },
   {
    "duration": 5,
    "start_time": "2022-08-29T11:50:05.836Z"
   },
   {
    "duration": 8,
    "start_time": "2022-08-29T11:50:05.843Z"
   },
   {
    "duration": 544,
    "start_time": "2022-08-29T11:50:05.852Z"
   },
   {
    "duration": 188,
    "start_time": "2022-08-29T11:50:06.408Z"
   },
   {
    "duration": 38570,
    "start_time": "2022-08-29T11:50:06.598Z"
   },
   {
    "duration": 187,
    "start_time": "2022-08-29T11:50:45.170Z"
   },
   {
    "duration": 654,
    "start_time": "2022-08-29T11:50:45.358Z"
   },
   {
    "duration": 5,
    "start_time": "2022-08-29T11:51:25.694Z"
   },
   {
    "duration": 1330,
    "start_time": "2022-08-29T11:54:11.664Z"
   },
   {
    "duration": 69,
    "start_time": "2022-08-29T11:54:12.996Z"
   },
   {
    "duration": 16,
    "start_time": "2022-08-29T11:54:13.067Z"
   },
   {
    "duration": 874,
    "start_time": "2022-08-29T11:54:13.086Z"
   },
   {
    "duration": 28,
    "start_time": "2022-08-29T11:54:13.962Z"
   },
   {
    "duration": 25,
    "start_time": "2022-08-29T11:54:13.992Z"
   },
   {
    "duration": 33,
    "start_time": "2022-08-29T11:54:14.019Z"
   },
   {
    "duration": 148,
    "start_time": "2022-08-29T11:54:14.054Z"
   },
   {
    "duration": 12,
    "start_time": "2022-08-29T11:54:14.209Z"
   },
   {
    "duration": 164,
    "start_time": "2022-08-29T11:54:14.224Z"
   },
   {
    "duration": 6,
    "start_time": "2022-08-29T11:54:14.389Z"
   },
   {
    "duration": 5,
    "start_time": "2022-08-29T11:54:14.408Z"
   },
   {
    "duration": 522,
    "start_time": "2022-08-29T11:54:14.414Z"
   },
   {
    "duration": 223,
    "start_time": "2022-08-29T11:54:14.938Z"
   },
   {
    "duration": 38891,
    "start_time": "2022-08-29T11:54:15.163Z"
   },
   {
    "duration": 190,
    "start_time": "2022-08-29T11:54:54.055Z"
   },
   {
    "duration": 2165,
    "start_time": "2022-08-29T11:54:54.246Z"
   },
   {
    "duration": 1055,
    "start_time": "2022-08-29T11:57:49.558Z"
   },
   {
    "duration": 253,
    "start_time": "2022-08-29T11:57:52.278Z"
   },
   {
    "duration": 297,
    "start_time": "2022-08-29T12:00:20.269Z"
   },
   {
    "duration": 342,
    "start_time": "2022-08-29T12:06:16.547Z"
   },
   {
    "duration": 456,
    "start_time": "2022-08-29T12:06:35.857Z"
   },
   {
    "duration": 12,
    "start_time": "2022-08-29T12:10:12.377Z"
   },
   {
    "duration": 502,
    "start_time": "2022-08-29T12:23:58.236Z"
   },
   {
    "duration": 113,
    "start_time": "2022-08-29T12:24:00.532Z"
   },
   {
    "duration": 89,
    "start_time": "2022-08-29T12:32:23.726Z"
   },
   {
    "duration": 102,
    "start_time": "2022-08-29T12:32:29.021Z"
   },
   {
    "duration": 36,
    "start_time": "2022-08-29T12:32:52.670Z"
   },
   {
    "duration": 12288,
    "start_time": "2022-08-29T12:33:00.958Z"
   },
   {
    "duration": 136,
    "start_time": "2022-08-29T12:34:14.470Z"
   },
   {
    "duration": 112,
    "start_time": "2022-08-29T12:34:20.974Z"
   },
   {
    "duration": 49,
    "start_time": "2022-08-29T12:34:27.774Z"
   },
   {
    "duration": 49,
    "start_time": "2022-08-29T12:34:30.854Z"
   },
   {
    "duration": 81,
    "start_time": "2022-08-29T12:34:41.879Z"
   },
   {
    "duration": 44,
    "start_time": "2022-08-29T12:34:44.590Z"
   },
   {
    "duration": 74,
    "start_time": "2022-08-29T12:34:49.227Z"
   },
   {
    "duration": 48,
    "start_time": "2022-08-29T12:34:56.830Z"
   },
   {
    "duration": 9210,
    "start_time": "2022-08-29T12:34:59.894Z"
   },
   {
    "duration": 99,
    "start_time": "2022-08-29T12:35:48.149Z"
   },
   {
    "duration": 9331,
    "start_time": "2022-08-29T12:35:57.530Z"
   },
   {
    "duration": 52,
    "start_time": "2022-08-29T12:36:15.642Z"
   },
   {
    "duration": 9010,
    "start_time": "2022-08-29T12:36:25.842Z"
   },
   {
    "duration": 9143,
    "start_time": "2022-08-29T12:36:56.003Z"
   },
   {
    "duration": 9448,
    "start_time": "2022-08-29T12:38:11.597Z"
   },
   {
    "duration": 513,
    "start_time": "2022-08-29T12:46:55.601Z"
   },
   {
    "duration": 67,
    "start_time": "2022-08-29T12:48:15.095Z"
   },
   {
    "duration": 443,
    "start_time": "2022-08-29T12:53:42.172Z"
   },
   {
    "duration": 291,
    "start_time": "2022-08-29T12:53:44.588Z"
   },
   {
    "duration": 157,
    "start_time": "2022-08-30T11:36:12.186Z"
   },
   {
    "duration": 49,
    "start_time": "2022-08-30T11:43:50.398Z"
   },
   {
    "duration": 38,
    "start_time": "2022-08-30T11:49:59.838Z"
   },
   {
    "duration": 1652,
    "start_time": "2022-08-30T11:50:08.423Z"
   },
   {
    "duration": 106,
    "start_time": "2022-08-30T11:50:10.077Z"
   },
   {
    "duration": 13,
    "start_time": "2022-08-30T11:50:10.185Z"
   },
   {
    "duration": 804,
    "start_time": "2022-08-30T11:50:10.200Z"
   },
   {
    "duration": 26,
    "start_time": "2022-08-30T11:50:11.006Z"
   },
   {
    "duration": 9,
    "start_time": "2022-08-30T11:50:11.033Z"
   },
   {
    "duration": 48,
    "start_time": "2022-08-30T11:50:11.043Z"
   },
   {
    "duration": 121,
    "start_time": "2022-08-30T11:50:11.093Z"
   },
   {
    "duration": 11,
    "start_time": "2022-08-30T11:50:11.215Z"
   },
   {
    "duration": 150,
    "start_time": "2022-08-30T11:50:11.228Z"
   },
   {
    "duration": 4,
    "start_time": "2022-08-30T11:50:11.384Z"
   },
   {
    "duration": 8230,
    "start_time": "2022-08-30T11:50:11.390Z"
   },
   {
    "duration": 467,
    "start_time": "2022-08-30T11:50:19.622Z"
   },
   {
    "duration": 5,
    "start_time": "2022-08-30T11:50:20.091Z"
   },
   {
    "duration": 550,
    "start_time": "2022-08-30T11:50:20.098Z"
   },
   {
    "duration": 173,
    "start_time": "2022-08-30T11:50:20.651Z"
   },
   {
    "duration": 34569,
    "start_time": "2022-08-30T11:50:20.826Z"
   },
   {
    "duration": 171,
    "start_time": "2022-08-30T11:50:55.397Z"
   },
   {
    "duration": 317,
    "start_time": "2022-08-30T11:50:55.569Z"
   },
   {
    "duration": 296,
    "start_time": "2022-08-30T11:50:55.888Z"
   },
   {
    "duration": 101,
    "start_time": "2022-08-30T11:50:56.186Z"
   },
   {
    "duration": 19,
    "start_time": "2022-08-30T11:51:34.408Z"
   },
   {
    "duration": 17,
    "start_time": "2022-08-30T11:51:53.479Z"
   },
   {
    "duration": 17,
    "start_time": "2022-08-30T11:52:08.606Z"
   },
   {
    "duration": 16,
    "start_time": "2022-08-30T11:53:31.847Z"
   },
   {
    "duration": 16,
    "start_time": "2022-08-30T11:54:11.758Z"
   },
   {
    "duration": 4,
    "start_time": "2022-08-30T11:54:16.678Z"
   },
   {
    "duration": 25,
    "start_time": "2022-08-30T11:54:26.958Z"
   },
   {
    "duration": 24,
    "start_time": "2022-08-30T11:55:53.671Z"
   },
   {
    "duration": 15,
    "start_time": "2022-08-30T11:57:55.939Z"
   },
   {
    "duration": 12,
    "start_time": "2022-08-30T11:58:05.644Z"
   },
   {
    "duration": 25,
    "start_time": "2022-08-30T11:58:46.981Z"
   },
   {
    "duration": 26,
    "start_time": "2022-08-30T11:58:58.116Z"
   },
   {
    "duration": 15,
    "start_time": "2022-08-30T11:59:06.022Z"
   },
   {
    "duration": 17,
    "start_time": "2022-08-30T11:59:35.268Z"
   },
   {
    "duration": 11,
    "start_time": "2022-08-30T12:00:48.835Z"
   },
   {
    "duration": 19,
    "start_time": "2022-08-30T12:01:05.732Z"
   },
   {
    "duration": 14,
    "start_time": "2022-08-30T12:01:10.003Z"
   },
   {
    "duration": 74324,
    "start_time": "2022-08-30T12:01:15.835Z"
   },
   {
    "duration": 74603,
    "start_time": "2022-08-30T12:02:38.738Z"
   },
   {
    "duration": 739934,
    "start_time": "2022-08-30T12:04:10.001Z"
   },
   {
    "duration": 122571,
    "start_time": "2022-08-30T12:18:13.866Z"
   },
   {
    "duration": 12,
    "start_time": "2022-08-30T12:23:41.833Z"
   },
   {
    "duration": 539,
    "start_time": "2022-08-30T12:23:44.266Z"
   },
   {
    "duration": 343,
    "start_time": "2022-08-30T12:23:52.135Z"
   },
   {
    "duration": 11,
    "start_time": "2022-08-30T12:24:05.376Z"
   },
   {
    "duration": 432,
    "start_time": "2022-08-30T12:24:07.447Z"
   },
   {
    "duration": 10,
    "start_time": "2022-08-30T12:24:11.113Z"
   },
   {
    "duration": 368,
    "start_time": "2022-08-30T12:24:12.967Z"
   },
   {
    "duration": 11,
    "start_time": "2022-08-30T12:24:57.567Z"
   },
   {
    "duration": 11,
    "start_time": "2022-08-30T12:25:04.233Z"
   },
   {
    "duration": 457,
    "start_time": "2022-08-30T12:25:14.456Z"
   },
   {
    "duration": 16,
    "start_time": "2022-08-30T12:25:42.329Z"
   },
   {
    "duration": 601,
    "start_time": "2022-08-30T12:25:44.080Z"
   },
   {
    "duration": 563,
    "start_time": "2022-08-30T12:26:13.768Z"
   },
   {
    "duration": 14,
    "start_time": "2022-08-30T12:26:23.343Z"
   },
   {
    "duration": 14,
    "start_time": "2022-08-30T12:26:30.976Z"
   },
   {
    "duration": 14,
    "start_time": "2022-08-30T12:26:34.463Z"
   },
   {
    "duration": 454,
    "start_time": "2022-08-30T12:26:42.623Z"
   },
   {
    "duration": 667,
    "start_time": "2022-08-30T12:26:55.487Z"
   },
   {
    "duration": 456,
    "start_time": "2022-08-30T12:27:13.255Z"
   },
   {
    "duration": 696,
    "start_time": "2022-08-30T12:27:30.935Z"
   },
   {
    "duration": 692,
    "start_time": "2022-08-30T12:27:53.351Z"
   },
   {
    "duration": 12,
    "start_time": "2022-08-30T12:28:09.856Z"
   },
   {
    "duration": 644,
    "start_time": "2022-08-30T12:28:11.790Z"
   },
   {
    "duration": 11,
    "start_time": "2022-08-30T12:28:23.824Z"
   },
   {
    "duration": 960,
    "start_time": "2022-08-30T12:28:25.214Z"
   },
   {
    "duration": 13,
    "start_time": "2022-08-30T12:28:29.590Z"
   },
   {
    "duration": 1286,
    "start_time": "2022-08-30T12:28:31.087Z"
   },
   {
    "duration": 12,
    "start_time": "2022-08-30T12:28:41.167Z"
   },
   {
    "duration": 896,
    "start_time": "2022-08-30T12:28:42.726Z"
   },
   {
    "duration": 644,
    "start_time": "2022-08-30T12:28:45.479Z"
   },
   {
    "duration": 383,
    "start_time": "2022-08-30T12:28:48.575Z"
   },
   {
    "duration": 380,
    "start_time": "2022-08-30T12:28:57.143Z"
   },
   {
    "duration": 15,
    "start_time": "2022-08-30T12:30:31.151Z"
   },
   {
    "duration": 356,
    "start_time": "2022-08-30T12:30:33.223Z"
   },
   {
    "duration": 13,
    "start_time": "2022-08-30T12:30:40.183Z"
   },
   {
    "duration": 431,
    "start_time": "2022-08-30T12:30:42.022Z"
   },
   {
    "duration": 623,
    "start_time": "2022-08-30T12:30:50.357Z"
   },
   {
    "duration": 15,
    "start_time": "2022-08-30T12:30:53.350Z"
   },
   {
    "duration": 681,
    "start_time": "2022-08-30T12:32:06.845Z"
   },
   {
    "duration": 652,
    "start_time": "2022-08-30T12:32:12.021Z"
   },
   {
    "duration": 560,
    "start_time": "2022-08-30T12:32:17.078Z"
   },
   {
    "duration": 629,
    "start_time": "2022-08-30T12:32:22.870Z"
   },
   {
    "duration": 622,
    "start_time": "2022-08-30T12:37:21.172Z"
   },
   {
    "duration": 12,
    "start_time": "2022-08-30T12:42:50.684Z"
   },
   {
    "duration": 487,
    "start_time": "2022-08-30T12:42:53.218Z"
   },
   {
    "duration": 13,
    "start_time": "2022-08-30T12:42:57.289Z"
   },
   {
    "duration": 390,
    "start_time": "2022-08-30T12:42:59.012Z"
   },
   {
    "duration": 13,
    "start_time": "2022-08-30T12:43:02.404Z"
   },
   {
    "duration": 498,
    "start_time": "2022-08-30T12:43:03.892Z"
   },
   {
    "duration": 15,
    "start_time": "2022-08-30T12:43:08.035Z"
   },
   {
    "duration": 633,
    "start_time": "2022-08-30T12:43:09.908Z"
   },
   {
    "duration": 72748,
    "start_time": "2022-08-30T12:43:23.846Z"
   },
   {
    "duration": 11954,
    "start_time": "2022-08-30T12:47:24.924Z"
   },
   {
    "duration": 114967,
    "start_time": "2022-08-30T12:47:49.400Z"
   },
   {
    "duration": 169896,
    "start_time": "2022-08-30T12:49:52.612Z"
   },
   {
    "duration": 30,
    "start_time": "2022-08-30T12:52:42.510Z"
   },
   {
    "duration": 21,
    "start_time": "2022-08-30T12:55:26.923Z"
   },
   {
    "duration": 29,
    "start_time": "2022-08-30T12:55:42.403Z"
   },
   {
    "duration": 532,
    "start_time": "2022-08-30T12:59:07.115Z"
   },
   {
    "duration": 418,
    "start_time": "2022-08-30T12:59:27.826Z"
   },
   {
    "duration": 571,
    "start_time": "2022-08-30T12:59:40.331Z"
   },
   {
    "duration": 633,
    "start_time": "2022-08-30T12:59:50.906Z"
   },
   {
    "duration": 629,
    "start_time": "2022-08-30T13:00:41.984Z"
   },
   {
    "duration": 642,
    "start_time": "2022-08-30T13:00:45.994Z"
   },
   {
    "duration": 14666,
    "start_time": "2022-08-30T13:01:08.056Z"
   },
   {
    "duration": 14727,
    "start_time": "2022-08-30T13:01:34.953Z"
   },
   {
    "duration": 15159,
    "start_time": "2022-08-30T13:02:00.664Z"
   },
   {
    "duration": 60073,
    "start_time": "2022-08-30T13:02:23.105Z"
   },
   {
    "duration": 37935,
    "start_time": "2022-08-30T13:03:42.617Z"
   },
   {
    "duration": 78661,
    "start_time": "2022-08-30T13:04:25.215Z"
   },
   {
    "duration": 51346,
    "start_time": "2022-08-30T13:06:07.656Z"
   },
   {
    "duration": 33169,
    "start_time": "2022-08-30T13:07:14.403Z"
   },
   {
    "duration": 640,
    "start_time": "2022-08-30T13:09:30.293Z"
   },
   {
    "duration": 122,
    "start_time": "2022-08-30T13:09:42.774Z"
   },
   {
    "duration": 629,
    "start_time": "2022-08-30T13:09:47.207Z"
   },
   {
    "duration": 106,
    "start_time": "2022-08-30T13:09:49.598Z"
   },
   {
    "duration": 109,
    "start_time": "2022-08-30T13:10:18.662Z"
   },
   {
    "duration": 47,
    "start_time": "2022-08-30T13:14:31.471Z"
   },
   {
    "duration": 46,
    "start_time": "2022-08-30T13:14:45.655Z"
   },
   {
    "duration": 89,
    "start_time": "2022-08-30T13:14:53.197Z"
   },
   {
    "duration": 22,
    "start_time": "2022-08-30T13:15:05.286Z"
   },
   {
    "duration": 51254,
    "start_time": "2022-08-30T13:15:31.886Z"
   },
   {
    "duration": 55001,
    "start_time": "2022-08-30T13:19:44.687Z"
   },
   {
    "duration": 83225,
    "start_time": "2022-08-30T13:21:57.832Z"
   },
   {
    "duration": 54850,
    "start_time": "2022-08-30T13:24:40.135Z"
   },
   {
    "duration": 138657,
    "start_time": "2022-08-30T13:27:01.839Z"
   },
   {
    "duration": 79316,
    "start_time": "2022-08-30T13:29:40.016Z"
   },
   {
    "duration": 31679,
    "start_time": "2022-08-30T13:31:26.527Z"
   },
   {
    "duration": 46,
    "start_time": "2022-08-30T13:32:28.328Z"
   },
   {
    "duration": 56378,
    "start_time": "2022-08-30T13:32:45.351Z"
   },
   {
    "duration": 34317,
    "start_time": "2022-08-30T13:33:46.751Z"
   },
   {
    "duration": 21,
    "start_time": "2022-08-30T13:38:49.991Z"
   },
   {
    "duration": 13,
    "start_time": "2022-08-30T13:38:58.278Z"
   },
   {
    "duration": 201,
    "start_time": "2022-08-30T13:40:05.326Z"
   },
   {
    "duration": 8080,
    "start_time": "2022-08-30T13:40:48.486Z"
   },
   {
    "duration": 57,
    "start_time": "2022-08-30T13:41:33.230Z"
   },
   {
    "duration": 9,
    "start_time": "2022-08-30T13:44:35.628Z"
   },
   {
    "duration": 4,
    "start_time": "2022-08-30T13:44:39.277Z"
   },
   {
    "duration": 12,
    "start_time": "2022-08-30T13:44:41.716Z"
   },
   {
    "duration": 13,
    "start_time": "2022-08-30T13:44:52.942Z"
   },
   {
    "duration": 13,
    "start_time": "2022-08-30T13:45:04.220Z"
   },
   {
    "duration": 16,
    "start_time": "2022-08-30T13:47:05.484Z"
   },
   {
    "duration": 6,
    "start_time": "2022-08-30T13:47:08.732Z"
   },
   {
    "duration": 10,
    "start_time": "2022-08-30T13:47:10.677Z"
   },
   {
    "duration": 4,
    "start_time": "2022-08-30T13:47:24.632Z"
   },
   {
    "duration": 633,
    "start_time": "2022-08-30T13:47:27.523Z"
   },
   {
    "duration": 580,
    "start_time": "2022-08-30T13:48:02.926Z"
   },
   {
    "duration": 1296,
    "start_time": "2022-08-30T13:48:10.829Z"
   },
   {
    "duration": 62,
    "start_time": "2022-08-30T13:48:12.128Z"
   },
   {
    "duration": 21,
    "start_time": "2022-08-30T13:48:12.191Z"
   },
   {
    "duration": 901,
    "start_time": "2022-08-30T13:48:12.215Z"
   },
   {
    "duration": 26,
    "start_time": "2022-08-30T13:48:13.118Z"
   },
   {
    "duration": 9,
    "start_time": "2022-08-30T13:48:13.145Z"
   },
   {
    "duration": 53,
    "start_time": "2022-08-30T13:48:13.155Z"
   },
   {
    "duration": 128,
    "start_time": "2022-08-30T13:48:13.210Z"
   },
   {
    "duration": 11,
    "start_time": "2022-08-30T13:48:13.340Z"
   },
   {
    "duration": 162,
    "start_time": "2022-08-30T13:48:13.354Z"
   },
   {
    "duration": 5,
    "start_time": "2022-08-30T13:48:13.518Z"
   },
   {
    "duration": 9391,
    "start_time": "2022-08-30T13:48:13.525Z"
   },
   {
    "duration": 76,
    "start_time": "2022-08-30T13:48:22.919Z"
   },
   {
    "duration": 93,
    "start_time": "2022-08-30T13:48:22.996Z"
   },
   {
    "duration": 494,
    "start_time": "2022-08-30T13:48:23.091Z"
   },
   {
    "duration": 199,
    "start_time": "2022-08-30T13:48:23.586Z"
   },
   {
    "duration": 38745,
    "start_time": "2022-08-30T13:48:23.787Z"
   },
   {
    "duration": 192,
    "start_time": "2022-08-30T13:49:02.533Z"
   },
   {
    "duration": 161,
    "start_time": "2022-08-30T13:49:02.726Z"
   },
   {
    "duration": 300,
    "start_time": "2022-08-30T13:49:02.890Z"
   },
   {
    "duration": 9,
    "start_time": "2022-08-30T13:49:03.192Z"
   },
   {
    "duration": 21,
    "start_time": "2022-08-30T13:49:03.203Z"
   },
   {
    "duration": 631,
    "start_time": "2022-08-30T13:49:03.226Z"
   },
   {
    "duration": 32562,
    "start_time": "2022-08-30T13:49:03.859Z"
   },
   {
    "duration": 70,
    "start_time": "2022-08-30T13:49:36.422Z"
   },
   {
    "duration": 104,
    "start_time": "2022-08-30T13:49:36.494Z"
   },
   {
    "duration": 201,
    "start_time": "2022-08-30T13:49:36.601Z"
   },
   {
    "duration": 7152,
    "start_time": "2022-08-30T13:49:36.808Z"
   },
   {
    "duration": 25,
    "start_time": "2022-08-30T13:49:43.962Z"
   },
   {
    "duration": 632,
    "start_time": "2022-08-30T17:04:54.747Z"
   },
   {
    "duration": 157,
    "start_time": "2022-08-30T17:47:31.118Z"
   },
   {
    "duration": 7,
    "start_time": "2022-08-30T17:47:34.483Z"
   },
   {
    "duration": 12569,
    "start_time": "2022-08-30T17:47:37.086Z"
   },
   {
    "duration": 56,
    "start_time": "2022-08-30T17:48:22.209Z"
   },
   {
    "duration": 5,
    "start_time": "2022-08-30T17:48:26.892Z"
   },
   {
    "duration": 12673,
    "start_time": "2022-08-30T17:48:35.380Z"
   },
   {
    "duration": 6,
    "start_time": "2022-08-30T17:48:54.984Z"
   },
   {
    "duration": 20580,
    "start_time": "2022-08-30T17:48:59.364Z"
   },
   {
    "duration": 20970,
    "start_time": "2022-08-30T17:50:31.223Z"
   },
   {
    "duration": 10,
    "start_time": "2022-08-30T17:51:27.652Z"
   },
   {
    "duration": 6,
    "start_time": "2022-08-30T17:51:32.089Z"
   },
   {
    "duration": 9,
    "start_time": "2022-08-30T17:51:35.849Z"
   },
   {
    "duration": 55,
    "start_time": "2022-08-30T17:51:46.283Z"
   },
   {
    "duration": 4,
    "start_time": "2022-08-30T17:52:00.983Z"
   },
   {
    "duration": 58801,
    "start_time": "2022-08-30T17:52:06.563Z"
   },
   {
    "duration": 6983,
    "start_time": "2022-08-30T17:54:25.999Z"
   },
   {
    "duration": 29,
    "start_time": "2022-08-30T18:03:46.956Z"
   },
   {
    "duration": 1291,
    "start_time": "2022-08-30T18:03:52.733Z"
   },
   {
    "duration": 62,
    "start_time": "2022-08-30T18:03:54.025Z"
   },
   {
    "duration": 13,
    "start_time": "2022-08-30T18:03:54.088Z"
   },
   {
    "duration": 892,
    "start_time": "2022-08-30T18:03:54.103Z"
   },
   {
    "duration": 39,
    "start_time": "2022-08-30T18:03:54.996Z"
   },
   {
    "duration": 13,
    "start_time": "2022-08-30T18:03:55.037Z"
   },
   {
    "duration": 65,
    "start_time": "2022-08-30T18:03:55.052Z"
   },
   {
    "duration": 132,
    "start_time": "2022-08-30T18:03:55.119Z"
   },
   {
    "duration": 17,
    "start_time": "2022-08-30T18:03:55.253Z"
   },
   {
    "duration": 166,
    "start_time": "2022-08-30T18:03:55.287Z"
   },
   {
    "duration": 7,
    "start_time": "2022-08-30T18:03:55.454Z"
   },
   {
    "duration": 8431,
    "start_time": "2022-08-30T18:03:55.463Z"
   },
   {
    "duration": 22,
    "start_time": "2022-08-30T18:04:03.896Z"
   },
   {
    "duration": 70,
    "start_time": "2022-08-30T18:04:03.920Z"
   },
   {
    "duration": 608,
    "start_time": "2022-08-30T18:04:03.992Z"
   },
   {
    "duration": 171,
    "start_time": "2022-08-30T18:04:04.602Z"
   },
   {
    "duration": 35026,
    "start_time": "2022-08-30T18:04:04.784Z"
   },
   {
    "duration": 179,
    "start_time": "2022-08-30T18:04:39.811Z"
   },
   {
    "duration": 93,
    "start_time": "2022-08-30T18:04:39.992Z"
   },
   {
    "duration": 280,
    "start_time": "2022-08-30T18:04:40.087Z"
   },
   {
    "duration": 17,
    "start_time": "2022-08-30T18:04:40.368Z"
   },
   {
    "duration": 16,
    "start_time": "2022-08-30T18:04:40.386Z"
   },
   {
    "duration": 591,
    "start_time": "2022-08-30T18:04:40.404Z"
   },
   {
    "duration": 51407,
    "start_time": "2022-08-30T18:04:40.996Z"
   },
   {
    "duration": 80,
    "start_time": "2022-08-30T18:05:32.404Z"
   },
   {
    "duration": 11,
    "start_time": "2022-08-30T18:05:32.487Z"
   },
   {
    "duration": 684,
    "start_time": "2022-08-30T18:05:32.499Z"
   },
   {
    "duration": 6458,
    "start_time": "2022-08-30T18:05:33.187Z"
   },
   {
    "duration": 39,
    "start_time": "2022-08-30T18:05:39.647Z"
   },
   {
    "duration": 10,
    "start_time": "2022-08-30T18:35:50.273Z"
   },
   {
    "duration": 586,
    "start_time": "2022-08-30T18:35:52.305Z"
   },
   {
    "duration": 8596,
    "start_time": "2022-08-30T18:36:02.932Z"
   },
   {
    "duration": 19,
    "start_time": "2022-08-30T18:36:15.476Z"
   },
   {
    "duration": 10,
    "start_time": "2022-08-30T18:36:21.125Z"
   },
   {
    "duration": 628,
    "start_time": "2022-08-30T18:36:23.142Z"
   },
   {
    "duration": 10532,
    "start_time": "2022-08-30T18:36:25.082Z"
   },
   {
    "duration": 27,
    "start_time": "2022-08-30T18:36:39.589Z"
   },
   {
    "duration": 10,
    "start_time": "2022-08-30T18:36:43.772Z"
   },
   {
    "duration": 574,
    "start_time": "2022-08-30T18:36:45.344Z"
   },
   {
    "duration": 8611,
    "start_time": "2022-08-30T18:36:48.402Z"
   },
   {
    "duration": 12,
    "start_time": "2022-08-30T18:37:03.716Z"
   },
   {
    "duration": 609,
    "start_time": "2022-08-30T18:37:05.908Z"
   },
   {
    "duration": 10356,
    "start_time": "2022-08-30T18:37:13.221Z"
   },
   {
    "duration": 16,
    "start_time": "2022-08-30T18:37:25.382Z"
   },
   {
    "duration": 17,
    "start_time": "2022-08-30T18:38:18.327Z"
   },
   {
    "duration": 406,
    "start_time": "2022-08-30T18:38:20.039Z"
   },
   {
    "duration": 18513,
    "start_time": "2022-08-30T18:38:25.606Z"
   },
   {
    "duration": 28,
    "start_time": "2022-08-30T18:38:49.303Z"
   },
   {
    "duration": 1248,
    "start_time": "2022-08-30T18:39:23.528Z"
   },
   {
    "duration": 62,
    "start_time": "2022-08-30T18:39:24.778Z"
   },
   {
    "duration": 15,
    "start_time": "2022-08-30T18:39:24.841Z"
   },
   {
    "duration": 837,
    "start_time": "2022-08-30T18:39:24.858Z"
   },
   {
    "duration": 29,
    "start_time": "2022-08-30T18:39:25.698Z"
   },
   {
    "duration": 9,
    "start_time": "2022-08-30T18:39:25.729Z"
   },
   {
    "duration": 47,
    "start_time": "2022-08-30T18:39:25.739Z"
   },
   {
    "duration": 125,
    "start_time": "2022-08-30T18:39:25.788Z"
   },
   {
    "duration": 12,
    "start_time": "2022-08-30T18:39:25.915Z"
   },
   {
    "duration": 159,
    "start_time": "2022-08-30T18:39:25.928Z"
   },
   {
    "duration": 5,
    "start_time": "2022-08-30T18:39:26.088Z"
   },
   {
    "duration": 8844,
    "start_time": "2022-08-30T18:39:26.095Z"
   },
   {
    "duration": 46,
    "start_time": "2022-08-30T18:39:34.941Z"
   },
   {
    "duration": 98,
    "start_time": "2022-08-30T18:39:34.995Z"
   },
   {
    "duration": 579,
    "start_time": "2022-08-30T18:39:35.095Z"
   },
   {
    "duration": 200,
    "start_time": "2022-08-30T18:39:35.675Z"
   },
   {
    "duration": 36605,
    "start_time": "2022-08-30T18:39:35.877Z"
   },
   {
    "duration": 193,
    "start_time": "2022-08-30T18:40:12.485Z"
   },
   {
    "duration": 106,
    "start_time": "2022-08-30T18:40:12.680Z"
   },
   {
    "duration": 298,
    "start_time": "2022-08-30T18:40:12.788Z"
   },
   {
    "duration": 6,
    "start_time": "2022-08-30T18:40:13.088Z"
   },
   {
    "duration": 24,
    "start_time": "2022-08-30T18:40:13.096Z"
   },
   {
    "duration": 422,
    "start_time": "2022-08-30T18:40:13.122Z"
   },
   {
    "duration": 18212,
    "start_time": "2022-08-30T18:40:13.546Z"
   },
   {
    "duration": 39,
    "start_time": "2022-08-30T18:40:31.760Z"
   },
   {
    "duration": 87,
    "start_time": "2022-08-30T18:40:31.801Z"
   },
   {
    "duration": 524,
    "start_time": "2022-08-30T18:40:31.893Z"
   },
   {
    "duration": 10320,
    "start_time": "2022-08-30T18:40:32.419Z"
   },
   {
    "duration": 45,
    "start_time": "2022-08-30T18:40:42.741Z"
   },
   {
    "duration": 3,
    "start_time": "2022-08-30T18:43:54.617Z"
   },
   {
    "duration": 100,
    "start_time": "2022-08-30T18:43:58.487Z"
   },
   {
    "duration": 1355,
    "start_time": "2022-08-30T18:44:06.806Z"
   },
   {
    "duration": 66,
    "start_time": "2022-08-30T18:44:08.163Z"
   },
   {
    "duration": 16,
    "start_time": "2022-08-30T18:44:08.230Z"
   },
   {
    "duration": 893,
    "start_time": "2022-08-30T18:44:08.248Z"
   },
   {
    "duration": 45,
    "start_time": "2022-08-30T18:44:09.145Z"
   },
   {
    "duration": 11,
    "start_time": "2022-08-30T18:44:09.192Z"
   },
   {
    "duration": 34,
    "start_time": "2022-08-30T18:44:09.205Z"
   },
   {
    "duration": 164,
    "start_time": "2022-08-30T18:44:09.241Z"
   },
   {
    "duration": 15,
    "start_time": "2022-08-30T18:44:09.407Z"
   },
   {
    "duration": 167,
    "start_time": "2022-08-30T18:44:09.423Z"
   },
   {
    "duration": 6,
    "start_time": "2022-08-30T18:44:09.592Z"
   },
   {
    "duration": 8702,
    "start_time": "2022-08-30T18:44:09.600Z"
   },
   {
    "duration": 84,
    "start_time": "2022-08-30T18:44:18.303Z"
   },
   {
    "duration": 5,
    "start_time": "2022-08-30T18:44:18.390Z"
   },
   {
    "duration": 465,
    "start_time": "2022-08-30T18:44:18.485Z"
   },
   {
    "duration": 193,
    "start_time": "2022-08-30T18:44:18.952Z"
   },
   {
    "duration": 36175,
    "start_time": "2022-08-30T18:44:19.147Z"
   },
   {
    "duration": 189,
    "start_time": "2022-08-30T18:44:55.324Z"
   },
   {
    "duration": 72,
    "start_time": "2022-08-30T18:44:55.515Z"
   },
   {
    "duration": 313,
    "start_time": "2022-08-30T18:44:55.589Z"
   },
   {
    "duration": 9,
    "start_time": "2022-08-30T18:44:55.904Z"
   },
   {
    "duration": 14,
    "start_time": "2022-08-30T18:44:55.915Z"
   },
   {
    "duration": 420,
    "start_time": "2022-08-30T18:44:55.931Z"
   },
   {
    "duration": 18311,
    "start_time": "2022-08-30T18:44:56.352Z"
   },
   {
    "duration": 121,
    "start_time": "2022-08-30T18:45:14.665Z"
   },
   {
    "duration": 96,
    "start_time": "2022-08-30T18:45:14.788Z"
   },
   {
    "duration": 415,
    "start_time": "2022-08-30T18:45:14.890Z"
   },
   {
    "duration": 10253,
    "start_time": "2022-08-30T18:45:15.306Z"
   },
   {
    "duration": 26,
    "start_time": "2022-08-30T18:45:25.561Z"
   },
   {
    "duration": 321,
    "start_time": "2022-08-30T18:45:25.589Z"
   },
   {
    "duration": 148,
    "start_time": "2022-08-30T18:46:04.904Z"
   },
   {
    "duration": 237,
    "start_time": "2022-08-30T18:46:13.860Z"
   },
   {
    "duration": 153,
    "start_time": "2022-08-30T18:46:22.289Z"
   },
   {
    "duration": 78,
    "start_time": "2022-08-30T18:46:32.782Z"
   },
   {
    "duration": 150,
    "start_time": "2022-08-30T18:46:43.088Z"
   },
   {
    "duration": 559,
    "start_time": "2022-08-30T18:47:31.180Z"
   },
   {
    "duration": 14667,
    "start_time": "2022-08-30T18:48:01.502Z"
   },
   {
    "duration": 536,
    "start_time": "2022-08-30T18:49:12.879Z"
   },
   {
    "duration": 21644,
    "start_time": "2022-08-30T18:49:50.187Z"
   },
   {
    "duration": 11,
    "start_time": "2022-08-30T18:52:32.021Z"
   },
   {
    "duration": 11,
    "start_time": "2022-08-30T18:52:44.172Z"
   },
   {
    "duration": 11,
    "start_time": "2022-08-30T18:52:57.531Z"
   },
   {
    "duration": 11,
    "start_time": "2022-08-30T18:53:09.943Z"
   },
   {
    "duration": 20,
    "start_time": "2022-08-30T18:53:39.557Z"
   },
   {
    "duration": 29,
    "start_time": "2022-08-30T18:53:50.571Z"
   },
   {
    "duration": 20,
    "start_time": "2022-08-30T18:54:00.544Z"
   },
   {
    "duration": 19,
    "start_time": "2022-08-30T18:54:32.563Z"
   },
   {
    "duration": 6,
    "start_time": "2022-08-30T18:54:36.185Z"
   },
   {
    "duration": 154,
    "start_time": "2022-08-30T18:54:42.598Z"
   },
   {
    "duration": 159,
    "start_time": "2022-08-30T18:54:52.982Z"
   },
   {
    "duration": 142,
    "start_time": "2022-08-30T18:54:55.492Z"
   },
   {
    "duration": 169,
    "start_time": "2022-08-30T18:55:11.870Z"
   },
   {
    "duration": 1377,
    "start_time": "2022-08-30T18:55:26.072Z"
   },
   {
    "duration": 65,
    "start_time": "2022-08-30T18:55:27.451Z"
   },
   {
    "duration": 16,
    "start_time": "2022-08-30T18:55:27.517Z"
   },
   {
    "duration": 858,
    "start_time": "2022-08-30T18:55:27.535Z"
   },
   {
    "duration": 30,
    "start_time": "2022-08-30T18:55:28.396Z"
   },
   {
    "duration": 11,
    "start_time": "2022-08-30T18:55:28.427Z"
   },
   {
    "duration": 62,
    "start_time": "2022-08-30T18:55:28.440Z"
   },
   {
    "duration": 156,
    "start_time": "2022-08-30T18:55:28.504Z"
   },
   {
    "duration": 24,
    "start_time": "2022-08-30T18:55:28.662Z"
   },
   {
    "duration": 165,
    "start_time": "2022-08-30T18:55:28.687Z"
   },
   {
    "duration": 5,
    "start_time": "2022-08-30T18:55:28.854Z"
   },
   {
    "duration": 9549,
    "start_time": "2022-08-30T18:55:28.861Z"
   },
   {
    "duration": 24,
    "start_time": "2022-08-30T18:55:38.411Z"
   },
   {
    "duration": 7,
    "start_time": "2022-08-30T18:55:38.490Z"
   },
   {
    "duration": 521,
    "start_time": "2022-08-30T18:55:38.585Z"
   },
   {
    "duration": 206,
    "start_time": "2022-08-30T18:55:39.108Z"
   },
   {
    "duration": 23673,
    "start_time": "2022-08-30T18:55:39.315Z"
   },
   {
    "duration": 177,
    "start_time": "2022-08-30T18:56:02.990Z"
   },
   {
    "duration": 121,
    "start_time": "2022-08-30T18:56:03.169Z"
   },
   {
    "duration": 317,
    "start_time": "2022-08-30T18:56:03.292Z"
   },
   {
    "duration": 8,
    "start_time": "2022-08-30T18:56:03.611Z"
   },
   {
    "duration": 22,
    "start_time": "2022-08-30T18:56:03.621Z"
   },
   {
    "duration": 478,
    "start_time": "2022-08-30T18:56:03.645Z"
   },
   {
    "duration": 20391,
    "start_time": "2022-08-30T18:56:04.125Z"
   },
   {
    "duration": 68,
    "start_time": "2022-08-30T18:56:24.519Z"
   },
   {
    "duration": 100,
    "start_time": "2022-08-30T18:56:24.590Z"
   },
   {
    "duration": 462,
    "start_time": "2022-08-30T18:56:24.693Z"
   },
   {
    "duration": 11168,
    "start_time": "2022-08-30T18:56:25.157Z"
   },
   {
    "duration": 157,
    "start_time": "2022-08-30T18:56:36.327Z"
   },
   {
    "duration": 221,
    "start_time": "2022-08-30T18:56:36.486Z"
   },
   {
    "duration": 164,
    "start_time": "2022-08-30T18:56:52.735Z"
   },
   {
    "duration": 146,
    "start_time": "2022-08-30T18:57:30.067Z"
   },
   {
    "duration": 42729,
    "start_time": "2022-08-30T18:59:54.059Z"
   },
   {
    "duration": 23921,
    "start_time": "2022-08-30T19:00:45.152Z"
   },
   {
    "duration": 1443,
    "start_time": "2022-08-30T19:01:34.550Z"
   },
   {
    "duration": 68,
    "start_time": "2022-08-30T19:01:35.995Z"
   },
   {
    "duration": 16,
    "start_time": "2022-08-30T19:01:36.065Z"
   },
   {
    "duration": 837,
    "start_time": "2022-08-30T19:01:36.082Z"
   },
   {
    "duration": 29,
    "start_time": "2022-08-30T19:01:36.921Z"
   },
   {
    "duration": 36,
    "start_time": "2022-08-30T19:01:36.952Z"
   },
   {
    "duration": 34,
    "start_time": "2022-08-30T19:01:36.990Z"
   },
   {
    "duration": 140,
    "start_time": "2022-08-30T19:01:37.026Z"
   },
   {
    "duration": 23,
    "start_time": "2022-08-30T19:01:37.167Z"
   },
   {
    "duration": 177,
    "start_time": "2022-08-30T19:01:37.191Z"
   },
   {
    "duration": 6,
    "start_time": "2022-08-30T19:01:37.370Z"
   },
   {
    "duration": 9922,
    "start_time": "2022-08-30T19:01:37.385Z"
   },
   {
    "duration": 35,
    "start_time": "2022-08-30T19:01:47.308Z"
   },
   {
    "duration": 141,
    "start_time": "2022-08-30T19:01:47.346Z"
   },
   {
    "duration": 637,
    "start_time": "2022-08-30T19:01:47.489Z"
   },
   {
    "duration": 241,
    "start_time": "2022-08-30T19:01:48.128Z"
   },
   {
    "duration": 24255,
    "start_time": "2022-08-30T19:01:48.372Z"
   },
   {
    "duration": 194,
    "start_time": "2022-08-30T19:02:12.629Z"
   },
   {
    "duration": 61,
    "start_time": "2022-08-30T19:02:12.825Z"
   },
   {
    "duration": 397,
    "start_time": "2022-08-30T19:02:12.896Z"
   },
   {
    "duration": 8,
    "start_time": "2022-08-30T19:02:13.295Z"
   },
   {
    "duration": 19,
    "start_time": "2022-08-30T19:02:13.305Z"
   },
   {
    "duration": 443,
    "start_time": "2022-08-30T19:02:13.326Z"
   },
   {
    "duration": 20632,
    "start_time": "2022-08-30T19:02:13.772Z"
   },
   {
    "duration": 80,
    "start_time": "2022-08-30T19:02:34.406Z"
   },
   {
    "duration": 98,
    "start_time": "2022-08-30T19:02:34.488Z"
   },
   {
    "duration": 465,
    "start_time": "2022-08-30T19:02:34.588Z"
   },
   {
    "duration": 11334,
    "start_time": "2022-08-30T19:02:35.056Z"
   },
   {
    "duration": 20,
    "start_time": "2022-08-30T19:02:46.392Z"
   },
   {
    "duration": 304,
    "start_time": "2022-08-30T19:02:46.415Z"
   },
   {
    "duration": 63,
    "start_time": "2022-08-30T19:06:32.687Z"
   },
   {
    "duration": 17,
    "start_time": "2022-08-30T19:09:17.524Z"
   },
   {
    "duration": 439,
    "start_time": "2022-08-30T19:09:20.096Z"
   },
   {
    "duration": 9412,
    "start_time": "2022-08-30T19:09:22.926Z"
   },
   {
    "duration": 11,
    "start_time": "2022-08-30T19:09:40.144Z"
   },
   {
    "duration": 438,
    "start_time": "2022-08-30T19:09:42.264Z"
   },
   {
    "duration": 13147,
    "start_time": "2022-08-30T19:09:51.638Z"
   },
   {
    "duration": 14,
    "start_time": "2022-08-30T19:10:10.080Z"
   },
   {
    "duration": 471,
    "start_time": "2022-08-30T19:10:12.041Z"
   },
   {
    "duration": 11634,
    "start_time": "2022-08-30T19:10:13.826Z"
   },
   {
    "duration": 17466,
    "start_time": "2022-08-30T19:10:43.994Z"
   },
   {
    "duration": 11701,
    "start_time": "2022-08-30T19:11:08.655Z"
   },
   {
    "duration": 31829,
    "start_time": "2022-08-30T19:11:20.359Z"
   },
   {
    "duration": 1444,
    "start_time": "2022-08-30T19:13:01.468Z"
   },
   {
    "duration": 68,
    "start_time": "2022-08-30T19:13:02.916Z"
   },
   {
    "duration": 17,
    "start_time": "2022-08-30T19:13:02.986Z"
   },
   {
    "duration": 925,
    "start_time": "2022-08-30T19:13:03.005Z"
   },
   {
    "duration": 29,
    "start_time": "2022-08-30T19:13:03.932Z"
   },
   {
    "duration": 30,
    "start_time": "2022-08-30T19:13:03.963Z"
   },
   {
    "duration": 34,
    "start_time": "2022-08-30T19:13:03.995Z"
   },
   {
    "duration": 147,
    "start_time": "2022-08-30T19:13:04.030Z"
   },
   {
    "duration": 14,
    "start_time": "2022-08-30T19:13:04.185Z"
   },
   {
    "duration": 174,
    "start_time": "2022-08-30T19:13:04.201Z"
   },
   {
    "duration": 12,
    "start_time": "2022-08-30T19:13:04.377Z"
   },
   {
    "duration": 9658,
    "start_time": "2022-08-30T19:13:04.391Z"
   },
   {
    "duration": 141,
    "start_time": "2022-08-30T19:13:14.052Z"
   },
   {
    "duration": 6,
    "start_time": "2022-08-30T19:13:14.197Z"
   },
   {
    "duration": 630,
    "start_time": "2022-08-30T19:13:14.205Z"
   },
   {
    "duration": 193,
    "start_time": "2022-08-30T19:13:14.837Z"
   },
   {
    "duration": 24405,
    "start_time": "2022-08-30T19:13:15.031Z"
   },
   {
    "duration": 184,
    "start_time": "2022-08-30T19:13:39.437Z"
   },
   {
    "duration": 63,
    "start_time": "2022-08-30T19:13:39.623Z"
   },
   {
    "duration": 309,
    "start_time": "2022-08-30T19:13:39.689Z"
   },
   {
    "duration": 8,
    "start_time": "2022-08-30T19:13:39.999Z"
   },
   {
    "duration": 30,
    "start_time": "2022-08-30T19:13:40.009Z"
   },
   {
    "duration": 522,
    "start_time": "2022-08-30T19:13:40.042Z"
   },
   {
    "duration": 20830,
    "start_time": "2022-08-30T19:13:40.566Z"
   },
   {
    "duration": 30,
    "start_time": "2022-08-30T19:14:01.397Z"
   },
   {
    "duration": 64,
    "start_time": "2022-08-30T19:14:01.429Z"
   },
   {
    "duration": 540,
    "start_time": "2022-08-30T19:14:01.495Z"
   },
   {
    "duration": 11558,
    "start_time": "2022-08-30T19:14:02.037Z"
   },
   {
    "duration": 188,
    "start_time": "2022-08-30T19:14:13.597Z"
   },
   {
    "duration": 168,
    "start_time": "2022-08-30T19:14:13.787Z"
   },
   {
    "duration": 10,
    "start_time": "2022-08-31T05:29:37.186Z"
   },
   {
    "duration": 8,
    "start_time": "2022-08-31T05:48:33.356Z"
   },
   {
    "duration": 46,
    "start_time": "2022-08-31T05:48:38.786Z"
   },
   {
    "duration": 1639,
    "start_time": "2022-08-31T05:48:45.019Z"
   },
   {
    "duration": 390,
    "start_time": "2022-08-31T05:48:46.661Z"
   },
   {
    "duration": 17,
    "start_time": "2022-08-31T05:48:47.053Z"
   },
   {
    "duration": 941,
    "start_time": "2022-08-31T05:48:47.073Z"
   },
   {
    "duration": 31,
    "start_time": "2022-08-31T05:48:48.016Z"
   },
   {
    "duration": 10,
    "start_time": "2022-08-31T05:48:48.049Z"
   },
   {
    "duration": 58,
    "start_time": "2022-08-31T05:48:48.061Z"
   },
   {
    "duration": 140,
    "start_time": "2022-08-31T05:48:48.120Z"
   },
   {
    "duration": 17,
    "start_time": "2022-08-31T05:48:48.262Z"
   },
   {
    "duration": 174,
    "start_time": "2022-08-31T05:48:48.293Z"
   },
   {
    "duration": 5,
    "start_time": "2022-08-31T05:48:48.469Z"
   },
   {
    "duration": 10252,
    "start_time": "2022-08-31T05:48:48.476Z"
   },
   {
    "duration": 69,
    "start_time": "2022-08-31T05:48:58.730Z"
   },
   {
    "duration": 105,
    "start_time": "2022-08-31T05:48:58.801Z"
   },
   {
    "duration": 638,
    "start_time": "2022-08-31T05:48:58.907Z"
   },
   {
    "duration": 225,
    "start_time": "2022-08-31T05:48:59.547Z"
   },
   {
    "duration": 25075,
    "start_time": "2022-08-31T05:48:59.774Z"
   },
   {
    "duration": 187,
    "start_time": "2022-08-31T05:49:24.851Z"
   },
   {
    "duration": 60,
    "start_time": "2022-08-31T05:49:25.039Z"
   },
   {
    "duration": 412,
    "start_time": "2022-08-31T05:49:25.101Z"
   },
   {
    "duration": 11,
    "start_time": "2022-08-31T05:49:25.516Z"
   },
   {
    "duration": 20,
    "start_time": "2022-08-31T05:49:25.529Z"
   },
   {
    "duration": 612,
    "start_time": "2022-08-31T05:49:25.551Z"
   },
   {
    "duration": 21735,
    "start_time": "2022-08-31T05:49:26.165Z"
   },
   {
    "duration": 401,
    "start_time": "2022-08-31T05:49:47.902Z"
   },
   {
    "duration": 11,
    "start_time": "2022-08-31T05:49:48.305Z"
   },
   {
    "duration": 595,
    "start_time": "2022-08-31T05:49:48.318Z"
   },
   {
    "duration": 12040,
    "start_time": "2022-08-31T05:49:48.917Z"
   },
   {
    "duration": 343,
    "start_time": "2022-08-31T05:50:00.959Z"
   },
   {
    "duration": 162,
    "start_time": "2022-08-31T05:50:01.303Z"
   },
   {
    "duration": 83,
    "start_time": "2022-08-31T05:54:39.211Z"
   },
   {
    "duration": 1387,
    "start_time": "2022-08-31T05:56:34.514Z"
   },
   {
    "duration": 64,
    "start_time": "2022-08-31T05:56:35.903Z"
   },
   {
    "duration": 19,
    "start_time": "2022-08-31T05:56:35.969Z"
   },
   {
    "duration": 923,
    "start_time": "2022-08-31T05:56:35.991Z"
   },
   {
    "duration": 29,
    "start_time": "2022-08-31T05:56:36.917Z"
   },
   {
    "duration": 10,
    "start_time": "2022-08-31T05:56:36.947Z"
   },
   {
    "duration": 56,
    "start_time": "2022-08-31T05:56:36.959Z"
   },
   {
    "duration": 143,
    "start_time": "2022-08-31T05:56:37.016Z"
   },
   {
    "duration": 13,
    "start_time": "2022-08-31T05:56:37.162Z"
   },
   {
    "duration": 186,
    "start_time": "2022-08-31T05:56:37.177Z"
   },
   {
    "duration": 6,
    "start_time": "2022-08-31T05:56:37.365Z"
   },
   {
    "duration": 10051,
    "start_time": "2022-08-31T05:56:37.373Z"
   },
   {
    "duration": 72,
    "start_time": "2022-08-31T05:56:47.425Z"
   },
   {
    "duration": 93,
    "start_time": "2022-08-31T05:56:47.500Z"
   },
   {
    "duration": 567,
    "start_time": "2022-08-31T05:56:47.594Z"
   },
   {
    "duration": 202,
    "start_time": "2022-08-31T05:56:48.163Z"
   },
   {
    "duration": 24520,
    "start_time": "2022-08-31T05:56:48.367Z"
   },
   {
    "duration": 178,
    "start_time": "2022-08-31T05:57:12.889Z"
   },
   {
    "duration": 43,
    "start_time": "2022-08-31T05:57:13.069Z"
   },
   {
    "duration": 317,
    "start_time": "2022-08-31T05:57:13.194Z"
   },
   {
    "duration": 8,
    "start_time": "2022-08-31T05:57:13.513Z"
   },
   {
    "duration": 22,
    "start_time": "2022-08-31T05:57:13.523Z"
   },
   {
    "duration": 620,
    "start_time": "2022-08-31T05:57:13.547Z"
   },
   {
    "duration": 21827,
    "start_time": "2022-08-31T05:57:14.169Z"
   },
   {
    "duration": 405,
    "start_time": "2022-08-31T05:57:35.998Z"
   },
   {
    "duration": 12,
    "start_time": "2022-08-31T05:57:36.405Z"
   },
   {
    "duration": 638,
    "start_time": "2022-08-31T05:57:36.419Z"
   },
   {
    "duration": 11893,
    "start_time": "2022-08-31T05:57:37.059Z"
   },
   {
    "duration": 356,
    "start_time": "2022-08-31T05:57:48.954Z"
   },
   {
    "duration": 166,
    "start_time": "2022-08-31T05:57:49.312Z"
   },
   {
    "duration": 321,
    "start_time": "2022-08-31T05:59:13.582Z"
   },
   {
    "duration": 51,
    "start_time": "2022-08-31T11:05:52.209Z"
   },
   {
    "duration": 128,
    "start_time": "2022-08-31T11:05:57.456Z"
   },
   {
    "duration": 1487,
    "start_time": "2022-08-31T11:06:23.669Z"
   },
   {
    "duration": 185,
    "start_time": "2022-08-31T11:06:25.158Z"
   },
   {
    "duration": 14,
    "start_time": "2022-08-31T11:06:25.344Z"
   },
   {
    "duration": 783,
    "start_time": "2022-08-31T11:06:25.359Z"
   },
   {
    "duration": 32,
    "start_time": "2022-08-31T11:06:26.144Z"
   },
   {
    "duration": 8,
    "start_time": "2022-08-31T11:06:26.177Z"
   },
   {
    "duration": 27,
    "start_time": "2022-08-31T11:06:26.187Z"
   },
   {
    "duration": 125,
    "start_time": "2022-08-31T11:06:26.216Z"
   },
   {
    "duration": 17,
    "start_time": "2022-08-31T11:06:26.342Z"
   },
   {
    "duration": 144,
    "start_time": "2022-08-31T11:06:26.362Z"
   },
   {
    "duration": 4,
    "start_time": "2022-08-31T11:06:26.507Z"
   },
   {
    "duration": 8057,
    "start_time": "2022-08-31T11:06:26.513Z"
   },
   {
    "duration": 23,
    "start_time": "2022-08-31T11:06:34.571Z"
   },
   {
    "duration": 4,
    "start_time": "2022-08-31T11:06:34.656Z"
   },
   {
    "duration": 556,
    "start_time": "2022-08-31T11:06:34.665Z"
   },
   {
    "duration": 175,
    "start_time": "2022-08-31T11:06:35.223Z"
   },
   {
    "duration": 172,
    "start_time": "2022-08-31T11:06:35.400Z"
   },
   {
    "duration": 8,
    "start_time": "2022-08-31T11:06:35.573Z"
   },
   {
    "duration": 0,
    "start_time": "2022-08-31T11:06:35.582Z"
   },
   {
    "duration": 0,
    "start_time": "2022-08-31T11:06:35.583Z"
   },
   {
    "duration": 0,
    "start_time": "2022-08-31T11:06:35.584Z"
   },
   {
    "duration": 0,
    "start_time": "2022-08-31T11:06:35.585Z"
   },
   {
    "duration": 0,
    "start_time": "2022-08-31T11:06:35.586Z"
   },
   {
    "duration": 0,
    "start_time": "2022-08-31T11:06:35.587Z"
   },
   {
    "duration": 0,
    "start_time": "2022-08-31T11:06:35.588Z"
   },
   {
    "duration": 0,
    "start_time": "2022-08-31T11:06:35.589Z"
   },
   {
    "duration": 0,
    "start_time": "2022-08-31T11:06:35.591Z"
   },
   {
    "duration": 0,
    "start_time": "2022-08-31T11:06:35.592Z"
   },
   {
    "duration": 0,
    "start_time": "2022-08-31T11:06:35.592Z"
   },
   {
    "duration": 0,
    "start_time": "2022-08-31T11:06:35.594Z"
   },
   {
    "duration": 20206,
    "start_time": "2022-08-31T11:07:58.005Z"
   },
   {
    "duration": 1285,
    "start_time": "2022-08-31T11:08:47.394Z"
   },
   {
    "duration": 58,
    "start_time": "2022-08-31T11:08:48.680Z"
   },
   {
    "duration": 14,
    "start_time": "2022-08-31T11:08:48.739Z"
   },
   {
    "duration": 801,
    "start_time": "2022-08-31T11:08:48.754Z"
   },
   {
    "duration": 26,
    "start_time": "2022-08-31T11:08:49.556Z"
   },
   {
    "duration": 9,
    "start_time": "2022-08-31T11:08:49.583Z"
   },
   {
    "duration": 27,
    "start_time": "2022-08-31T11:08:49.593Z"
   },
   {
    "duration": 129,
    "start_time": "2022-08-31T11:08:49.621Z"
   },
   {
    "duration": 11,
    "start_time": "2022-08-31T11:08:49.755Z"
   },
   {
    "duration": 143,
    "start_time": "2022-08-31T11:08:49.769Z"
   },
   {
    "duration": 4,
    "start_time": "2022-08-31T11:08:49.914Z"
   },
   {
    "duration": 8305,
    "start_time": "2022-08-31T11:08:49.920Z"
   },
   {
    "duration": 40,
    "start_time": "2022-08-31T11:08:58.227Z"
   },
   {
    "duration": 88,
    "start_time": "2022-08-31T11:08:58.269Z"
   },
   {
    "duration": 556,
    "start_time": "2022-08-31T11:08:58.358Z"
   },
   {
    "duration": 178,
    "start_time": "2022-08-31T11:08:58.915Z"
   },
   {
    "duration": 19950,
    "start_time": "2022-08-31T11:08:59.094Z"
   },
   {
    "duration": 164,
    "start_time": "2022-08-31T11:09:19.046Z"
   },
   {
    "duration": 56,
    "start_time": "2022-08-31T11:09:19.211Z"
   },
   {
    "duration": 387,
    "start_time": "2022-08-31T11:09:19.268Z"
   },
   {
    "duration": 8,
    "start_time": "2022-08-31T11:09:19.657Z"
   },
   {
    "duration": 16,
    "start_time": "2022-08-31T11:09:19.666Z"
   },
   {
    "duration": 513,
    "start_time": "2022-08-31T11:09:19.683Z"
   },
   {
    "duration": 17537,
    "start_time": "2022-08-31T11:09:20.198Z"
   },
   {
    "duration": 302,
    "start_time": "2022-08-31T11:09:37.736Z"
   },
   {
    "duration": 23,
    "start_time": "2022-08-31T11:09:38.039Z"
   },
   {
    "duration": 487,
    "start_time": "2022-08-31T11:09:38.063Z"
   },
   {
    "duration": 9732,
    "start_time": "2022-08-31T11:09:38.555Z"
   },
   {
    "duration": 252,
    "start_time": "2022-08-31T11:09:48.288Z"
   },
   {
    "duration": 297,
    "start_time": "2022-08-31T11:09:48.541Z"
   },
   {
    "duration": 416,
    "start_time": "2022-09-01T06:26:58.846Z"
   },
   {
    "duration": 1114,
    "start_time": "2022-09-01T06:27:10.498Z"
   },
   {
    "duration": 51,
    "start_time": "2022-09-01T06:29:05.418Z"
   },
   {
    "duration": 102,
    "start_time": "2022-09-01T06:29:11.571Z"
   },
   {
    "duration": 12,
    "start_time": "2022-09-01T06:29:14.770Z"
   },
   {
    "duration": 11,
    "start_time": "2022-09-01T06:30:06.649Z"
   },
   {
    "duration": 5,
    "start_time": "2022-09-01T06:30:13.521Z"
   },
   {
    "duration": 6,
    "start_time": "2022-09-01T06:31:40.176Z"
   },
   {
    "duration": 552,
    "start_time": "2022-09-01T06:32:54.425Z"
   },
   {
    "duration": 867,
    "start_time": "2022-09-01T06:33:07.217Z"
   },
   {
    "duration": 5,
    "start_time": "2022-09-01T06:33:18.056Z"
   },
   {
    "duration": 6,
    "start_time": "2022-09-01T06:33:20.991Z"
   },
   {
    "duration": 14,
    "start_time": "2022-09-01T06:33:41.208Z"
   },
   {
    "duration": 4,
    "start_time": "2022-09-01T06:33:54.487Z"
   },
   {
    "duration": 4,
    "start_time": "2022-09-01T06:35:17.869Z"
   },
   {
    "duration": 4,
    "start_time": "2022-09-01T06:35:23.600Z"
   },
   {
    "duration": 1318,
    "start_time": "2022-09-01T06:35:46.486Z"
   },
   {
    "duration": 63,
    "start_time": "2022-09-01T06:35:47.806Z"
   },
   {
    "duration": 14,
    "start_time": "2022-09-01T06:35:47.870Z"
   },
   {
    "duration": 5,
    "start_time": "2022-09-01T06:35:47.886Z"
   },
   {
    "duration": 17,
    "start_time": "2022-09-01T06:35:47.892Z"
   },
   {
    "duration": 30,
    "start_time": "2022-09-01T06:35:47.910Z"
   },
   {
    "duration": 9,
    "start_time": "2022-09-01T06:35:47.942Z"
   },
   {
    "duration": 41,
    "start_time": "2022-09-01T06:35:47.953Z"
   },
   {
    "duration": 124,
    "start_time": "2022-09-01T06:35:47.995Z"
   },
   {
    "duration": 11,
    "start_time": "2022-09-01T06:35:48.122Z"
   },
   {
    "duration": 160,
    "start_time": "2022-09-01T06:35:48.135Z"
   },
   {
    "duration": 5,
    "start_time": "2022-09-01T06:35:48.297Z"
   },
   {
    "duration": 9038,
    "start_time": "2022-09-01T06:35:48.303Z"
   },
   {
    "duration": 146,
    "start_time": "2022-09-01T06:35:57.342Z"
   },
   {
    "duration": 7,
    "start_time": "2022-09-01T06:35:57.490Z"
   },
   {
    "duration": 550,
    "start_time": "2022-09-01T06:35:57.499Z"
   },
   {
    "duration": 144,
    "start_time": "2022-09-01T06:35:58.050Z"
   },
   {
    "duration": 23572,
    "start_time": "2022-09-01T06:35:58.196Z"
   },
   {
    "duration": 186,
    "start_time": "2022-09-01T06:36:21.769Z"
   },
   {
    "duration": 32,
    "start_time": "2022-09-01T06:36:21.957Z"
   },
   {
    "duration": 299,
    "start_time": "2022-09-01T06:36:21.991Z"
   },
   {
    "duration": 7,
    "start_time": "2022-09-01T06:36:22.292Z"
   },
   {
    "duration": 19,
    "start_time": "2022-09-01T06:36:22.301Z"
   },
   {
    "duration": 552,
    "start_time": "2022-09-01T06:36:22.321Z"
   },
   {
    "duration": 19412,
    "start_time": "2022-09-01T06:36:22.874Z"
   },
   {
    "duration": 300,
    "start_time": "2022-09-01T06:36:42.288Z"
   },
   {
    "duration": 10,
    "start_time": "2022-09-01T06:36:42.590Z"
   },
   {
    "duration": 533,
    "start_time": "2022-09-01T06:36:42.602Z"
   },
   {
    "duration": 10349,
    "start_time": "2022-09-01T06:36:43.137Z"
   },
   {
    "duration": 307,
    "start_time": "2022-09-01T06:36:53.488Z"
   },
   {
    "duration": 392,
    "start_time": "2022-09-01T06:36:53.797Z"
   },
   {
    "duration": 3,
    "start_time": "2022-09-01T06:41:39.469Z"
   },
   {
    "duration": 27,
    "start_time": "2022-09-01T06:41:55.795Z"
   },
   {
    "duration": 4,
    "start_time": "2022-09-01T06:41:58.818Z"
   },
   {
    "duration": 3,
    "start_time": "2022-09-01T06:42:03.633Z"
   },
   {
    "duration": 1387,
    "start_time": "2022-09-01T06:42:10.336Z"
   },
   {
    "duration": 63,
    "start_time": "2022-09-01T06:42:11.725Z"
   },
   {
    "duration": 15,
    "start_time": "2022-09-01T06:42:11.790Z"
   },
   {
    "duration": 13,
    "start_time": "2022-09-01T06:42:11.807Z"
   },
   {
    "duration": 17,
    "start_time": "2022-09-01T06:42:11.822Z"
   },
   {
    "duration": 39,
    "start_time": "2022-09-01T06:42:11.841Z"
   },
   {
    "duration": 3,
    "start_time": "2022-09-01T06:42:11.882Z"
   },
   {
    "duration": 0,
    "start_time": "2022-09-01T06:42:11.887Z"
   },
   {
    "duration": 0,
    "start_time": "2022-09-01T06:42:11.888Z"
   },
   {
    "duration": 0,
    "start_time": "2022-09-01T06:42:11.889Z"
   },
   {
    "duration": 0,
    "start_time": "2022-09-01T06:42:11.891Z"
   },
   {
    "duration": 0,
    "start_time": "2022-09-01T06:42:11.892Z"
   },
   {
    "duration": 0,
    "start_time": "2022-09-01T06:42:11.893Z"
   },
   {
    "duration": 0,
    "start_time": "2022-09-01T06:42:11.894Z"
   },
   {
    "duration": 0,
    "start_time": "2022-09-01T06:42:11.895Z"
   },
   {
    "duration": 0,
    "start_time": "2022-09-01T06:42:11.897Z"
   },
   {
    "duration": 0,
    "start_time": "2022-09-01T06:42:11.898Z"
   },
   {
    "duration": 0,
    "start_time": "2022-09-01T06:42:11.898Z"
   },
   {
    "duration": 0,
    "start_time": "2022-09-01T06:42:11.899Z"
   },
   {
    "duration": 0,
    "start_time": "2022-09-01T06:42:11.900Z"
   },
   {
    "duration": 0,
    "start_time": "2022-09-01T06:42:11.901Z"
   },
   {
    "duration": 0,
    "start_time": "2022-09-01T06:42:11.903Z"
   },
   {
    "duration": 0,
    "start_time": "2022-09-01T06:42:11.904Z"
   },
   {
    "duration": 0,
    "start_time": "2022-09-01T06:42:11.905Z"
   },
   {
    "duration": 0,
    "start_time": "2022-09-01T06:42:11.906Z"
   },
   {
    "duration": 0,
    "start_time": "2022-09-01T06:42:11.908Z"
   },
   {
    "duration": 0,
    "start_time": "2022-09-01T06:42:11.909Z"
   },
   {
    "duration": 0,
    "start_time": "2022-09-01T06:42:11.910Z"
   },
   {
    "duration": 0,
    "start_time": "2022-09-01T06:42:11.912Z"
   },
   {
    "duration": 0,
    "start_time": "2022-09-01T06:42:11.914Z"
   },
   {
    "duration": 0,
    "start_time": "2022-09-01T06:42:11.915Z"
   },
   {
    "duration": 11,
    "start_time": "2022-09-01T06:42:37.777Z"
   },
   {
    "duration": 10,
    "start_time": "2022-09-01T06:42:50.754Z"
   },
   {
    "duration": 22,
    "start_time": "2022-09-01T06:43:21.890Z"
   },
   {
    "duration": 12,
    "start_time": "2022-09-01T06:43:29.785Z"
   },
   {
    "duration": 11,
    "start_time": "2022-09-01T06:43:39.469Z"
   },
   {
    "duration": 10,
    "start_time": "2022-09-01T06:43:50.737Z"
   },
   {
    "duration": 11,
    "start_time": "2022-09-01T06:44:04.512Z"
   },
   {
    "duration": 25,
    "start_time": "2022-09-01T06:44:06.329Z"
   },
   {
    "duration": 25,
    "start_time": "2022-09-01T06:44:15.091Z"
   },
   {
    "duration": 21,
    "start_time": "2022-09-01T06:44:22.618Z"
   },
   {
    "duration": 21,
    "start_time": "2022-09-01T06:44:27.033Z"
   },
   {
    "duration": 169,
    "start_time": "2022-09-01T06:44:58.289Z"
   },
   {
    "duration": 16,
    "start_time": "2022-09-01T06:45:22.669Z"
   },
   {
    "duration": 20,
    "start_time": "2022-09-01T06:45:29.553Z"
   },
   {
    "duration": 11,
    "start_time": "2022-09-01T06:46:12.769Z"
   },
   {
    "duration": 21,
    "start_time": "2022-09-01T06:46:17.019Z"
   },
   {
    "duration": 19,
    "start_time": "2022-09-01T06:46:27.040Z"
   },
   {
    "duration": 25,
    "start_time": "2022-09-01T06:46:47.952Z"
   },
   {
    "duration": 17,
    "start_time": "2022-09-01T06:47:16.385Z"
   },
   {
    "duration": 23,
    "start_time": "2022-09-01T06:47:21.648Z"
   },
   {
    "duration": 23,
    "start_time": "2022-09-01T06:47:25.152Z"
   },
   {
    "duration": 16,
    "start_time": "2022-09-01T06:47:31.227Z"
   },
   {
    "duration": 12,
    "start_time": "2022-09-01T06:47:38.519Z"
   },
   {
    "duration": 120,
    "start_time": "2022-09-01T06:48:00.128Z"
   },
   {
    "duration": 63,
    "start_time": "2022-09-01T06:49:24.521Z"
   },
   {
    "duration": 113,
    "start_time": "2022-09-01T06:49:43.518Z"
   },
   {
    "duration": 7,
    "start_time": "2022-09-01T06:51:09.407Z"
   },
   {
    "duration": 9,
    "start_time": "2022-09-01T06:51:43.019Z"
   },
   {
    "duration": 8,
    "start_time": "2022-09-01T06:51:47.985Z"
   },
   {
    "duration": 1411,
    "start_time": "2022-09-01T06:51:56.265Z"
   },
   {
    "duration": 62,
    "start_time": "2022-09-01T06:51:57.678Z"
   },
   {
    "duration": 14,
    "start_time": "2022-09-01T06:51:57.742Z"
   },
   {
    "duration": 3,
    "start_time": "2022-09-01T06:51:57.757Z"
   },
   {
    "duration": 21,
    "start_time": "2022-09-01T06:51:57.763Z"
   },
   {
    "duration": 30,
    "start_time": "2022-09-01T06:51:57.786Z"
   },
   {
    "duration": 13,
    "start_time": "2022-09-01T06:51:57.817Z"
   },
   {
    "duration": 27,
    "start_time": "2022-09-01T06:51:57.831Z"
   },
   {
    "duration": 141,
    "start_time": "2022-09-01T06:51:57.860Z"
   },
   {
    "duration": 12,
    "start_time": "2022-09-01T06:51:58.002Z"
   },
   {
    "duration": 162,
    "start_time": "2022-09-01T06:51:58.016Z"
   },
   {
    "duration": 9,
    "start_time": "2022-09-01T06:51:58.180Z"
   },
   {
    "duration": 7401,
    "start_time": "2022-09-01T06:51:58.190Z"
   },
   {
    "duration": 94,
    "start_time": "2022-09-01T06:52:05.594Z"
   },
   {
    "duration": 95,
    "start_time": "2022-09-01T06:52:05.691Z"
   },
   {
    "duration": 485,
    "start_time": "2022-09-01T06:52:05.789Z"
   },
   {
    "duration": 144,
    "start_time": "2022-09-01T06:52:06.276Z"
   },
   {
    "duration": 19336,
    "start_time": "2022-09-01T06:52:06.422Z"
   },
   {
    "duration": 181,
    "start_time": "2022-09-01T06:52:25.759Z"
   },
   {
    "duration": 50,
    "start_time": "2022-09-01T06:52:25.941Z"
   },
   {
    "duration": 418,
    "start_time": "2022-09-01T06:52:25.993Z"
   },
   {
    "duration": 9,
    "start_time": "2022-09-01T06:52:26.414Z"
   },
   {
    "duration": 25,
    "start_time": "2022-09-01T06:52:26.425Z"
   },
   {
    "duration": 487,
    "start_time": "2022-09-01T06:52:26.453Z"
   },
   {
    "duration": 16294,
    "start_time": "2022-09-01T06:52:26.942Z"
   },
   {
    "duration": 338,
    "start_time": "2022-09-01T06:52:43.237Z"
   },
   {
    "duration": 16,
    "start_time": "2022-09-01T06:52:43.576Z"
   },
   {
    "duration": 121,
    "start_time": "2022-09-01T06:52:43.594Z"
   },
   {
    "duration": 0,
    "start_time": "2022-09-01T06:52:43.716Z"
   },
   {
    "duration": 0,
    "start_time": "2022-09-01T06:52:43.718Z"
   },
   {
    "duration": 0,
    "start_time": "2022-09-01T06:52:43.719Z"
   },
   {
    "duration": 465,
    "start_time": "2022-09-01T06:53:19.370Z"
   },
   {
    "duration": 9266,
    "start_time": "2022-09-01T06:53:21.701Z"
   },
   {
    "duration": 312,
    "start_time": "2022-09-01T06:53:34.382Z"
   },
   {
    "duration": 825,
    "start_time": "2022-09-01T06:54:48.894Z"
   },
   {
    "duration": 92,
    "start_time": "2022-09-01T06:55:04.252Z"
   },
   {
    "duration": 13,
    "start_time": "2022-09-01T06:55:19.085Z"
   },
   {
    "duration": 93,
    "start_time": "2022-09-01T06:55:20.709Z"
   },
   {
    "duration": 16,
    "start_time": "2022-09-01T06:55:26.277Z"
   },
   {
    "duration": 14,
    "start_time": "2022-09-01T06:55:28.788Z"
   },
   {
    "duration": 85,
    "start_time": "2022-09-01T06:55:55.844Z"
   },
   {
    "duration": 91,
    "start_time": "2022-09-01T06:56:01.909Z"
   },
   {
    "duration": 92,
    "start_time": "2022-09-01T06:56:57.571Z"
   },
   {
    "duration": 179,
    "start_time": "2022-09-01T06:57:13.756Z"
   },
   {
    "duration": 95,
    "start_time": "2022-09-01T06:57:24.251Z"
   },
   {
    "duration": 95,
    "start_time": "2022-09-01T06:57:30.836Z"
   },
   {
    "duration": 11,
    "start_time": "2022-09-01T06:58:09.508Z"
   },
   {
    "duration": 89,
    "start_time": "2022-09-01T06:58:10.852Z"
   },
   {
    "duration": 10,
    "start_time": "2022-09-01T06:58:16.756Z"
   },
   {
    "duration": 96,
    "start_time": "2022-09-01T06:58:19.891Z"
   },
   {
    "duration": 9,
    "start_time": "2022-09-01T06:58:24.540Z"
   },
   {
    "duration": 11,
    "start_time": "2022-09-01T06:58:28.044Z"
   },
   {
    "duration": 12,
    "start_time": "2022-09-01T06:58:31.212Z"
   },
   {
    "duration": 11,
    "start_time": "2022-09-01T11:47:42.543Z"
   },
   {
    "duration": 93,
    "start_time": "2022-09-01T11:47:44.380Z"
   },
   {
    "duration": 10,
    "start_time": "2022-09-01T11:47:49.662Z"
   },
   {
    "duration": 87,
    "start_time": "2022-09-01T11:47:51.325Z"
   },
   {
    "duration": 11,
    "start_time": "2022-09-01T11:48:01.726Z"
   },
   {
    "duration": 97,
    "start_time": "2022-09-01T11:48:03.190Z"
   },
   {
    "duration": 10,
    "start_time": "2022-09-01T11:48:09.122Z"
   },
   {
    "duration": 100,
    "start_time": "2022-09-01T11:48:10.789Z"
   },
   {
    "duration": 13,
    "start_time": "2022-09-01T11:48:16.557Z"
   },
   {
    "duration": 108,
    "start_time": "2022-09-01T11:48:19.285Z"
   },
   {
    "duration": 11,
    "start_time": "2022-09-01T11:48:24.508Z"
   },
   {
    "duration": 95,
    "start_time": "2022-09-01T11:48:26.645Z"
   },
   {
    "duration": 10,
    "start_time": "2022-09-01T11:48:30.686Z"
   },
   {
    "duration": 89,
    "start_time": "2022-09-01T11:48:32.909Z"
   },
   {
    "duration": 51,
    "start_time": "2022-09-01T11:48:54.871Z"
   },
   {
    "duration": 99,
    "start_time": "2022-09-01T11:48:59.972Z"
   },
   {
    "duration": 1425,
    "start_time": "2022-09-01T11:49:05.680Z"
   },
   {
    "duration": 63,
    "start_time": "2022-09-01T11:49:07.107Z"
   },
   {
    "duration": 16,
    "start_time": "2022-09-01T11:49:07.172Z"
   },
   {
    "duration": 4,
    "start_time": "2022-09-01T11:49:07.190Z"
   },
   {
    "duration": 6,
    "start_time": "2022-09-01T11:49:07.196Z"
   },
   {
    "duration": 33,
    "start_time": "2022-09-01T11:49:07.204Z"
   },
   {
    "duration": 14,
    "start_time": "2022-09-01T11:49:07.238Z"
   },
   {
    "duration": 44,
    "start_time": "2022-09-01T11:49:07.254Z"
   },
   {
    "duration": 134,
    "start_time": "2022-09-01T11:49:07.299Z"
   },
   {
    "duration": 12,
    "start_time": "2022-09-01T11:49:07.435Z"
   },
   {
    "duration": 166,
    "start_time": "2022-09-01T11:49:07.449Z"
   },
   {
    "duration": 6,
    "start_time": "2022-09-01T11:49:07.616Z"
   },
   {
    "duration": 7531,
    "start_time": "2022-09-01T11:49:07.624Z"
   },
   {
    "duration": 32,
    "start_time": "2022-09-01T11:49:15.157Z"
   },
   {
    "duration": 97,
    "start_time": "2022-09-01T11:49:15.191Z"
   },
   {
    "duration": 529,
    "start_time": "2022-09-01T11:49:15.290Z"
   },
   {
    "duration": 118,
    "start_time": "2022-09-01T11:49:15.820Z"
   },
   {
    "duration": 19254,
    "start_time": "2022-09-01T11:49:15.940Z"
   },
   {
    "duration": 172,
    "start_time": "2022-09-01T11:49:35.196Z"
   },
   {
    "duration": 28,
    "start_time": "2022-09-01T11:49:35.370Z"
   },
   {
    "duration": 388,
    "start_time": "2022-09-01T11:49:35.399Z"
   },
   {
    "duration": 7,
    "start_time": "2022-09-01T11:49:35.789Z"
   },
   {
    "duration": 17,
    "start_time": "2022-09-01T11:49:35.798Z"
   },
   {
    "duration": 107,
    "start_time": "2022-09-01T11:49:35.817Z"
   },
   {
    "duration": 568,
    "start_time": "2022-09-01T11:49:35.925Z"
   },
   {
    "duration": 17227,
    "start_time": "2022-09-01T11:49:36.494Z"
   },
   {
    "duration": 369,
    "start_time": "2022-09-01T11:49:53.722Z"
   },
   {
    "duration": 9,
    "start_time": "2022-09-01T11:49:54.094Z"
   },
   {
    "duration": 104,
    "start_time": "2022-09-01T11:49:54.104Z"
   },
   {
    "duration": 479,
    "start_time": "2022-09-01T11:49:54.210Z"
   },
   {
    "duration": 7593,
    "start_time": "2022-09-01T11:49:54.691Z"
   },
   {
    "duration": 320,
    "start_time": "2022-09-01T11:50:02.287Z"
   },
   {
    "duration": 382,
    "start_time": "2022-09-01T11:50:02.609Z"
   },
   {
    "duration": 1350,
    "start_time": "2022-09-01T11:54:06.749Z"
   },
   {
    "duration": 65,
    "start_time": "2022-09-01T11:54:08.100Z"
   },
   {
    "duration": 15,
    "start_time": "2022-09-01T11:54:08.167Z"
   },
   {
    "duration": 3,
    "start_time": "2022-09-01T11:54:08.184Z"
   },
   {
    "duration": 9,
    "start_time": "2022-09-01T11:54:08.188Z"
   },
   {
    "duration": 37,
    "start_time": "2022-09-01T11:54:08.198Z"
   },
   {
    "duration": 13,
    "start_time": "2022-09-01T11:54:08.237Z"
   },
   {
    "duration": 56,
    "start_time": "2022-09-01T11:54:08.251Z"
   },
   {
    "duration": 122,
    "start_time": "2022-09-01T11:54:08.309Z"
   },
   {
    "duration": 11,
    "start_time": "2022-09-01T11:54:08.434Z"
   },
   {
    "duration": 164,
    "start_time": "2022-09-01T11:54:08.446Z"
   },
   {
    "duration": 5,
    "start_time": "2022-09-01T11:54:08.612Z"
   },
   {
    "duration": 7911,
    "start_time": "2022-09-01T11:54:08.618Z"
   },
   {
    "duration": 55,
    "start_time": "2022-09-01T11:54:16.532Z"
   },
   {
    "duration": 7,
    "start_time": "2022-09-01T11:54:16.590Z"
   },
   {
    "duration": 547,
    "start_time": "2022-09-01T11:54:16.599Z"
   },
   {
    "duration": 139,
    "start_time": "2022-09-01T11:54:17.148Z"
   },
   {
    "duration": 19366,
    "start_time": "2022-09-01T11:54:17.289Z"
   },
   {
    "duration": 186,
    "start_time": "2022-09-01T11:54:36.657Z"
   },
   {
    "duration": 44,
    "start_time": "2022-09-01T11:54:36.844Z"
   },
   {
    "duration": 296,
    "start_time": "2022-09-01T11:54:36.891Z"
   },
   {
    "duration": 7,
    "start_time": "2022-09-01T11:54:37.188Z"
   },
   {
    "duration": 47,
    "start_time": "2022-09-01T11:54:37.197Z"
   },
   {
    "duration": 120,
    "start_time": "2022-09-01T11:54:37.246Z"
   },
   {
    "duration": 493,
    "start_time": "2022-09-01T11:54:37.367Z"
   },
   {
    "duration": 17026,
    "start_time": "2022-09-01T11:54:37.862Z"
   },
   {
    "duration": 408,
    "start_time": "2022-09-01T11:54:54.890Z"
   },
   {
    "duration": 9,
    "start_time": "2022-09-01T11:54:55.301Z"
   },
   {
    "duration": 133,
    "start_time": "2022-09-01T11:54:55.311Z"
   },
   {
    "duration": 484,
    "start_time": "2022-09-01T11:54:55.446Z"
   },
   {
    "duration": 7579,
    "start_time": "2022-09-01T11:54:55.931Z"
   },
   {
    "duration": 286,
    "start_time": "2022-09-01T11:55:03.511Z"
   },
   {
    "duration": 356,
    "start_time": "2022-09-01T11:55:03.798Z"
   },
   {
    "duration": 223,
    "start_time": "2022-09-01T11:59:02.861Z"
   },
   {
    "duration": 219,
    "start_time": "2022-09-01T11:59:44.237Z"
   },
   {
    "duration": 5472,
    "start_time": "2022-09-01T12:00:12.900Z"
   },
   {
    "duration": 5249,
    "start_time": "2022-09-01T12:00:26.282Z"
   },
   {
    "duration": 5195,
    "start_time": "2022-09-01T12:00:48.004Z"
   },
   {
    "duration": 27,
    "start_time": "2022-09-01T12:01:19.107Z"
   },
   {
    "duration": 60,
    "start_time": "2022-09-01T12:01:46.179Z"
   },
   {
    "duration": 16121,
    "start_time": "2022-09-01T12:01:49.907Z"
   },
   {
    "duration": 19257,
    "start_time": "2022-09-01T12:02:21.779Z"
   },
   {
    "duration": 64453,
    "start_time": "2022-09-01T12:03:20.779Z"
   },
   {
    "duration": 780,
    "start_time": "2022-09-01T12:06:50.553Z"
   },
   {
    "duration": 506,
    "start_time": "2022-09-01T12:07:01.322Z"
   },
   {
    "duration": 125,
    "start_time": "2022-09-01T12:07:18.121Z"
   },
   {
    "duration": 6569,
    "start_time": "2022-09-01T12:07:35.048Z"
   },
   {
    "duration": 59229,
    "start_time": "2022-09-01T12:08:02.976Z"
   },
   {
    "duration": 13361,
    "start_time": "2022-09-01T12:09:26.362Z"
   },
   {
    "duration": 12418,
    "start_time": "2022-09-01T12:09:58.223Z"
   },
   {
    "duration": 33673,
    "start_time": "2022-09-01T12:10:44.578Z"
   },
   {
    "duration": 22674,
    "start_time": "2022-09-01T12:11:30.999Z"
   },
   {
    "duration": 18953,
    "start_time": "2022-09-01T12:12:10.102Z"
   },
   {
    "duration": 14650,
    "start_time": "2022-09-01T12:12:40.341Z"
   },
   {
    "duration": 30002,
    "start_time": "2022-09-01T12:13:10.918Z"
   },
   {
    "duration": 26693,
    "start_time": "2022-09-01T12:13:50.757Z"
   },
   {
    "duration": 40354,
    "start_time": "2022-09-01T12:14:35.687Z"
   },
   {
    "duration": 242364,
    "start_time": "2022-09-01T12:15:30.096Z"
   },
   {
    "duration": 32737,
    "start_time": "2022-09-01T12:19:44.739Z"
   },
   {
    "duration": 18122,
    "start_time": "2022-09-01T12:20:23.859Z"
   },
   {
    "duration": 26903,
    "start_time": "2022-09-01T12:20:50.362Z"
   },
   {
    "duration": 27770,
    "start_time": "2022-09-01T12:21:27.537Z"
   },
   {
    "duration": 26883,
    "start_time": "2022-09-01T12:22:01.490Z"
   },
   {
    "duration": 218,
    "start_time": "2022-09-01T12:24:55.483Z"
   },
   {
    "duration": 242199,
    "start_time": "2022-09-01T12:25:26.561Z"
   },
   {
    "duration": 217,
    "start_time": "2022-09-01T12:30:05.245Z"
   },
   {
    "duration": 193,
    "start_time": "2022-09-01T12:30:27.729Z"
   },
   {
    "duration": 183,
    "start_time": "2022-09-01T12:30:34.178Z"
   },
   {
    "duration": 273,
    "start_time": "2022-09-01T12:30:41.273Z"
   },
   {
    "duration": 62,
    "start_time": "2022-09-01T12:31:37.261Z"
   },
   {
    "duration": 204,
    "start_time": "2022-09-01T12:31:51.542Z"
   },
   {
    "duration": 753,
    "start_time": "2022-09-01T12:33:10.085Z"
   },
   {
    "duration": 703,
    "start_time": "2022-09-01T12:34:20.388Z"
   },
   {
    "duration": 211,
    "start_time": "2022-09-01T12:34:30.421Z"
   },
   {
    "duration": 50807,
    "start_time": "2022-09-01T12:34:53.277Z"
   },
   {
    "duration": 144,
    "start_time": "2022-09-01T12:36:01.603Z"
   },
   {
    "duration": 20567,
    "start_time": "2022-09-01T12:36:56.121Z"
   },
   {
    "duration": 177,
    "start_time": "2022-09-01T12:37:29.955Z"
   },
   {
    "duration": 4342,
    "start_time": "2022-09-01T12:37:57.496Z"
   },
   {
    "duration": 12819,
    "start_time": "2022-09-01T12:38:13.009Z"
   },
   {
    "duration": 6682,
    "start_time": "2022-09-01T12:38:36.609Z"
   },
   {
    "duration": 7710,
    "start_time": "2022-09-01T12:38:55.280Z"
   },
   {
    "duration": 13775,
    "start_time": "2022-09-01T12:39:09.876Z"
   },
   {
    "duration": 12511,
    "start_time": "2022-09-01T12:39:28.112Z"
   },
   {
    "duration": 19809,
    "start_time": "2022-09-01T12:39:54.312Z"
   },
   {
    "duration": 8512,
    "start_time": "2022-09-01T12:40:33.135Z"
   },
   {
    "duration": 6783,
    "start_time": "2022-09-01T12:41:09.619Z"
   },
   {
    "duration": 27557,
    "start_time": "2022-09-01T12:41:22.300Z"
   },
   {
    "duration": 8624,
    "start_time": "2022-09-01T12:42:05.894Z"
   },
   {
    "duration": 166,
    "start_time": "2022-09-01T12:42:25.378Z"
   },
   {
    "duration": 132,
    "start_time": "2022-09-01T12:42:47.880Z"
   },
   {
    "duration": 10990,
    "start_time": "2022-09-01T12:42:59.101Z"
   },
   {
    "duration": 7359,
    "start_time": "2022-09-01T12:43:16.483Z"
   },
   {
    "duration": 16380,
    "start_time": "2022-09-01T12:43:35.180Z"
   },
   {
    "duration": 33695,
    "start_time": "2022-09-01T12:44:00.152Z"
   },
   {
    "duration": 35982,
    "start_time": "2022-09-01T12:44:44.188Z"
   },
   {
    "duration": 58724,
    "start_time": "2022-09-01T12:45:27.164Z"
   },
   {
    "duration": 160,
    "start_time": "2022-09-01T12:46:47.620Z"
   },
   {
    "duration": 17640,
    "start_time": "2022-09-01T12:46:57.203Z"
   },
   {
    "duration": 9815,
    "start_time": "2022-09-01T12:47:29.924Z"
   },
   {
    "duration": 10123,
    "start_time": "2022-09-01T12:49:00.597Z"
   },
   {
    "duration": 9871,
    "start_time": "2022-09-01T12:49:24.909Z"
   },
   {
    "duration": 9786,
    "start_time": "2022-09-01T12:49:46.171Z"
   },
   {
    "duration": 6,
    "start_time": "2022-09-01T12:50:05.925Z"
   },
   {
    "duration": 10350,
    "start_time": "2022-09-01T12:50:08.804Z"
   },
   {
    "duration": 13355,
    "start_time": "2022-09-01T12:50:38.195Z"
   },
   {
    "duration": 18178,
    "start_time": "2022-09-01T12:50:57.515Z"
   },
   {
    "duration": 17907,
    "start_time": "2022-09-01T12:51:15.695Z"
   },
   {
    "duration": 17430,
    "start_time": "2022-09-01T12:51:48.563Z"
   },
   {
    "duration": 13887,
    "start_time": "2022-09-01T12:52:14.812Z"
   },
   {
    "duration": 186,
    "start_time": "2022-09-01T12:52:36.970Z"
   },
   {
    "duration": 12,
    "start_time": "2022-09-01T12:54:54.387Z"
   },
   {
    "duration": 103,
    "start_time": "2022-09-01T12:54:58.107Z"
   },
   {
    "duration": 166,
    "start_time": "2022-09-01T12:55:01.913Z"
   },
   {
    "duration": 1269,
    "start_time": "2022-09-01T12:55:07.500Z"
   },
   {
    "duration": 63,
    "start_time": "2022-09-01T12:55:08.771Z"
   },
   {
    "duration": 14,
    "start_time": "2022-09-01T12:55:08.836Z"
   },
   {
    "duration": 12,
    "start_time": "2022-09-01T12:55:08.852Z"
   },
   {
    "duration": 18,
    "start_time": "2022-09-01T12:55:08.865Z"
   },
   {
    "duration": 33,
    "start_time": "2022-09-01T12:55:08.884Z"
   },
   {
    "duration": 11,
    "start_time": "2022-09-01T12:55:08.919Z"
   },
   {
    "duration": 30,
    "start_time": "2022-09-01T12:55:08.932Z"
   },
   {
    "duration": 143,
    "start_time": "2022-09-01T12:55:08.963Z"
   },
   {
    "duration": 12,
    "start_time": "2022-09-01T12:55:09.108Z"
   },
   {
    "duration": 159,
    "start_time": "2022-09-01T12:55:09.121Z"
   },
   {
    "duration": 5,
    "start_time": "2022-09-01T12:55:09.286Z"
   },
   {
    "duration": 65469,
    "start_time": "2022-09-01T12:55:09.292Z"
   },
   {
    "duration": 29,
    "start_time": "2022-09-01T12:56:14.762Z"
   },
   {
    "duration": 100,
    "start_time": "2022-09-01T12:56:14.793Z"
   },
   {
    "duration": 595,
    "start_time": "2022-09-01T12:56:14.896Z"
   },
   {
    "duration": 123,
    "start_time": "2022-09-01T12:56:15.493Z"
   },
   {
    "duration": 9782,
    "start_time": "2022-09-01T12:56:15.618Z"
   },
   {
    "duration": 135,
    "start_time": "2022-09-01T12:56:25.402Z"
   },
   {
    "duration": 50,
    "start_time": "2022-09-01T12:56:25.539Z"
   },
   {
    "duration": 298,
    "start_time": "2022-09-01T12:56:25.591Z"
   },
   {
    "duration": 7,
    "start_time": "2022-09-01T12:56:25.891Z"
   },
   {
    "duration": 25,
    "start_time": "2022-09-01T12:56:25.900Z"
   },
   {
    "duration": 110,
    "start_time": "2022-09-01T12:56:25.927Z"
   },
   {
    "duration": 547,
    "start_time": "2022-09-01T12:56:26.039Z"
   },
   {
    "duration": 17468,
    "start_time": "2022-09-01T12:56:26.588Z"
   },
   {
    "duration": 332,
    "start_time": "2022-09-01T12:56:44.058Z"
   },
   {
    "duration": 10,
    "start_time": "2022-09-01T12:56:44.393Z"
   },
   {
    "duration": 108,
    "start_time": "2022-09-01T12:56:44.404Z"
   },
   {
    "duration": 495,
    "start_time": "2022-09-01T12:56:44.513Z"
   },
   {
    "duration": 7843,
    "start_time": "2022-09-01T12:56:45.009Z"
   },
   {
    "duration": 317,
    "start_time": "2022-09-01T12:56:52.854Z"
   },
   {
    "duration": 179,
    "start_time": "2022-09-01T12:56:53.173Z"
   },
   {
    "duration": 180,
    "start_time": "2022-09-01T12:58:15.652Z"
   },
   {
    "duration": 160,
    "start_time": "2022-09-01T12:58:24.099Z"
   },
   {
    "duration": 6381,
    "start_time": "2022-09-01T12:58:49.355Z"
   },
   {
    "duration": 7980,
    "start_time": "2022-09-01T12:58:59.323Z"
   },
   {
    "duration": 17699,
    "start_time": "2022-09-01T12:59:30.146Z"
   },
   {
    "duration": 160,
    "start_time": "2022-09-01T12:59:59.243Z"
   },
   {
    "duration": 12954,
    "start_time": "2022-09-01T13:01:53.201Z"
   },
   {
    "duration": 195,
    "start_time": "2022-09-01T13:02:24.479Z"
   },
   {
    "duration": 8190,
    "start_time": "2022-09-01T13:02:47.581Z"
   },
   {
    "duration": 6566,
    "start_time": "2022-09-01T13:03:02.338Z"
   },
   {
    "duration": 196,
    "start_time": "2022-09-01T13:03:20.650Z"
   },
   {
    "duration": 5512,
    "start_time": "2022-09-01T13:03:32.762Z"
   },
   {
    "duration": 6649,
    "start_time": "2022-09-01T13:03:49.363Z"
   },
   {
    "duration": 5729,
    "start_time": "2022-09-01T13:03:59.511Z"
   },
   {
    "duration": 5814,
    "start_time": "2022-09-01T13:04:18.601Z"
   },
   {
    "duration": 182,
    "start_time": "2022-09-01T13:04:35.212Z"
   },
   {
    "duration": 5032,
    "start_time": "2022-09-01T13:05:01.602Z"
   },
   {
    "duration": 178,
    "start_time": "2022-09-01T13:05:15.837Z"
   },
   {
    "duration": 4334,
    "start_time": "2022-09-01T13:05:28.153Z"
   },
   {
    "duration": 160,
    "start_time": "2022-09-01T13:05:43.539Z"
   },
   {
    "duration": 8848,
    "start_time": "2022-09-01T13:05:55.848Z"
   },
   {
    "duration": 173,
    "start_time": "2022-09-01T13:06:12.352Z"
   },
   {
    "duration": 9711,
    "start_time": "2022-09-01T13:06:52.225Z"
   },
   {
    "duration": 6263,
    "start_time": "2022-09-01T13:07:14.433Z"
   },
   {
    "duration": 4243,
    "start_time": "2022-09-01T13:07:28.632Z"
   },
   {
    "duration": 149,
    "start_time": "2022-09-01T13:07:42.872Z"
   },
   {
    "duration": 4625,
    "start_time": "2022-09-01T13:08:06.880Z"
   },
   {
    "duration": 8,
    "start_time": "2022-09-01T13:10:37.327Z"
   },
   {
    "duration": 4575,
    "start_time": "2022-09-01T13:10:43.337Z"
   },
   {
    "duration": 133,
    "start_time": "2022-09-01T13:11:31.599Z"
   },
   {
    "duration": 1289,
    "start_time": "2022-09-01T13:11:42.487Z"
   },
   {
    "duration": 86,
    "start_time": "2022-09-01T13:11:43.779Z"
   },
   {
    "duration": 15,
    "start_time": "2022-09-01T13:11:43.869Z"
   },
   {
    "duration": 17,
    "start_time": "2022-09-01T13:11:43.885Z"
   },
   {
    "duration": 27,
    "start_time": "2022-09-01T13:11:43.904Z"
   },
   {
    "duration": 44,
    "start_time": "2022-09-01T13:11:43.933Z"
   },
   {
    "duration": 10,
    "start_time": "2022-09-01T13:11:43.978Z"
   },
   {
    "duration": 37,
    "start_time": "2022-09-01T13:11:43.989Z"
   },
   {
    "duration": 125,
    "start_time": "2022-09-01T13:11:44.029Z"
   },
   {
    "duration": 13,
    "start_time": "2022-09-01T13:11:44.155Z"
   },
   {
    "duration": 159,
    "start_time": "2022-09-01T13:11:44.169Z"
   },
   {
    "duration": 5,
    "start_time": "2022-09-01T13:11:44.329Z"
   },
   {
    "duration": 65644,
    "start_time": "2022-09-01T13:11:44.336Z"
   },
   {
    "duration": 24,
    "start_time": "2022-09-01T13:12:49.982Z"
   },
   {
    "duration": 84,
    "start_time": "2022-09-01T13:12:50.009Z"
   },
   {
    "duration": 628,
    "start_time": "2022-09-01T13:12:50.095Z"
   },
   {
    "duration": 123,
    "start_time": "2022-09-01T13:12:50.725Z"
   },
   {
    "duration": 4378,
    "start_time": "2022-09-01T13:12:50.850Z"
   },
   {
    "duration": 143,
    "start_time": "2022-09-01T13:12:55.229Z"
   },
   {
    "duration": 40,
    "start_time": "2022-09-01T13:12:55.374Z"
   },
   {
    "duration": 308,
    "start_time": "2022-09-01T13:12:55.488Z"
   },
   {
    "duration": 9,
    "start_time": "2022-09-01T13:12:55.798Z"
   },
   {
    "duration": 18,
    "start_time": "2022-09-01T13:12:55.810Z"
   },
   {
    "duration": 110,
    "start_time": "2022-09-01T13:12:55.831Z"
   },
   {
    "duration": 569,
    "start_time": "2022-09-01T13:12:55.943Z"
   },
   {
    "duration": 18560,
    "start_time": "2022-09-01T13:12:56.514Z"
   },
   {
    "duration": 315,
    "start_time": "2022-09-01T13:13:15.077Z"
   },
   {
    "duration": 10,
    "start_time": "2022-09-01T13:13:15.394Z"
   },
   {
    "duration": 112,
    "start_time": "2022-09-01T13:13:15.405Z"
   },
   {
    "duration": 527,
    "start_time": "2022-09-01T13:13:15.519Z"
   },
   {
    "duration": 7655,
    "start_time": "2022-09-01T13:13:16.048Z"
   },
   {
    "duration": 367,
    "start_time": "2022-09-01T13:13:23.704Z"
   },
   {
    "duration": 144,
    "start_time": "2022-09-01T13:13:24.073Z"
   },
   {
    "duration": 12973,
    "start_time": "2022-09-01T13:16:57.173Z"
   },
   {
    "duration": 190,
    "start_time": "2022-09-01T13:17:24.068Z"
   },
   {
    "duration": 11,
    "start_time": "2022-09-01T13:18:42.095Z"
   },
   {
    "duration": 145,
    "start_time": "2022-09-01T13:18:48.155Z"
   },
   {
    "duration": 64543,
    "start_time": "2022-09-01T13:18:54.603Z"
   },
   {
    "duration": 10849,
    "start_time": "2022-09-01T13:20:20.380Z"
   },
   {
    "duration": 133,
    "start_time": "2022-09-01T13:20:57.666Z"
   },
   {
    "duration": 93,
    "start_time": "2022-09-01T13:22:12.725Z"
   },
   {
    "duration": 64327,
    "start_time": "2022-09-01T13:22:15.298Z"
   },
   {
    "duration": 64779,
    "start_time": "2022-09-01T13:23:23.251Z"
   },
   {
    "duration": 15056,
    "start_time": "2022-09-01T13:27:28.639Z"
   },
   {
    "duration": 390,
    "start_time": "2022-09-01T13:27:58.861Z"
   },
   {
    "duration": 9772,
    "start_time": "2022-09-01T13:30:50.503Z"
   },
   {
    "duration": 15419,
    "start_time": "2022-09-01T13:31:05.734Z"
   },
   {
    "duration": 9422,
    "start_time": "2022-09-01T13:31:41.743Z"
   },
   {
    "duration": 15155,
    "start_time": "2022-09-01T13:31:58.430Z"
   },
   {
    "duration": 9508,
    "start_time": "2022-09-01T13:32:29.039Z"
   },
   {
    "duration": 58247,
    "start_time": "2022-09-01T13:32:47.902Z"
   },
   {
    "duration": 22608,
    "start_time": "2022-09-01T13:33:57.061Z"
   },
   {
    "duration": 36898,
    "start_time": "2022-09-01T13:34:31.070Z"
   },
   {
    "duration": 53149,
    "start_time": "2022-09-01T13:35:26.724Z"
   },
   {
    "duration": 42182,
    "start_time": "2022-09-01T13:37:19.251Z"
   },
   {
    "duration": 22741,
    "start_time": "2022-09-01T13:38:14.739Z"
   },
   {
    "duration": 21903,
    "start_time": "2022-09-01T13:39:00.674Z"
   },
   {
    "duration": 24542,
    "start_time": "2022-09-01T13:39:31.778Z"
   },
   {
    "duration": 7658,
    "start_time": "2022-09-01T13:40:25.720Z"
   },
   {
    "duration": 4852,
    "start_time": "2022-09-01T13:40:40.154Z"
   },
   {
    "duration": 7649,
    "start_time": "2022-09-01T13:40:52.073Z"
   },
   {
    "duration": 1450,
    "start_time": "2022-09-01T13:41:10.583Z"
   },
   {
    "duration": 65,
    "start_time": "2022-09-01T13:41:12.035Z"
   },
   {
    "duration": 16,
    "start_time": "2022-09-01T13:41:12.102Z"
   },
   {
    "duration": 3,
    "start_time": "2022-09-01T13:41:12.120Z"
   },
   {
    "duration": 11,
    "start_time": "2022-09-01T13:41:12.124Z"
   },
   {
    "duration": 31,
    "start_time": "2022-09-01T13:41:12.136Z"
   },
   {
    "duration": 15,
    "start_time": "2022-09-01T13:41:12.186Z"
   },
   {
    "duration": 29,
    "start_time": "2022-09-01T13:41:12.202Z"
   },
   {
    "duration": 134,
    "start_time": "2022-09-01T13:41:12.232Z"
   },
   {
    "duration": 21,
    "start_time": "2022-09-01T13:41:12.369Z"
   },
   {
    "duration": 155,
    "start_time": "2022-09-01T13:41:12.392Z"
   },
   {
    "duration": 5,
    "start_time": "2022-09-01T13:41:12.549Z"
   },
   {
    "duration": 24493,
    "start_time": "2022-09-01T13:41:12.555Z"
   },
   {
    "duration": 42,
    "start_time": "2022-09-01T13:41:37.049Z"
   },
   {
    "duration": 99,
    "start_time": "2022-09-01T13:41:37.094Z"
   },
   {
    "duration": 558,
    "start_time": "2022-09-01T13:41:37.196Z"
   },
   {
    "duration": 187,
    "start_time": "2022-09-01T13:41:37.756Z"
   },
   {
    "duration": 412,
    "start_time": "2022-09-01T13:41:37.944Z"
   },
   {
    "duration": 15,
    "start_time": "2022-09-01T13:41:38.358Z"
   },
   {
    "duration": 0,
    "start_time": "2022-09-01T13:41:38.375Z"
   },
   {
    "duration": 0,
    "start_time": "2022-09-01T13:41:38.377Z"
   },
   {
    "duration": 0,
    "start_time": "2022-09-01T13:41:38.378Z"
   },
   {
    "duration": 0,
    "start_time": "2022-09-01T13:41:38.380Z"
   },
   {
    "duration": 0,
    "start_time": "2022-09-01T13:41:38.381Z"
   },
   {
    "duration": 0,
    "start_time": "2022-09-01T13:41:38.382Z"
   },
   {
    "duration": 0,
    "start_time": "2022-09-01T13:41:38.384Z"
   },
   {
    "duration": 0,
    "start_time": "2022-09-01T13:41:38.385Z"
   },
   {
    "duration": 0,
    "start_time": "2022-09-01T13:41:38.386Z"
   },
   {
    "duration": 0,
    "start_time": "2022-09-01T13:41:38.387Z"
   },
   {
    "duration": 0,
    "start_time": "2022-09-01T13:41:38.389Z"
   },
   {
    "duration": 0,
    "start_time": "2022-09-01T13:41:38.390Z"
   },
   {
    "duration": 0,
    "start_time": "2022-09-01T13:41:38.392Z"
   },
   {
    "duration": 0,
    "start_time": "2022-09-01T13:41:38.393Z"
   },
   {
    "duration": 1495,
    "start_time": "2022-09-01T13:42:15.472Z"
   },
   {
    "duration": 73,
    "start_time": "2022-09-01T13:42:16.969Z"
   },
   {
    "duration": 15,
    "start_time": "2022-09-01T13:42:17.044Z"
   },
   {
    "duration": 2,
    "start_time": "2022-09-01T13:42:17.061Z"
   },
   {
    "duration": 13,
    "start_time": "2022-09-01T13:42:17.065Z"
   },
   {
    "duration": 33,
    "start_time": "2022-09-01T13:42:17.079Z"
   },
   {
    "duration": 11,
    "start_time": "2022-09-01T13:42:17.114Z"
   },
   {
    "duration": 29,
    "start_time": "2022-09-01T13:42:17.127Z"
   },
   {
    "duration": 156,
    "start_time": "2022-09-01T13:42:17.157Z"
   },
   {
    "duration": 12,
    "start_time": "2022-09-01T13:42:17.316Z"
   },
   {
    "duration": 159,
    "start_time": "2022-09-01T13:42:17.330Z"
   },
   {
    "duration": 6,
    "start_time": "2022-09-01T13:42:17.490Z"
   },
   {
    "duration": 31430,
    "start_time": "2022-09-01T13:42:17.498Z"
   },
   {
    "duration": 57,
    "start_time": "2022-09-01T13:42:48.930Z"
   },
   {
    "duration": 5,
    "start_time": "2022-09-01T13:42:48.990Z"
   },
   {
    "duration": 589,
    "start_time": "2022-09-01T13:42:48.998Z"
   },
   {
    "duration": 186,
    "start_time": "2022-09-01T13:42:49.589Z"
   },
   {
    "duration": 378,
    "start_time": "2022-09-01T13:42:49.777Z"
   },
   {
    "duration": 12,
    "start_time": "2022-09-01T13:42:50.156Z"
   },
   {
    "duration": 0,
    "start_time": "2022-09-01T13:42:50.170Z"
   },
   {
    "duration": 0,
    "start_time": "2022-09-01T13:42:50.171Z"
   },
   {
    "duration": 0,
    "start_time": "2022-09-01T13:42:50.173Z"
   },
   {
    "duration": 0,
    "start_time": "2022-09-01T13:42:50.174Z"
   },
   {
    "duration": 0,
    "start_time": "2022-09-01T13:42:50.176Z"
   },
   {
    "duration": 0,
    "start_time": "2022-09-01T13:42:50.177Z"
   },
   {
    "duration": 0,
    "start_time": "2022-09-01T13:42:50.178Z"
   },
   {
    "duration": 0,
    "start_time": "2022-09-01T13:42:50.181Z"
   },
   {
    "duration": 0,
    "start_time": "2022-09-01T13:42:50.182Z"
   },
   {
    "duration": 0,
    "start_time": "2022-09-01T13:42:50.183Z"
   },
   {
    "duration": 0,
    "start_time": "2022-09-01T13:42:50.184Z"
   },
   {
    "duration": 0,
    "start_time": "2022-09-01T13:42:50.185Z"
   },
   {
    "duration": 0,
    "start_time": "2022-09-01T13:42:50.186Z"
   },
   {
    "duration": 0,
    "start_time": "2022-09-01T13:42:50.187Z"
   },
   {
    "duration": 2264,
    "start_time": "2022-09-01T13:43:20.628Z"
   },
   {
    "duration": 140,
    "start_time": "2022-09-01T13:43:35.699Z"
   },
   {
    "duration": 167,
    "start_time": "2022-09-01T13:43:41.060Z"
   },
   {
    "duration": 28464,
    "start_time": "2022-09-01T13:44:20.799Z"
   },
   {
    "duration": 3187,
    "start_time": "2022-09-01T13:45:14.939Z"
   },
   {
    "duration": 171,
    "start_time": "2022-09-01T13:45:29.363Z"
   },
   {
    "duration": 188,
    "start_time": "2022-09-01T13:45:32.962Z"
   },
   {
    "duration": 75,
    "start_time": "2022-09-01T13:45:42.459Z"
   },
   {
    "duration": 76,
    "start_time": "2022-09-01T13:45:47.346Z"
   },
   {
    "duration": 175,
    "start_time": "2022-09-01T13:45:54.890Z"
   },
   {
    "duration": 248,
    "start_time": "2022-09-01T13:46:10.243Z"
   },
   {
    "duration": 41,
    "start_time": "2022-09-01T13:57:20.237Z"
   },
   {
    "duration": 42,
    "start_time": "2022-09-01T13:57:41.882Z"
   },
   {
    "duration": 30,
    "start_time": "2022-09-01T13:57:47.508Z"
   },
   {
    "duration": 138,
    "start_time": "2022-09-01T13:57:57.378Z"
   },
   {
    "duration": 64269,
    "start_time": "2022-09-01T13:58:05.043Z"
   },
   {
    "duration": 494,
    "start_time": "2022-09-01T13:59:23.242Z"
   },
   {
    "duration": 116,
    "start_time": "2022-09-01T13:59:30.295Z"
   },
   {
    "duration": 8036,
    "start_time": "2022-09-01T13:59:34.711Z"
   },
   {
    "duration": 1309,
    "start_time": "2022-09-01T13:59:55.632Z"
   },
   {
    "duration": 61,
    "start_time": "2022-09-01T13:59:56.943Z"
   },
   {
    "duration": 15,
    "start_time": "2022-09-01T13:59:57.005Z"
   },
   {
    "duration": 3,
    "start_time": "2022-09-01T13:59:57.022Z"
   },
   {
    "duration": 14,
    "start_time": "2022-09-01T13:59:57.026Z"
   },
   {
    "duration": 33,
    "start_time": "2022-09-01T13:59:57.042Z"
   },
   {
    "duration": 21,
    "start_time": "2022-09-01T13:59:57.076Z"
   },
   {
    "duration": 34,
    "start_time": "2022-09-01T13:59:57.099Z"
   },
   {
    "duration": 133,
    "start_time": "2022-09-01T13:59:57.135Z"
   },
   {
    "duration": 19,
    "start_time": "2022-09-01T13:59:57.271Z"
   },
   {
    "duration": 140,
    "start_time": "2022-09-01T13:59:57.292Z"
   },
   {
    "duration": 5,
    "start_time": "2022-09-01T13:59:57.434Z"
   },
   {
    "duration": 65288,
    "start_time": "2022-09-01T13:59:57.440Z"
   },
   {
    "duration": 58,
    "start_time": "2022-09-01T14:01:02.729Z"
   },
   {
    "duration": 6,
    "start_time": "2022-09-01T14:01:02.790Z"
   },
   {
    "duration": 608,
    "start_time": "2022-09-01T14:01:02.798Z"
   },
   {
    "duration": 124,
    "start_time": "2022-09-01T14:01:03.408Z"
   },
   {
    "duration": 8159,
    "start_time": "2022-09-01T14:01:03.533Z"
   },
   {
    "duration": 240,
    "start_time": "2022-09-01T14:01:11.693Z"
   },
   {
    "duration": 20,
    "start_time": "2022-09-01T14:01:11.934Z"
   },
   {
    "duration": 305,
    "start_time": "2022-09-01T14:01:11.992Z"
   },
   {
    "duration": 8,
    "start_time": "2022-09-01T14:01:12.299Z"
   },
   {
    "duration": 54,
    "start_time": "2022-09-01T14:01:12.309Z"
   },
   {
    "duration": 99,
    "start_time": "2022-09-01T14:01:12.366Z"
   },
   {
    "duration": 507,
    "start_time": "2022-09-01T14:01:12.467Z"
   },
   {
    "duration": 17447,
    "start_time": "2022-09-01T14:01:12.975Z"
   },
   {
    "duration": 373,
    "start_time": "2022-09-01T14:01:30.424Z"
   },
   {
    "duration": 9,
    "start_time": "2022-09-01T14:01:30.801Z"
   },
   {
    "duration": 113,
    "start_time": "2022-09-01T14:01:30.812Z"
   },
   {
    "duration": 491,
    "start_time": "2022-09-01T14:01:30.927Z"
   },
   {
    "duration": 8084,
    "start_time": "2022-09-01T14:01:31.421Z"
   },
   {
    "duration": 288,
    "start_time": "2022-09-01T14:01:39.506Z"
   },
   {
    "duration": 471,
    "start_time": "2022-09-01T14:01:39.796Z"
   },
   {
    "duration": 17758,
    "start_time": "2022-09-01T14:02:35.594Z"
   },
   {
    "duration": 18068,
    "start_time": "2022-09-01T14:02:59.647Z"
   },
   {
    "duration": 10772,
    "start_time": "2022-09-01T14:03:53.371Z"
   },
   {
    "duration": 24492,
    "start_time": "2022-09-01T14:04:18.244Z"
   },
   {
    "duration": 11148,
    "start_time": "2022-09-01T14:04:51.660Z"
   },
   {
    "duration": 1694,
    "start_time": "2022-09-01T14:05:11.335Z"
   },
   {
    "duration": 1324,
    "start_time": "2022-09-01T14:05:19.272Z"
   },
   {
    "duration": 164,
    "start_time": "2022-09-01T14:05:34.468Z"
   },
   {
    "duration": 142,
    "start_time": "2022-09-01T14:05:57.200Z"
   },
   {
    "duration": 7842,
    "start_time": "2022-09-01T14:06:39.250Z"
   },
   {
    "duration": 6628,
    "start_time": "2022-09-01T14:06:58.374Z"
   },
   {
    "duration": 146,
    "start_time": "2022-09-01T14:07:13.371Z"
   },
   {
    "duration": 1525,
    "start_time": "2022-09-01T14:07:48.828Z"
   },
   {
    "duration": 148,
    "start_time": "2022-09-01T14:08:04.373Z"
   },
   {
    "duration": 1613,
    "start_time": "2022-09-01T14:08:29.749Z"
   },
   {
    "duration": 142,
    "start_time": "2022-09-01T14:08:39.857Z"
   },
   {
    "duration": 2608,
    "start_time": "2022-09-01T14:08:58.764Z"
   },
   {
    "duration": 10591,
    "start_time": "2022-09-01T14:09:11.338Z"
   },
   {
    "duration": 151,
    "start_time": "2022-09-01T14:09:49.068Z"
   },
   {
    "duration": 1657,
    "start_time": "2022-09-01T14:10:13.114Z"
   },
   {
    "duration": 95664,
    "start_time": "2022-09-01T14:10:38.345Z"
   },
   {
    "duration": 10555,
    "start_time": "2022-09-01T14:12:38.483Z"
   },
   {
    "duration": 64030,
    "start_time": "2022-09-01T14:12:59.759Z"
   },
   {
    "duration": 6852,
    "start_time": "2022-09-01T14:14:12.035Z"
   },
   {
    "duration": 238,
    "start_time": "2022-09-01T14:14:37.149Z"
   },
   {
    "duration": 11159,
    "start_time": "2022-09-01T14:15:03.931Z"
   },
   {
    "duration": 21,
    "start_time": "2022-09-01T14:18:24.168Z"
   },
   {
    "duration": 1372,
    "start_time": "2022-09-01T14:18:30.837Z"
   },
   {
    "duration": 62,
    "start_time": "2022-09-01T14:18:32.211Z"
   },
   {
    "duration": 16,
    "start_time": "2022-09-01T14:18:32.276Z"
   },
   {
    "duration": 841,
    "start_time": "2022-09-01T14:18:32.294Z"
   },
   {
    "duration": 3,
    "start_time": "2022-09-01T14:18:33.137Z"
   },
   {
    "duration": 48,
    "start_time": "2022-09-01T14:18:33.141Z"
   },
   {
    "duration": 11,
    "start_time": "2022-09-01T14:18:33.191Z"
   },
   {
    "duration": 44,
    "start_time": "2022-09-01T14:18:33.203Z"
   },
   {
    "duration": 118,
    "start_time": "2022-09-01T14:18:33.248Z"
   },
   {
    "duration": 26,
    "start_time": "2022-09-01T14:18:33.368Z"
   },
   {
    "duration": 148,
    "start_time": "2022-09-01T14:18:33.395Z"
   },
   {
    "duration": 5,
    "start_time": "2022-09-01T14:18:33.545Z"
   },
   {
    "duration": 10616,
    "start_time": "2022-09-01T14:18:33.553Z"
   },
   {
    "duration": 4,
    "start_time": "2022-09-01T14:18:44.170Z"
   },
   {
    "duration": 568,
    "start_time": "2022-09-01T14:18:44.176Z"
   },
   {
    "duration": 122,
    "start_time": "2022-09-01T14:18:44.745Z"
   },
   {
    "duration": 366,
    "start_time": "2022-09-01T14:18:44.869Z"
   },
   {
    "duration": 123,
    "start_time": "2022-09-01T14:18:45.237Z"
   },
   {
    "duration": 31,
    "start_time": "2022-09-01T14:18:45.362Z"
   },
   {
    "duration": 399,
    "start_time": "2022-09-01T14:18:45.395Z"
   },
   {
    "duration": 7,
    "start_time": "2022-09-01T14:18:45.796Z"
   },
   {
    "duration": 15,
    "start_time": "2022-09-01T14:18:45.805Z"
   },
   {
    "duration": 106,
    "start_time": "2022-09-01T14:18:45.822Z"
   },
   {
    "duration": 554,
    "start_time": "2022-09-01T14:18:45.930Z"
   },
   {
    "duration": 17633,
    "start_time": "2022-09-01T14:18:46.487Z"
   },
   {
    "duration": 343,
    "start_time": "2022-09-01T14:19:04.122Z"
   },
   {
    "duration": 9,
    "start_time": "2022-09-01T14:19:04.466Z"
   },
   {
    "duration": 104,
    "start_time": "2022-09-01T14:19:04.487Z"
   },
   {
    "duration": 498,
    "start_time": "2022-09-01T14:19:04.593Z"
   },
   {
    "duration": 8074,
    "start_time": "2022-09-01T14:19:05.093Z"
   },
   {
    "duration": 333,
    "start_time": "2022-09-01T14:19:13.169Z"
   },
   {
    "duration": 137,
    "start_time": "2022-09-01T14:19:13.504Z"
   },
   {
    "duration": 8183,
    "start_time": "2022-09-01T14:21:53.190Z"
   },
   {
    "duration": 212,
    "start_time": "2022-09-01T14:22:13.627Z"
   },
   {
    "duration": 311,
    "start_time": "2022-09-01T14:22:32.134Z"
   },
   {
    "duration": 203,
    "start_time": "2022-09-01T14:23:02.175Z"
   },
   {
    "duration": 57,
    "start_time": "2022-09-01T14:25:14.807Z"
   },
   {
    "duration": 22,
    "start_time": "2022-09-01T14:25:24.088Z"
   },
   {
    "duration": 20,
    "start_time": "2022-09-01T14:25:34.412Z"
   },
   {
    "duration": 21,
    "start_time": "2022-09-01T14:26:10.671Z"
   },
   {
    "duration": 23,
    "start_time": "2022-09-01T14:26:15.513Z"
   },
   {
    "duration": 32,
    "start_time": "2022-09-01T14:26:33.981Z"
   },
   {
    "duration": 1017,
    "start_time": "2022-09-01T14:29:28.095Z"
   },
   {
    "duration": 901,
    "start_time": "2022-09-01T14:29:56.871Z"
   },
   {
    "duration": 11,
    "start_time": "2022-09-01T14:30:06.085Z"
   },
   {
    "duration": 14,
    "start_time": "2022-09-01T14:30:37.606Z"
   },
   {
    "duration": 106,
    "start_time": "2022-09-01T14:31:00.441Z"
   },
   {
    "duration": 136,
    "start_time": "2022-09-01T14:31:03.849Z"
   },
   {
    "duration": 10553,
    "start_time": "2022-09-01T14:31:08.407Z"
   },
   {
    "duration": 478,
    "start_time": "2022-09-01T14:31:26.896Z"
   },
   {
    "duration": 7890,
    "start_time": "2022-09-01T14:31:36.036Z"
   },
   {
    "duration": 45,
    "start_time": "2022-09-01T14:31:51.451Z"
   },
   {
    "duration": 236,
    "start_time": "2022-09-01T14:32:01.542Z"
   },
   {
    "duration": 1297,
    "start_time": "2022-09-01T14:32:12.211Z"
   },
   {
    "duration": 65,
    "start_time": "2022-09-01T14:32:13.510Z"
   },
   {
    "duration": 16,
    "start_time": "2022-09-01T14:32:13.577Z"
   },
   {
    "duration": 832,
    "start_time": "2022-09-01T14:32:13.594Z"
   },
   {
    "duration": 2,
    "start_time": "2022-09-01T14:32:14.428Z"
   },
   {
    "duration": 31,
    "start_time": "2022-09-01T14:32:14.432Z"
   },
   {
    "duration": 30,
    "start_time": "2022-09-01T14:32:14.464Z"
   },
   {
    "duration": 31,
    "start_time": "2022-09-01T14:32:14.495Z"
   },
   {
    "duration": 120,
    "start_time": "2022-09-01T14:32:14.528Z"
   },
   {
    "duration": 12,
    "start_time": "2022-09-01T14:32:14.649Z"
   },
   {
    "duration": 162,
    "start_time": "2022-09-01T14:32:14.663Z"
   },
   {
    "duration": 111,
    "start_time": "2022-09-01T14:32:14.827Z"
   },
   {
    "duration": 0,
    "start_time": "2022-09-01T14:32:14.940Z"
   },
   {
    "duration": 0,
    "start_time": "2022-09-01T14:32:14.941Z"
   },
   {
    "duration": 0,
    "start_time": "2022-09-01T14:32:14.942Z"
   },
   {
    "duration": 0,
    "start_time": "2022-09-01T14:32:14.943Z"
   },
   {
    "duration": 0,
    "start_time": "2022-09-01T14:32:14.944Z"
   },
   {
    "duration": 0,
    "start_time": "2022-09-01T14:32:14.945Z"
   },
   {
    "duration": 0,
    "start_time": "2022-09-01T14:32:14.946Z"
   },
   {
    "duration": 0,
    "start_time": "2022-09-01T14:32:14.947Z"
   },
   {
    "duration": 0,
    "start_time": "2022-09-01T14:32:14.948Z"
   },
   {
    "duration": 0,
    "start_time": "2022-09-01T14:32:14.949Z"
   },
   {
    "duration": 0,
    "start_time": "2022-09-01T14:32:14.950Z"
   },
   {
    "duration": 0,
    "start_time": "2022-09-01T14:32:14.951Z"
   },
   {
    "duration": 0,
    "start_time": "2022-09-01T14:32:14.952Z"
   },
   {
    "duration": 0,
    "start_time": "2022-09-01T14:32:14.953Z"
   },
   {
    "duration": 0,
    "start_time": "2022-09-01T14:32:14.954Z"
   },
   {
    "duration": 0,
    "start_time": "2022-09-01T14:32:14.955Z"
   },
   {
    "duration": 0,
    "start_time": "2022-09-01T14:32:14.987Z"
   },
   {
    "duration": 0,
    "start_time": "2022-09-01T14:32:14.988Z"
   },
   {
    "duration": 0,
    "start_time": "2022-09-01T14:32:14.989Z"
   },
   {
    "duration": 0,
    "start_time": "2022-09-01T14:32:14.990Z"
   },
   {
    "duration": 14,
    "start_time": "2022-09-01T14:33:32.236Z"
   },
   {
    "duration": 1560,
    "start_time": "2022-09-01T14:33:37.391Z"
   },
   {
    "duration": 61,
    "start_time": "2022-09-01T14:33:38.953Z"
   },
   {
    "duration": 13,
    "start_time": "2022-09-01T14:33:39.016Z"
   },
   {
    "duration": 818,
    "start_time": "2022-09-01T14:33:39.031Z"
   },
   {
    "duration": 2,
    "start_time": "2022-09-01T14:33:39.851Z"
   },
   {
    "duration": 38,
    "start_time": "2022-09-01T14:33:39.855Z"
   },
   {
    "duration": 14,
    "start_time": "2022-09-01T14:33:39.894Z"
   },
   {
    "duration": 31,
    "start_time": "2022-09-01T14:33:39.910Z"
   },
   {
    "duration": 146,
    "start_time": "2022-09-01T14:33:39.942Z"
   },
   {
    "duration": 11,
    "start_time": "2022-09-01T14:33:40.091Z"
   },
   {
    "duration": 166,
    "start_time": "2022-09-01T14:33:40.103Z"
   },
   {
    "duration": 5,
    "start_time": "2022-09-01T14:33:40.271Z"
   },
   {
    "duration": 10472,
    "start_time": "2022-09-01T14:33:40.287Z"
   },
   {
    "duration": 3,
    "start_time": "2022-09-01T14:33:50.761Z"
   },
   {
    "duration": 566,
    "start_time": "2022-09-01T14:33:50.766Z"
   },
   {
    "duration": 117,
    "start_time": "2022-09-01T14:33:51.333Z"
   },
   {
    "duration": 7827,
    "start_time": "2022-09-01T14:33:51.452Z"
   },
   {
    "duration": 163,
    "start_time": "2022-09-01T14:33:59.281Z"
   },
   {
    "duration": 45,
    "start_time": "2022-09-01T14:33:59.446Z"
   },
   {
    "duration": 394,
    "start_time": "2022-09-01T14:33:59.493Z"
   },
   {
    "duration": 7,
    "start_time": "2022-09-01T14:33:59.889Z"
   },
   {
    "duration": 17,
    "start_time": "2022-09-01T14:33:59.897Z"
   },
   {
    "duration": 110,
    "start_time": "2022-09-01T14:33:59.915Z"
   },
   {
    "duration": 508,
    "start_time": "2022-09-01T14:34:00.027Z"
   },
   {
    "duration": 17654,
    "start_time": "2022-09-01T14:34:00.537Z"
   },
   {
    "duration": 383,
    "start_time": "2022-09-01T14:34:18.193Z"
   },
   {
    "duration": 9,
    "start_time": "2022-09-01T14:34:18.587Z"
   },
   {
    "duration": 105,
    "start_time": "2022-09-01T14:34:18.599Z"
   },
   {
    "duration": 496,
    "start_time": "2022-09-01T14:34:18.706Z"
   },
   {
    "duration": 7677,
    "start_time": "2022-09-01T14:34:19.204Z"
   },
   {
    "duration": 310,
    "start_time": "2022-09-01T14:34:26.886Z"
   },
   {
    "duration": 197,
    "start_time": "2022-09-01T14:34:27.198Z"
   },
   {
    "duration": 8459,
    "start_time": "2022-09-01T14:35:32.858Z"
   },
   {
    "duration": 8310,
    "start_time": "2022-09-01T14:35:49.919Z"
   },
   {
    "duration": 13,
    "start_time": "2022-09-01T14:36:50.816Z"
   },
   {
    "duration": 1288,
    "start_time": "2022-09-01T14:36:56.884Z"
   },
   {
    "duration": 61,
    "start_time": "2022-09-01T14:36:58.174Z"
   },
   {
    "duration": 14,
    "start_time": "2022-09-01T14:36:58.237Z"
   },
   {
    "duration": 805,
    "start_time": "2022-09-01T14:36:58.253Z"
   },
   {
    "duration": 2,
    "start_time": "2022-09-01T14:36:59.059Z"
   },
   {
    "duration": 32,
    "start_time": "2022-09-01T14:36:59.062Z"
   },
   {
    "duration": 13,
    "start_time": "2022-09-01T14:36:59.095Z"
   },
   {
    "duration": 31,
    "start_time": "2022-09-01T14:36:59.109Z"
   },
   {
    "duration": 132,
    "start_time": "2022-09-01T14:36:59.141Z"
   },
   {
    "duration": 21,
    "start_time": "2022-09-01T14:36:59.275Z"
   },
   {
    "duration": 160,
    "start_time": "2022-09-01T14:36:59.297Z"
   },
   {
    "duration": 3,
    "start_time": "2022-09-01T14:36:59.458Z"
   },
   {
    "duration": 10890,
    "start_time": "2022-09-01T14:36:59.462Z"
   },
   {
    "duration": 4,
    "start_time": "2022-09-01T14:37:10.354Z"
   },
   {
    "duration": 598,
    "start_time": "2022-09-01T14:37:10.360Z"
   },
   {
    "duration": 128,
    "start_time": "2022-09-01T14:37:10.959Z"
   },
   {
    "duration": 8064,
    "start_time": "2022-09-01T14:37:11.089Z"
   },
   {
    "duration": 164,
    "start_time": "2022-09-01T14:37:19.155Z"
   },
   {
    "duration": 21,
    "start_time": "2022-09-01T14:37:19.321Z"
   },
   {
    "duration": 368,
    "start_time": "2022-09-01T14:37:19.390Z"
   },
   {
    "duration": 8,
    "start_time": "2022-09-01T14:37:19.760Z"
   },
   {
    "duration": 25,
    "start_time": "2022-09-01T14:37:19.769Z"
   },
   {
    "duration": 106,
    "start_time": "2022-09-01T14:37:19.796Z"
   },
   {
    "duration": 506,
    "start_time": "2022-09-01T14:37:19.903Z"
   },
   {
    "duration": 17512,
    "start_time": "2022-09-01T14:37:20.411Z"
   },
   {
    "duration": 335,
    "start_time": "2022-09-01T14:37:37.925Z"
   },
   {
    "duration": 8,
    "start_time": "2022-09-01T14:37:38.262Z"
   },
   {
    "duration": 93,
    "start_time": "2022-09-01T14:37:38.273Z"
   },
   {
    "duration": 487,
    "start_time": "2022-09-01T14:37:38.367Z"
   },
   {
    "duration": 7550,
    "start_time": "2022-09-01T14:37:38.855Z"
   },
   {
    "duration": 366,
    "start_time": "2022-09-01T14:37:46.407Z"
   },
   {
    "duration": 207,
    "start_time": "2022-09-01T14:37:46.774Z"
   },
   {
    "duration": 12,
    "start_time": "2022-09-01T14:39:55.453Z"
   },
   {
    "duration": 1364,
    "start_time": "2022-09-01T14:40:00.893Z"
   },
   {
    "duration": 63,
    "start_time": "2022-09-01T14:40:02.259Z"
   },
   {
    "duration": 16,
    "start_time": "2022-09-01T14:40:02.323Z"
   },
   {
    "duration": 904,
    "start_time": "2022-09-01T14:40:02.341Z"
   },
   {
    "duration": 2,
    "start_time": "2022-09-01T14:40:03.248Z"
   },
   {
    "duration": 40,
    "start_time": "2022-09-01T14:40:03.252Z"
   },
   {
    "duration": 11,
    "start_time": "2022-09-01T14:40:03.293Z"
   },
   {
    "duration": 36,
    "start_time": "2022-09-01T14:40:03.305Z"
   },
   {
    "duration": 135,
    "start_time": "2022-09-01T14:40:03.343Z"
   },
   {
    "duration": 11,
    "start_time": "2022-09-01T14:40:03.486Z"
   },
   {
    "duration": 158,
    "start_time": "2022-09-01T14:40:03.499Z"
   },
   {
    "duration": 2,
    "start_time": "2022-09-01T14:40:03.659Z"
   },
   {
    "duration": 10903,
    "start_time": "2022-09-01T14:40:03.662Z"
   },
   {
    "duration": 4,
    "start_time": "2022-09-01T14:40:14.567Z"
   },
   {
    "duration": 599,
    "start_time": "2022-09-01T14:40:14.573Z"
   },
   {
    "duration": 130,
    "start_time": "2022-09-01T14:40:15.174Z"
   },
   {
    "duration": 8082,
    "start_time": "2022-09-01T14:40:15.305Z"
   },
   {
    "duration": 171,
    "start_time": "2022-09-01T14:40:23.389Z"
   },
   {
    "duration": 31,
    "start_time": "2022-09-01T14:40:23.562Z"
   },
   {
    "duration": 378,
    "start_time": "2022-09-01T14:40:23.598Z"
   },
   {
    "duration": 8,
    "start_time": "2022-09-01T14:40:23.987Z"
   },
   {
    "duration": 21,
    "start_time": "2022-09-01T14:40:23.996Z"
   },
   {
    "duration": 106,
    "start_time": "2022-09-01T14:40:24.019Z"
   },
   {
    "duration": 500,
    "start_time": "2022-09-01T14:40:24.127Z"
   },
   {
    "duration": 18509,
    "start_time": "2022-09-01T14:40:24.629Z"
   },
   {
    "duration": 350,
    "start_time": "2022-09-01T14:40:43.140Z"
   },
   {
    "duration": 12,
    "start_time": "2022-09-01T14:40:43.492Z"
   },
   {
    "duration": 109,
    "start_time": "2022-09-01T14:40:43.506Z"
   },
   {
    "duration": 556,
    "start_time": "2022-09-01T14:40:43.617Z"
   },
   {
    "duration": 7861,
    "start_time": "2022-09-01T14:40:44.175Z"
   },
   {
    "duration": 359,
    "start_time": "2022-09-01T14:40:52.038Z"
   },
   {
    "duration": 204,
    "start_time": "2022-09-01T14:40:52.399Z"
   },
   {
    "duration": 216,
    "start_time": "2022-09-01T14:45:03.677Z"
   },
   {
    "duration": 307,
    "start_time": "2022-09-01T14:45:12.343Z"
   },
   {
    "duration": 148,
    "start_time": "2022-09-01T14:45:30.022Z"
   },
   {
    "duration": 453,
    "start_time": "2022-09-01T14:45:59.464Z"
   },
   {
    "duration": 316,
    "start_time": "2022-09-01T14:46:06.500Z"
   },
   {
    "duration": 8229,
    "start_time": "2022-09-01T14:46:10.598Z"
   },
   {
    "duration": 3,
    "start_time": "2022-09-01T14:46:54.444Z"
   },
   {
    "duration": 1345,
    "start_time": "2022-09-01T14:47:01.939Z"
   },
   {
    "duration": 61,
    "start_time": "2022-09-01T14:47:03.286Z"
   },
   {
    "duration": 15,
    "start_time": "2022-09-01T14:47:03.349Z"
   },
   {
    "duration": 5,
    "start_time": "2022-09-01T14:47:03.366Z"
   },
   {
    "duration": 9,
    "start_time": "2022-09-01T14:47:03.372Z"
   },
   {
    "duration": 32,
    "start_time": "2022-09-01T14:47:03.383Z"
   },
   {
    "duration": 13,
    "start_time": "2022-09-01T14:47:03.416Z"
   },
   {
    "duration": 35,
    "start_time": "2022-09-01T14:47:03.430Z"
   },
   {
    "duration": 129,
    "start_time": "2022-09-01T14:47:03.488Z"
   },
   {
    "duration": 12,
    "start_time": "2022-09-01T14:47:03.620Z"
   },
   {
    "duration": 159,
    "start_time": "2022-09-01T14:47:03.633Z"
   },
   {
    "duration": 3,
    "start_time": "2022-09-01T14:47:03.793Z"
   },
   {
    "duration": 10820,
    "start_time": "2022-09-01T14:47:03.797Z"
   },
   {
    "duration": 4,
    "start_time": "2022-09-01T14:47:14.619Z"
   },
   {
    "duration": 525,
    "start_time": "2022-09-01T14:47:14.625Z"
   },
   {
    "duration": 120,
    "start_time": "2022-09-01T14:47:15.152Z"
   },
   {
    "duration": 8288,
    "start_time": "2022-09-01T14:47:15.274Z"
   },
   {
    "duration": 181,
    "start_time": "2022-09-01T14:47:23.564Z"
   },
   {
    "duration": 45,
    "start_time": "2022-09-01T14:47:23.747Z"
   },
   {
    "duration": 397,
    "start_time": "2022-09-01T14:47:23.794Z"
   },
   {
    "duration": 6,
    "start_time": "2022-09-01T14:47:24.193Z"
   },
   {
    "duration": 30,
    "start_time": "2022-09-01T14:47:24.201Z"
   },
   {
    "duration": 106,
    "start_time": "2022-09-01T14:47:24.233Z"
   },
   {
    "duration": 492,
    "start_time": "2022-09-01T14:47:24.341Z"
   },
   {
    "duration": 17266,
    "start_time": "2022-09-01T14:47:24.835Z"
   },
   {
    "duration": 289,
    "start_time": "2022-09-01T14:47:42.103Z"
   },
   {
    "duration": 9,
    "start_time": "2022-09-01T14:47:42.394Z"
   },
   {
    "duration": 106,
    "start_time": "2022-09-01T14:47:42.406Z"
   },
   {
    "duration": 474,
    "start_time": "2022-09-01T14:47:42.514Z"
   },
   {
    "duration": 7686,
    "start_time": "2022-09-01T14:47:42.990Z"
   },
   {
    "duration": 322,
    "start_time": "2022-09-01T14:47:50.678Z"
   },
   {
    "duration": 210,
    "start_time": "2022-09-01T14:47:51.002Z"
   },
   {
    "duration": 1284,
    "start_time": "2022-09-01T14:48:48.896Z"
   },
   {
    "duration": 61,
    "start_time": "2022-09-01T14:48:50.182Z"
   },
   {
    "duration": 16,
    "start_time": "2022-09-01T14:48:50.248Z"
   },
   {
    "duration": 3,
    "start_time": "2022-09-01T14:48:50.267Z"
   },
   {
    "duration": 15,
    "start_time": "2022-09-01T14:48:50.272Z"
   },
   {
    "duration": 29,
    "start_time": "2022-09-01T14:48:50.288Z"
   },
   {
    "duration": 10,
    "start_time": "2022-09-01T14:48:50.319Z"
   },
   {
    "duration": 37,
    "start_time": "2022-09-01T14:48:50.330Z"
   },
   {
    "duration": 137,
    "start_time": "2022-09-01T14:48:50.387Z"
   },
   {
    "duration": 12,
    "start_time": "2022-09-01T14:48:50.525Z"
   },
   {
    "duration": 154,
    "start_time": "2022-09-01T14:48:50.538Z"
   },
   {
    "duration": 3,
    "start_time": "2022-09-01T14:48:50.693Z"
   },
   {
    "duration": 10576,
    "start_time": "2022-09-01T14:48:50.698Z"
   },
   {
    "duration": 5,
    "start_time": "2022-09-01T14:49:01.275Z"
   },
   {
    "duration": 527,
    "start_time": "2022-09-01T14:49:01.281Z"
   },
   {
    "duration": 126,
    "start_time": "2022-09-01T14:49:01.810Z"
   },
   {
    "duration": 8022,
    "start_time": "2022-09-01T14:49:01.938Z"
   },
   {
    "duration": 175,
    "start_time": "2022-09-01T14:49:09.963Z"
   },
   {
    "duration": 49,
    "start_time": "2022-09-01T14:49:10.140Z"
   },
   {
    "duration": 396,
    "start_time": "2022-09-01T14:49:10.192Z"
   },
   {
    "duration": 7,
    "start_time": "2022-09-01T14:49:10.590Z"
   },
   {
    "duration": 19,
    "start_time": "2022-09-01T14:49:10.599Z"
   },
   {
    "duration": 109,
    "start_time": "2022-09-01T14:49:10.619Z"
   },
   {
    "duration": 496,
    "start_time": "2022-09-01T14:49:10.730Z"
   },
   {
    "duration": 17539,
    "start_time": "2022-09-01T14:49:11.228Z"
   },
   {
    "duration": 327,
    "start_time": "2022-09-01T14:49:28.769Z"
   },
   {
    "duration": 9,
    "start_time": "2022-09-01T14:49:29.098Z"
   },
   {
    "duration": 99,
    "start_time": "2022-09-01T14:49:29.108Z"
   },
   {
    "duration": 479,
    "start_time": "2022-09-01T14:49:29.209Z"
   },
   {
    "duration": 7725,
    "start_time": "2022-09-01T14:49:29.690Z"
   },
   {
    "duration": 277,
    "start_time": "2022-09-01T14:49:37.416Z"
   },
   {
    "duration": 192,
    "start_time": "2022-09-01T14:49:37.695Z"
   },
   {
    "duration": 152,
    "start_time": "2022-09-01T14:51:03.625Z"
   },
   {
    "duration": 587,
    "start_time": "2022-09-01T14:51:10.036Z"
   },
   {
    "duration": 134,
    "start_time": "2022-09-01T14:51:21.457Z"
   },
   {
    "duration": 7939,
    "start_time": "2022-09-01T14:51:30.839Z"
   },
   {
    "duration": 64,
    "start_time": "2022-09-01T16:21:30.985Z"
   },
   {
    "duration": 12,
    "start_time": "2022-09-01T16:21:35.038Z"
   },
   {
    "duration": 1395,
    "start_time": "2022-09-01T16:21:41.044Z"
   },
   {
    "duration": 63,
    "start_time": "2022-09-01T16:21:42.441Z"
   },
   {
    "duration": 16,
    "start_time": "2022-09-01T16:21:42.505Z"
   },
   {
    "duration": 2,
    "start_time": "2022-09-01T16:21:42.523Z"
   },
   {
    "duration": 10,
    "start_time": "2022-09-01T16:21:42.527Z"
   },
   {
    "duration": 57,
    "start_time": "2022-09-01T16:21:42.539Z"
   },
   {
    "duration": 12,
    "start_time": "2022-09-01T16:21:42.598Z"
   },
   {
    "duration": 34,
    "start_time": "2022-09-01T16:21:42.612Z"
   },
   {
    "duration": 151,
    "start_time": "2022-09-01T16:21:42.649Z"
   },
   {
    "duration": 12,
    "start_time": "2022-09-01T16:21:42.802Z"
   },
   {
    "duration": 160,
    "start_time": "2022-09-01T16:21:42.816Z"
   },
   {
    "duration": 9,
    "start_time": "2022-09-01T16:21:42.978Z"
   },
   {
    "duration": 10967,
    "start_time": "2022-09-01T16:21:42.989Z"
   },
   {
    "duration": 4,
    "start_time": "2022-09-01T16:21:53.959Z"
   },
   {
    "duration": 510,
    "start_time": "2022-09-01T16:21:53.964Z"
   },
   {
    "duration": 133,
    "start_time": "2022-09-01T16:21:54.476Z"
   },
   {
    "duration": 8508,
    "start_time": "2022-09-01T16:21:54.611Z"
   },
   {
    "duration": 221,
    "start_time": "2022-09-01T16:22:03.122Z"
   },
   {
    "duration": 50,
    "start_time": "2022-09-01T16:22:03.345Z"
   },
   {
    "duration": 313,
    "start_time": "2022-09-01T16:22:03.492Z"
   },
   {
    "duration": 8,
    "start_time": "2022-09-01T16:22:03.807Z"
   },
   {
    "duration": 25,
    "start_time": "2022-09-01T16:22:03.817Z"
   },
   {
    "duration": 112,
    "start_time": "2022-09-01T16:22:03.844Z"
   },
   {
    "duration": 526,
    "start_time": "2022-09-01T16:22:03.958Z"
   },
   {
    "duration": 18613,
    "start_time": "2022-09-01T16:22:04.487Z"
   },
   {
    "duration": 310,
    "start_time": "2022-09-01T16:22:23.102Z"
   },
   {
    "duration": 10,
    "start_time": "2022-09-01T16:22:23.414Z"
   },
   {
    "duration": 120,
    "start_time": "2022-09-01T16:22:23.428Z"
   },
   {
    "duration": 521,
    "start_time": "2022-09-01T16:22:23.550Z"
   },
   {
    "duration": 7792,
    "start_time": "2022-09-01T16:22:24.073Z"
   },
   {
    "duration": 459,
    "start_time": "2022-09-01T16:22:31.866Z"
   },
   {
    "duration": 218,
    "start_time": "2022-09-01T16:22:32.326Z"
   },
   {
    "duration": 6334,
    "start_time": "2022-09-01T16:23:27.372Z"
   },
   {
    "duration": 10427,
    "start_time": "2022-09-01T16:24:02.370Z"
   },
   {
    "duration": 210,
    "start_time": "2022-09-01T16:24:36.406Z"
   },
   {
    "duration": 26127,
    "start_time": "2022-09-01T16:25:14.960Z"
   },
   {
    "duration": 14,
    "start_time": "2022-09-01T16:26:09.218Z"
   },
   {
    "duration": 1470,
    "start_time": "2022-09-01T16:26:17.361Z"
   },
   {
    "duration": 74,
    "start_time": "2022-09-01T16:26:18.833Z"
   },
   {
    "duration": 18,
    "start_time": "2022-09-01T16:26:18.909Z"
   },
   {
    "duration": 12,
    "start_time": "2022-09-01T16:26:18.930Z"
   },
   {
    "duration": 20,
    "start_time": "2022-09-01T16:26:18.945Z"
   },
   {
    "duration": 49,
    "start_time": "2022-09-01T16:26:18.967Z"
   },
   {
    "duration": 20,
    "start_time": "2022-09-01T16:26:19.018Z"
   },
   {
    "duration": 66,
    "start_time": "2022-09-01T16:26:19.040Z"
   },
   {
    "duration": 155,
    "start_time": "2022-09-01T16:26:19.108Z"
   },
   {
    "duration": 30,
    "start_time": "2022-09-01T16:26:19.265Z"
   },
   {
    "duration": 160,
    "start_time": "2022-09-01T16:26:19.297Z"
   },
   {
    "duration": 3,
    "start_time": "2022-09-01T16:26:19.458Z"
   },
   {
    "duration": 25916,
    "start_time": "2022-09-01T16:26:19.464Z"
   },
   {
    "duration": 5,
    "start_time": "2022-09-01T16:26:45.386Z"
   },
   {
    "duration": 529,
    "start_time": "2022-09-01T16:26:45.393Z"
   },
   {
    "duration": 269,
    "start_time": "2022-09-01T16:26:45.924Z"
   },
   {
    "duration": 10295,
    "start_time": "2022-09-01T16:26:46.195Z"
   },
   {
    "duration": 188,
    "start_time": "2022-09-01T16:26:56.492Z"
   },
   {
    "duration": 27,
    "start_time": "2022-09-01T16:26:56.686Z"
   },
   {
    "duration": 354,
    "start_time": "2022-09-01T16:26:56.716Z"
   },
   {
    "duration": 18,
    "start_time": "2022-09-01T16:26:57.072Z"
   },
   {
    "duration": 21,
    "start_time": "2022-09-01T16:26:57.092Z"
   },
   {
    "duration": 110,
    "start_time": "2022-09-01T16:26:57.115Z"
   },
   {
    "duration": 565,
    "start_time": "2022-09-01T16:26:57.228Z"
   },
   {
    "duration": 18918,
    "start_time": "2022-09-01T16:26:57.795Z"
   },
   {
    "duration": 387,
    "start_time": "2022-09-01T16:27:16.714Z"
   },
   {
    "duration": 10,
    "start_time": "2022-09-01T16:27:17.103Z"
   },
   {
    "duration": 121,
    "start_time": "2022-09-01T16:27:17.116Z"
   },
   {
    "duration": 526,
    "start_time": "2022-09-01T16:27:17.238Z"
   },
   {
    "duration": 7987,
    "start_time": "2022-09-01T16:27:17.766Z"
   },
   {
    "duration": 452,
    "start_time": "2022-09-01T16:27:25.754Z"
   },
   {
    "duration": 231,
    "start_time": "2022-09-01T16:27:26.208Z"
   },
   {
    "duration": 1432,
    "start_time": "2022-09-01T16:27:42.952Z"
   },
   {
    "duration": 70,
    "start_time": "2022-09-01T16:27:44.385Z"
   },
   {
    "duration": 19,
    "start_time": "2022-09-01T16:27:44.458Z"
   },
   {
    "duration": 6,
    "start_time": "2022-09-01T16:27:44.480Z"
   },
   {
    "duration": 31,
    "start_time": "2022-09-01T16:27:44.488Z"
   },
   {
    "duration": 34,
    "start_time": "2022-09-01T16:27:44.521Z"
   },
   {
    "duration": 15,
    "start_time": "2022-09-01T16:27:44.557Z"
   },
   {
    "duration": 37,
    "start_time": "2022-09-01T16:27:44.574Z"
   },
   {
    "duration": 174,
    "start_time": "2022-09-01T16:27:44.613Z"
   },
   {
    "duration": 15,
    "start_time": "2022-09-01T16:27:44.791Z"
   },
   {
    "duration": 163,
    "start_time": "2022-09-01T16:27:44.808Z"
   },
   {
    "duration": 3,
    "start_time": "2022-09-01T16:27:44.973Z"
   },
   {
    "duration": 25712,
    "start_time": "2022-09-01T16:27:44.986Z"
   },
   {
    "duration": 4,
    "start_time": "2022-09-01T16:28:10.700Z"
   },
   {
    "duration": 544,
    "start_time": "2022-09-01T16:28:10.706Z"
   },
   {
    "duration": 200,
    "start_time": "2022-09-01T16:28:11.252Z"
   },
   {
    "duration": 10271,
    "start_time": "2022-09-01T16:28:11.454Z"
   },
   {
    "duration": 155,
    "start_time": "2022-09-01T16:28:21.727Z"
   },
   {
    "duration": 102,
    "start_time": "2022-09-01T16:28:21.886Z"
   },
   {
    "duration": 308,
    "start_time": "2022-09-01T16:28:21.989Z"
   },
   {
    "duration": 8,
    "start_time": "2022-09-01T16:28:22.299Z"
   },
   {
    "duration": 19,
    "start_time": "2022-09-01T16:28:22.309Z"
   },
   {
    "duration": 125,
    "start_time": "2022-09-01T16:28:22.330Z"
   },
   {
    "duration": 524,
    "start_time": "2022-09-01T16:28:22.456Z"
   },
   {
    "duration": 18323,
    "start_time": "2022-09-01T16:28:22.986Z"
   },
   {
    "duration": 282,
    "start_time": "2022-09-01T16:28:41.311Z"
   },
   {
    "duration": 13,
    "start_time": "2022-09-01T16:28:41.594Z"
   },
   {
    "duration": 120,
    "start_time": "2022-09-01T16:28:41.611Z"
   },
   {
    "duration": 497,
    "start_time": "2022-09-01T16:28:41.733Z"
   },
   {
    "duration": 7983,
    "start_time": "2022-09-01T16:28:42.231Z"
   },
   {
    "duration": 287,
    "start_time": "2022-09-01T16:28:50.215Z"
   },
   {
    "duration": 189,
    "start_time": "2022-09-01T16:28:50.505Z"
   },
   {
    "duration": 1523,
    "start_time": "2022-09-01T16:29:00.014Z"
   },
   {
    "duration": 82,
    "start_time": "2022-09-01T16:29:01.539Z"
   },
   {
    "duration": 17,
    "start_time": "2022-09-01T16:29:01.622Z"
   },
   {
    "duration": 5,
    "start_time": "2022-09-01T16:29:01.641Z"
   },
   {
    "duration": 25,
    "start_time": "2022-09-01T16:29:01.648Z"
   },
   {
    "duration": 51,
    "start_time": "2022-09-01T16:29:01.675Z"
   },
   {
    "duration": 15,
    "start_time": "2022-09-01T16:29:01.728Z"
   },
   {
    "duration": 73,
    "start_time": "2022-09-01T16:29:01.745Z"
   },
   {
    "duration": 137,
    "start_time": "2022-09-01T16:29:01.821Z"
   },
   {
    "duration": 28,
    "start_time": "2022-09-01T16:29:01.961Z"
   },
   {
    "duration": 165,
    "start_time": "2022-09-01T16:29:01.998Z"
   },
   {
    "duration": 2,
    "start_time": "2022-09-01T16:29:02.165Z"
   },
   {
    "duration": 26625,
    "start_time": "2022-09-01T16:29:02.169Z"
   },
   {
    "duration": 7,
    "start_time": "2022-09-01T16:29:28.801Z"
   },
   {
    "duration": 520,
    "start_time": "2022-09-01T16:29:28.810Z"
   },
   {
    "duration": 228,
    "start_time": "2022-09-01T16:29:29.332Z"
   },
   {
    "duration": 10282,
    "start_time": "2022-09-01T16:29:29.562Z"
   },
   {
    "duration": 148,
    "start_time": "2022-09-01T16:29:39.845Z"
   },
   {
    "duration": 108,
    "start_time": "2022-09-01T16:29:39.997Z"
   },
   {
    "duration": 370,
    "start_time": "2022-09-01T16:29:40.107Z"
   },
   {
    "duration": 26,
    "start_time": "2022-09-01T16:29:40.479Z"
   },
   {
    "duration": 15,
    "start_time": "2022-09-01T16:29:40.507Z"
   },
   {
    "duration": 119,
    "start_time": "2022-09-01T16:29:40.524Z"
   },
   {
    "duration": 509,
    "start_time": "2022-09-01T16:29:40.645Z"
   },
   {
    "duration": 18072,
    "start_time": "2022-09-01T16:29:41.155Z"
   },
   {
    "duration": 334,
    "start_time": "2022-09-01T16:29:59.228Z"
   },
   {
    "duration": 9,
    "start_time": "2022-09-01T16:29:59.564Z"
   },
   {
    "duration": 100,
    "start_time": "2022-09-01T16:29:59.576Z"
   },
   {
    "duration": 524,
    "start_time": "2022-09-01T16:29:59.687Z"
   },
   {
    "duration": 8354,
    "start_time": "2022-09-01T16:30:00.213Z"
   },
   {
    "duration": 307,
    "start_time": "2022-09-01T16:30:08.569Z"
   },
   {
    "duration": 178,
    "start_time": "2022-09-01T16:30:08.889Z"
   },
   {
    "duration": 9824,
    "start_time": "2022-09-01T16:31:01.782Z"
   },
   {
    "duration": 20785,
    "start_time": "2022-09-01T16:31:52.202Z"
   },
   {
    "duration": 25876,
    "start_time": "2022-09-01T16:32:25.312Z"
   },
   {
    "duration": 100974,
    "start_time": "2022-09-01T16:33:27.442Z"
   },
   {
    "duration": 213,
    "start_time": "2022-09-01T16:35:40.004Z"
   },
   {
    "duration": 5526,
    "start_time": "2022-09-01T16:35:43.608Z"
   },
   {
    "duration": 7244,
    "start_time": "2022-09-01T16:35:57.457Z"
   },
   {
    "duration": 224,
    "start_time": "2022-09-01T16:36:14.950Z"
   },
   {
    "duration": 4102,
    "start_time": "2022-09-01T16:36:25.503Z"
   },
   {
    "duration": 202,
    "start_time": "2022-09-01T16:36:37.114Z"
   },
   {
    "duration": 8186,
    "start_time": "2022-09-01T16:36:49.453Z"
   },
   {
    "duration": 10299,
    "start_time": "2022-09-01T16:37:02.505Z"
   },
   {
    "duration": 26716,
    "start_time": "2022-09-01T16:37:39.433Z"
   },
   {
    "duration": 41821,
    "start_time": "2022-09-01T16:38:14.014Z"
   },
   {
    "duration": 45347,
    "start_time": "2022-09-01T16:39:12.419Z"
   },
   {
    "duration": 47552,
    "start_time": "2022-09-01T16:41:25.261Z"
   },
   {
    "duration": 10,
    "start_time": "2022-09-01T16:43:23.622Z"
   },
   {
    "duration": 163,
    "start_time": "2022-09-01T16:43:28.986Z"
   },
   {
    "duration": 104966,
    "start_time": "2022-09-01T16:43:33.634Z"
   },
   {
    "duration": 519,
    "start_time": "2022-09-01T16:45:26.996Z"
   },
   {
    "duration": 26503,
    "start_time": "2022-09-01T16:45:33.046Z"
   },
   {
    "duration": 276,
    "start_time": "2022-09-01T16:46:13.368Z"
   },
   {
    "duration": 125,
    "start_time": "2022-09-01T16:46:33.410Z"
   },
   {
    "duration": 381,
    "start_time": "2022-09-01T16:46:43.132Z"
   },
   {
    "duration": 1476,
    "start_time": "2022-09-01T16:47:15.180Z"
   },
   {
    "duration": 69,
    "start_time": "2022-09-01T16:47:16.658Z"
   },
   {
    "duration": 14,
    "start_time": "2022-09-01T16:47:16.729Z"
   },
   {
    "duration": 3,
    "start_time": "2022-09-01T16:47:16.745Z"
   },
   {
    "duration": 8,
    "start_time": "2022-09-01T16:47:16.750Z"
   },
   {
    "duration": 53,
    "start_time": "2022-09-01T16:47:16.760Z"
   },
   {
    "duration": 14,
    "start_time": "2022-09-01T16:47:16.814Z"
   },
   {
    "duration": 30,
    "start_time": "2022-09-01T16:47:16.830Z"
   },
   {
    "duration": 152,
    "start_time": "2022-09-01T16:47:16.862Z"
   },
   {
    "duration": 11,
    "start_time": "2022-09-01T16:47:17.016Z"
   },
   {
    "duration": 172,
    "start_time": "2022-09-01T16:47:17.029Z"
   },
   {
    "duration": 3,
    "start_time": "2022-09-01T16:47:17.203Z"
   },
   {
    "duration": 104138,
    "start_time": "2022-09-01T16:47:17.208Z"
   },
   {
    "duration": 4,
    "start_time": "2022-09-01T16:49:01.348Z"
   },
   {
    "duration": 568,
    "start_time": "2022-09-01T16:49:01.354Z"
   },
   {
    "duration": 135,
    "start_time": "2022-09-01T16:49:01.924Z"
   },
   {
    "duration": 26054,
    "start_time": "2022-09-01T16:49:02.060Z"
   },
   {
    "duration": 172,
    "start_time": "2022-09-01T16:49:28.116Z"
   },
   {
    "duration": 28,
    "start_time": "2022-09-01T16:49:28.291Z"
   },
   {
    "duration": 348,
    "start_time": "2022-09-01T16:49:28.321Z"
   },
   {
    "duration": 30,
    "start_time": "2022-09-01T16:49:28.671Z"
   },
   {
    "duration": 21,
    "start_time": "2022-09-01T16:49:28.702Z"
   },
   {
    "duration": 108,
    "start_time": "2022-09-01T16:49:28.724Z"
   },
   {
    "duration": 499,
    "start_time": "2022-09-01T16:49:28.833Z"
   },
   {
    "duration": 18930,
    "start_time": "2022-09-01T16:49:29.338Z"
   },
   {
    "duration": 424,
    "start_time": "2022-09-01T16:49:48.270Z"
   },
   {
    "duration": 13,
    "start_time": "2022-09-01T16:49:48.696Z"
   },
   {
    "duration": 105,
    "start_time": "2022-09-01T16:49:48.712Z"
   },
   {
    "duration": 524,
    "start_time": "2022-09-01T16:49:48.819Z"
   },
   {
    "duration": 8396,
    "start_time": "2022-09-01T16:49:49.347Z"
   },
   {
    "duration": 343,
    "start_time": "2022-09-01T16:49:57.746Z"
   },
   {
    "duration": 204,
    "start_time": "2022-09-01T16:49:58.102Z"
   },
   {
    "duration": 2,
    "start_time": "2022-09-01T16:51:37.277Z"
   },
   {
    "duration": 1318,
    "start_time": "2022-09-01T16:51:42.333Z"
   },
   {
    "duration": 64,
    "start_time": "2022-09-01T16:51:43.654Z"
   },
   {
    "duration": 16,
    "start_time": "2022-09-01T16:51:43.720Z"
   },
   {
    "duration": 875,
    "start_time": "2022-09-01T16:51:43.739Z"
   },
   {
    "duration": 3,
    "start_time": "2022-09-01T16:51:44.615Z"
   },
   {
    "duration": 43,
    "start_time": "2022-09-01T16:51:44.620Z"
   },
   {
    "duration": 26,
    "start_time": "2022-09-01T16:51:44.665Z"
   },
   {
    "duration": 32,
    "start_time": "2022-09-01T16:51:44.693Z"
   },
   {
    "duration": 139,
    "start_time": "2022-09-01T16:51:44.726Z"
   },
   {
    "duration": 21,
    "start_time": "2022-09-01T16:51:44.868Z"
   },
   {
    "duration": 168,
    "start_time": "2022-09-01T16:51:44.890Z"
   },
   {
    "duration": 3,
    "start_time": "2022-09-01T16:51:45.060Z"
   },
   {
    "duration": 102003,
    "start_time": "2022-09-01T16:51:45.064Z"
   },
   {
    "duration": 4,
    "start_time": "2022-09-01T16:53:27.069Z"
   },
   {
    "duration": 519,
    "start_time": "2022-09-01T16:53:27.074Z"
   },
   {
    "duration": 140,
    "start_time": "2022-09-01T16:53:27.595Z"
   },
   {
    "duration": 26065,
    "start_time": "2022-09-01T16:53:27.736Z"
   },
   {
    "duration": 187,
    "start_time": "2022-09-01T16:53:53.804Z"
   },
   {
    "duration": 32,
    "start_time": "2022-09-01T16:53:53.998Z"
   },
   {
    "duration": 388,
    "start_time": "2022-09-01T16:53:54.032Z"
   },
   {
    "duration": 12,
    "start_time": "2022-09-01T16:53:54.423Z"
   },
   {
    "duration": 42,
    "start_time": "2022-09-01T16:53:54.436Z"
   },
   {
    "duration": 103,
    "start_time": "2022-09-01T16:53:54.480Z"
   },
   {
    "duration": 502,
    "start_time": "2022-09-01T16:53:54.584Z"
   },
   {
    "duration": 19963,
    "start_time": "2022-09-01T16:53:55.088Z"
   },
   {
    "duration": 316,
    "start_time": "2022-09-01T16:54:15.053Z"
   },
   {
    "duration": 28,
    "start_time": "2022-09-01T16:54:15.370Z"
   },
   {
    "duration": 115,
    "start_time": "2022-09-01T16:54:15.405Z"
   },
   {
    "duration": 624,
    "start_time": "2022-09-01T16:54:15.522Z"
   },
   {
    "duration": 8284,
    "start_time": "2022-09-01T16:54:16.148Z"
   },
   {
    "duration": 341,
    "start_time": "2022-09-01T16:54:24.434Z"
   },
   {
    "duration": 240,
    "start_time": "2022-09-01T16:54:24.777Z"
   },
   {
    "duration": 5,
    "start_time": "2022-09-01T16:57:13.112Z"
   },
   {
    "duration": 8,
    "start_time": "2022-09-01T16:57:31.236Z"
   },
   {
    "duration": 4,
    "start_time": "2022-09-01T16:57:37.402Z"
   },
   {
    "duration": 1321,
    "start_time": "2022-09-01T16:57:45.113Z"
   },
   {
    "duration": 65,
    "start_time": "2022-09-01T16:57:46.436Z"
   },
   {
    "duration": 14,
    "start_time": "2022-09-01T16:57:46.502Z"
   },
   {
    "duration": 10,
    "start_time": "2022-09-01T16:57:46.518Z"
   },
   {
    "duration": 4,
    "start_time": "2022-09-01T16:57:46.530Z"
   },
   {
    "duration": 55,
    "start_time": "2022-09-01T16:57:46.535Z"
   },
   {
    "duration": 12,
    "start_time": "2022-09-01T16:57:46.591Z"
   },
   {
    "duration": 33,
    "start_time": "2022-09-01T16:57:46.605Z"
   },
   {
    "duration": 138,
    "start_time": "2022-09-01T16:57:46.640Z"
   },
   {
    "duration": 11,
    "start_time": "2022-09-01T16:57:46.786Z"
   },
   {
    "duration": 150,
    "start_time": "2022-09-01T16:57:46.799Z"
   },
   {
    "duration": 2,
    "start_time": "2022-09-01T16:57:46.951Z"
   },
   {
    "duration": 98424,
    "start_time": "2022-09-01T16:57:46.955Z"
   },
   {
    "duration": 7,
    "start_time": "2022-09-01T16:59:25.380Z"
   },
   {
    "duration": 492,
    "start_time": "2022-09-01T16:59:25.389Z"
   },
   {
    "duration": 116,
    "start_time": "2022-09-01T16:59:25.882Z"
   },
   {
    "duration": 24644,
    "start_time": "2022-09-01T16:59:26.000Z"
   },
   {
    "duration": 163,
    "start_time": "2022-09-01T16:59:50.645Z"
   },
   {
    "duration": 23,
    "start_time": "2022-09-01T16:59:50.810Z"
   },
   {
    "duration": 397,
    "start_time": "2022-09-01T16:59:50.892Z"
   },
   {
    "duration": 7,
    "start_time": "2022-09-01T16:59:51.291Z"
   },
   {
    "duration": 24,
    "start_time": "2022-09-01T16:59:51.300Z"
   },
   {
    "duration": 97,
    "start_time": "2022-09-01T16:59:51.325Z"
   },
   {
    "duration": 483,
    "start_time": "2022-09-01T16:59:51.423Z"
   },
   {
    "duration": 17711,
    "start_time": "2022-09-01T16:59:51.908Z"
   },
   {
    "duration": 346,
    "start_time": "2022-09-01T17:00:09.621Z"
   },
   {
    "duration": 24,
    "start_time": "2022-09-01T17:00:09.968Z"
   },
   {
    "duration": 134,
    "start_time": "2022-09-01T17:00:09.995Z"
   },
   {
    "duration": 527,
    "start_time": "2022-09-01T17:00:10.131Z"
   },
   {
    "duration": 8070,
    "start_time": "2022-09-01T17:00:10.660Z"
   },
   {
    "duration": 373,
    "start_time": "2022-09-01T17:00:18.732Z"
   },
   {
    "duration": 219,
    "start_time": "2022-09-01T17:00:19.107Z"
   },
   {
    "duration": 33275,
    "start_time": "2022-09-01T17:05:15.681Z"
   },
   {
    "duration": 26503,
    "start_time": "2022-09-01T17:06:05.508Z"
   },
   {
    "duration": 37452,
    "start_time": "2022-09-01T17:16:15.709Z"
   },
   {
    "duration": 305,
    "start_time": "2022-09-01T17:18:08.712Z"
   },
   {
    "duration": 22,
    "start_time": "2022-09-01T17:18:44.270Z"
   },
   {
    "duration": 113748,
    "start_time": "2022-09-01T17:18:50.319Z"
   },
   {
    "duration": 1670,
    "start_time": "2022-09-01T17:21:02.274Z"
   },
   {
    "duration": 94,
    "start_time": "2022-09-01T17:21:03.946Z"
   },
   {
    "duration": 20,
    "start_time": "2022-09-01T17:21:04.043Z"
   },
   {
    "duration": 25,
    "start_time": "2022-09-01T17:21:04.066Z"
   },
   {
    "duration": 55,
    "start_time": "2022-09-01T17:21:04.093Z"
   },
   {
    "duration": 44,
    "start_time": "2022-09-01T17:21:04.150Z"
   },
   {
    "duration": 18,
    "start_time": "2022-09-01T17:21:04.196Z"
   },
   {
    "duration": 60,
    "start_time": "2022-09-01T17:21:04.216Z"
   },
   {
    "duration": 157,
    "start_time": "2022-09-01T17:21:04.278Z"
   },
   {
    "duration": 12,
    "start_time": "2022-09-01T17:21:04.439Z"
   },
   {
    "duration": 197,
    "start_time": "2022-09-01T17:21:04.453Z"
   },
   {
    "duration": 2,
    "start_time": "2022-09-01T17:21:04.652Z"
   },
   {
    "duration": 115261,
    "start_time": "2022-09-01T17:21:04.655Z"
   },
   {
    "duration": 5,
    "start_time": "2022-09-01T17:22:59.925Z"
   },
   {
    "duration": 611,
    "start_time": "2022-09-01T17:22:59.931Z"
   },
   {
    "duration": 131,
    "start_time": "2022-09-01T17:23:00.543Z"
   },
   {
    "duration": 41715,
    "start_time": "2022-09-01T17:23:00.676Z"
   },
   {
    "duration": 214,
    "start_time": "2022-09-01T17:23:42.393Z"
   },
   {
    "duration": 88,
    "start_time": "2022-09-01T17:23:42.609Z"
   },
   {
    "duration": 398,
    "start_time": "2022-09-01T17:23:42.704Z"
   },
   {
    "duration": 12,
    "start_time": "2022-09-01T17:23:43.106Z"
   },
   {
    "duration": 28,
    "start_time": "2022-09-01T17:23:43.120Z"
   },
   {
    "duration": 116,
    "start_time": "2022-09-01T17:23:43.150Z"
   },
   {
    "duration": 536,
    "start_time": "2022-09-01T17:23:43.268Z"
   },
   {
    "duration": 21211,
    "start_time": "2022-09-01T17:23:43.805Z"
   },
   {
    "duration": 363,
    "start_time": "2022-09-01T17:24:05.018Z"
   },
   {
    "duration": 14,
    "start_time": "2022-09-01T17:24:05.382Z"
   },
   {
    "duration": 137,
    "start_time": "2022-09-01T17:24:05.402Z"
   },
   {
    "duration": 663,
    "start_time": "2022-09-01T17:24:05.540Z"
   },
   {
    "duration": 9166,
    "start_time": "2022-09-01T17:24:06.205Z"
   },
   {
    "duration": 348,
    "start_time": "2022-09-01T17:24:15.373Z"
   },
   {
    "duration": 326,
    "start_time": "2022-09-01T17:24:15.724Z"
   },
   {
    "duration": 1402,
    "start_time": "2022-09-01T17:26:38.346Z"
   },
   {
    "duration": 72,
    "start_time": "2022-09-01T17:26:39.750Z"
   },
   {
    "duration": 18,
    "start_time": "2022-09-01T17:26:39.823Z"
   },
   {
    "duration": 19,
    "start_time": "2022-09-01T17:26:39.843Z"
   },
   {
    "duration": 8,
    "start_time": "2022-09-01T17:26:39.865Z"
   },
   {
    "duration": 51,
    "start_time": "2022-09-01T17:26:39.875Z"
   },
   {
    "duration": 20,
    "start_time": "2022-09-01T17:26:39.929Z"
   },
   {
    "duration": 69,
    "start_time": "2022-09-01T17:26:39.951Z"
   },
   {
    "duration": 139,
    "start_time": "2022-09-01T17:26:40.022Z"
   },
   {
    "duration": 12,
    "start_time": "2022-09-01T17:26:40.163Z"
   },
   {
    "duration": 180,
    "start_time": "2022-09-01T17:26:40.188Z"
   },
   {
    "duration": 3,
    "start_time": "2022-09-01T17:26:40.370Z"
   },
   {
    "duration": 109063,
    "start_time": "2022-09-01T17:26:40.375Z"
   },
   {
    "duration": 4,
    "start_time": "2022-09-01T17:28:29.440Z"
   },
   {
    "duration": 534,
    "start_time": "2022-09-01T17:28:29.446Z"
   },
   {
    "duration": 165,
    "start_time": "2022-09-01T17:28:29.982Z"
   },
   {
    "duration": 37625,
    "start_time": "2022-09-01T17:28:30.149Z"
   },
   {
    "duration": 243,
    "start_time": "2022-09-01T17:29:07.775Z"
   },
   {
    "duration": 26,
    "start_time": "2022-09-01T17:29:08.024Z"
   },
   {
    "duration": 302,
    "start_time": "2022-09-01T17:29:08.094Z"
   },
   {
    "duration": 17,
    "start_time": "2022-09-01T17:29:08.398Z"
   },
   {
    "duration": 39,
    "start_time": "2022-09-01T17:29:08.419Z"
   },
   {
    "duration": 107,
    "start_time": "2022-09-01T17:29:08.460Z"
   },
   {
    "duration": 544,
    "start_time": "2022-09-01T17:29:08.568Z"
   },
   {
    "duration": 19241,
    "start_time": "2022-09-01T17:29:09.114Z"
   },
   {
    "duration": 300,
    "start_time": "2022-09-01T17:29:28.357Z"
   },
   {
    "duration": 13,
    "start_time": "2022-09-01T17:29:28.660Z"
   },
   {
    "duration": 155,
    "start_time": "2022-09-01T17:29:28.688Z"
   },
   {
    "duration": 673,
    "start_time": "2022-09-01T17:29:28.845Z"
   },
   {
    "duration": 8564,
    "start_time": "2022-09-01T17:29:29.523Z"
   },
   {
    "duration": 328,
    "start_time": "2022-09-01T17:29:38.088Z"
   },
   {
    "duration": 274,
    "start_time": "2022-09-01T17:29:38.418Z"
   },
   {
    "duration": 47004,
    "start_time": "2022-09-01T17:32:02.503Z"
   },
   {
    "duration": 267,
    "start_time": "2022-09-01T17:33:30.678Z"
   },
   {
    "duration": 30,
    "start_time": "2022-09-01T17:34:06.937Z"
   },
   {
    "duration": 1454,
    "start_time": "2022-09-01T17:34:12.329Z"
   },
   {
    "duration": 98,
    "start_time": "2022-09-01T17:34:13.785Z"
   },
   {
    "duration": 23,
    "start_time": "2022-09-01T17:34:13.885Z"
   },
   {
    "duration": 33,
    "start_time": "2022-09-01T17:34:13.915Z"
   },
   {
    "duration": 5,
    "start_time": "2022-09-01T17:34:13.950Z"
   },
   {
    "duration": 46,
    "start_time": "2022-09-01T17:34:13.956Z"
   },
   {
    "duration": 17,
    "start_time": "2022-09-01T17:34:14.003Z"
   },
   {
    "duration": 59,
    "start_time": "2022-09-01T17:34:14.023Z"
   },
   {
    "duration": 151,
    "start_time": "2022-09-01T17:34:14.083Z"
   },
   {
    "duration": 11,
    "start_time": "2022-09-01T17:34:14.236Z"
   },
   {
    "duration": 182,
    "start_time": "2022-09-01T17:34:14.249Z"
   },
   {
    "duration": 2,
    "start_time": "2022-09-01T17:34:14.432Z"
   },
   {
    "duration": 113126,
    "start_time": "2022-09-01T17:34:14.437Z"
   },
   {
    "duration": 5,
    "start_time": "2022-09-01T17:36:07.566Z"
   },
   {
    "duration": 635,
    "start_time": "2022-09-01T17:36:07.573Z"
   },
   {
    "duration": 140,
    "start_time": "2022-09-01T17:36:08.210Z"
   },
   {
    "duration": 45166,
    "start_time": "2022-09-01T17:36:08.352Z"
   },
   {
    "duration": 207,
    "start_time": "2022-09-01T17:36:53.520Z"
   },
   {
    "duration": 21,
    "start_time": "2022-09-01T17:36:53.729Z"
   },
   {
    "duration": 338,
    "start_time": "2022-09-01T17:36:53.796Z"
   },
   {
    "duration": 7,
    "start_time": "2022-09-01T17:36:54.135Z"
   },
   {
    "duration": 19,
    "start_time": "2022-09-01T17:36:54.144Z"
   },
   {
    "duration": 106,
    "start_time": "2022-09-01T17:36:54.165Z"
   },
   {
    "duration": 533,
    "start_time": "2022-09-01T17:36:54.273Z"
   },
   {
    "duration": 19893,
    "start_time": "2022-09-01T17:36:54.811Z"
   },
   {
    "duration": 690,
    "start_time": "2022-09-01T17:37:14.711Z"
   },
   {
    "duration": 15,
    "start_time": "2022-09-01T17:37:15.403Z"
   },
   {
    "duration": 314,
    "start_time": "2022-09-01T17:37:15.421Z"
   },
   {
    "duration": 1254,
    "start_time": "2022-09-01T17:37:15.737Z"
   },
   {
    "duration": 8579,
    "start_time": "2022-09-01T17:37:16.993Z"
   },
   {
    "duration": 303,
    "start_time": "2022-09-01T17:37:25.573Z"
   },
   {
    "duration": 293,
    "start_time": "2022-09-01T17:37:25.878Z"
   },
   {
    "duration": 35492,
    "start_time": "2022-09-01T17:38:44.948Z"
   },
   {
    "duration": 227,
    "start_time": "2022-09-01T17:39:34.446Z"
   },
   {
    "duration": 4932,
    "start_time": "2022-09-01T17:40:07.696Z"
   },
   {
    "duration": 160,
    "start_time": "2022-09-01T17:41:32.564Z"
   },
   {
    "duration": 9744,
    "start_time": "2022-09-01T17:41:53.067Z"
   },
   {
    "duration": 11,
    "start_time": "2022-09-01T17:42:25.139Z"
   },
   {
    "duration": 155,
    "start_time": "2022-09-01T17:42:30.329Z"
   },
   {
    "duration": 110117,
    "start_time": "2022-09-01T17:42:40.119Z"
   },
   {
    "duration": 589,
    "start_time": "2022-09-01T17:45:10.946Z"
   },
   {
    "duration": 9433,
    "start_time": "2022-09-01T17:45:17.763Z"
   },
   {
    "duration": 143,
    "start_time": "2022-09-01T17:45:39.112Z"
   },
   {
    "duration": 50,
    "start_time": "2022-09-01T17:45:43.446Z"
   },
   {
    "duration": 371,
    "start_time": "2022-09-01T17:45:45.728Z"
   },
   {
    "duration": 1500,
    "start_time": "2022-09-01T17:45:56.013Z"
   },
   {
    "duration": 73,
    "start_time": "2022-09-01T17:45:57.519Z"
   },
   {
    "duration": 24,
    "start_time": "2022-09-01T17:45:57.597Z"
   },
   {
    "duration": 24,
    "start_time": "2022-09-01T17:45:57.626Z"
   },
   {
    "duration": 29,
    "start_time": "2022-09-01T17:45:57.652Z"
   },
   {
    "duration": 85,
    "start_time": "2022-09-01T17:45:57.682Z"
   },
   {
    "duration": 12,
    "start_time": "2022-09-01T17:45:57.769Z"
   },
   {
    "duration": 78,
    "start_time": "2022-09-01T17:45:57.782Z"
   },
   {
    "duration": 118,
    "start_time": "2022-09-01T17:45:57.862Z"
   },
   {
    "duration": 25,
    "start_time": "2022-09-01T17:45:57.982Z"
   },
   {
    "duration": 204,
    "start_time": "2022-09-01T17:45:58.008Z"
   },
   {
    "duration": 2,
    "start_time": "2022-09-01T17:45:58.214Z"
   },
   {
    "duration": 109192,
    "start_time": "2022-09-01T17:45:58.219Z"
   },
   {
    "duration": 10,
    "start_time": "2022-09-01T17:47:47.414Z"
   },
   {
    "duration": 1317,
    "start_time": "2022-09-01T17:47:47.425Z"
   },
   {
    "duration": 360,
    "start_time": "2022-09-01T17:47:48.743Z"
   },
   {
    "duration": 9321,
    "start_time": "2022-09-01T17:47:49.105Z"
   },
   {
    "duration": 139,
    "start_time": "2022-09-01T17:47:58.432Z"
   },
   {
    "duration": 40,
    "start_time": "2022-09-01T17:47:58.572Z"
   },
   {
    "duration": 333,
    "start_time": "2022-09-01T17:47:58.614Z"
   },
   {
    "duration": 7,
    "start_time": "2022-09-01T17:47:58.949Z"
   },
   {
    "duration": 18,
    "start_time": "2022-09-01T17:47:58.958Z"
   },
   {
    "duration": 105,
    "start_time": "2022-09-01T17:47:58.988Z"
   },
   {
    "duration": 531,
    "start_time": "2022-09-01T17:47:59.094Z"
   },
   {
    "duration": 20260,
    "start_time": "2022-09-01T17:47:59.629Z"
   },
   {
    "duration": 318,
    "start_time": "2022-09-01T17:48:19.891Z"
   },
   {
    "duration": 14,
    "start_time": "2022-09-01T17:48:20.211Z"
   },
   {
    "duration": 119,
    "start_time": "2022-09-01T17:48:20.227Z"
   },
   {
    "duration": 536,
    "start_time": "2022-09-01T17:48:20.348Z"
   },
   {
    "duration": 8678,
    "start_time": "2022-09-01T17:48:20.888Z"
   },
   {
    "duration": 309,
    "start_time": "2022-09-01T17:48:29.568Z"
   },
   {
    "duration": 275,
    "start_time": "2022-09-01T17:48:29.878Z"
   },
   {
    "duration": 5548,
    "start_time": "2022-09-01T17:52:32.723Z"
   },
   {
    "duration": 174,
    "start_time": "2022-09-01T17:53:00.377Z"
   },
   {
    "duration": 3278,
    "start_time": "2022-09-01T17:53:19.480Z"
   },
   {
    "duration": 176,
    "start_time": "2022-09-01T17:53:32.568Z"
   },
   {
    "duration": 4080,
    "start_time": "2022-09-01T17:53:49.553Z"
   },
   {
    "duration": 170,
    "start_time": "2022-09-01T17:54:03.926Z"
   },
   {
    "duration": 3029,
    "start_time": "2022-09-01T17:54:32.369Z"
   },
   {
    "duration": 3215,
    "start_time": "2022-09-01T17:54:38.342Z"
   },
   {
    "duration": 169,
    "start_time": "2022-09-01T17:54:47.916Z"
   },
   {
    "duration": 4475,
    "start_time": "2022-09-01T17:55:11.847Z"
   },
   {
    "duration": 167,
    "start_time": "2022-09-01T17:55:27.230Z"
   },
   {
    "duration": 1482,
    "start_time": "2022-09-02T06:12:27.089Z"
   },
   {
    "duration": 202,
    "start_time": "2022-09-02T06:12:28.574Z"
   },
   {
    "duration": 14,
    "start_time": "2022-09-02T06:12:28.778Z"
   },
   {
    "duration": 9,
    "start_time": "2022-09-02T06:12:28.794Z"
   },
   {
    "duration": 4,
    "start_time": "2022-09-02T06:12:28.805Z"
   },
   {
    "duration": 46,
    "start_time": "2022-09-02T06:12:28.810Z"
   },
   {
    "duration": 11,
    "start_time": "2022-09-02T06:12:28.858Z"
   },
   {
    "duration": 54,
    "start_time": "2022-09-02T06:12:28.872Z"
   },
   {
    "duration": 155,
    "start_time": "2022-09-02T06:12:28.929Z"
   },
   {
    "duration": 10,
    "start_time": "2022-09-02T06:12:29.086Z"
   },
   {
    "duration": 136,
    "start_time": "2022-09-02T06:12:29.098Z"
   },
   {
    "duration": 2,
    "start_time": "2022-09-02T06:12:29.235Z"
   },
   {
    "duration": 94222,
    "start_time": "2022-09-02T06:12:29.238Z"
   },
   {
    "duration": 4,
    "start_time": "2022-09-02T06:14:03.461Z"
   },
   {
    "duration": 533,
    "start_time": "2022-09-02T06:14:03.468Z"
   },
   {
    "duration": 143,
    "start_time": "2022-09-02T06:14:04.004Z"
   },
   {
    "duration": 4061,
    "start_time": "2022-09-02T06:14:04.148Z"
   },
   {
    "duration": 131,
    "start_time": "2022-09-02T06:14:08.211Z"
   },
   {
    "duration": 34,
    "start_time": "2022-09-02T06:14:08.344Z"
   },
   {
    "duration": 298,
    "start_time": "2022-09-02T06:14:08.380Z"
   },
   {
    "duration": 9,
    "start_time": "2022-09-02T06:14:08.680Z"
   },
   {
    "duration": 28,
    "start_time": "2022-09-02T06:14:08.692Z"
   },
   {
    "duration": 119,
    "start_time": "2022-09-02T06:14:08.722Z"
   },
   {
    "duration": 494,
    "start_time": "2022-09-02T06:14:08.843Z"
   },
   {
    "duration": 18068,
    "start_time": "2022-09-02T06:14:09.338Z"
   },
   {
    "duration": 327,
    "start_time": "2022-09-02T06:14:27.408Z"
   },
   {
    "duration": 26,
    "start_time": "2022-09-02T06:14:27.736Z"
   },
   {
    "duration": 104,
    "start_time": "2022-09-02T06:14:27.767Z"
   },
   {
    "duration": 470,
    "start_time": "2022-09-02T06:14:27.872Z"
   },
   {
    "duration": 7448,
    "start_time": "2022-09-02T06:14:28.344Z"
   },
   {
    "duration": 252,
    "start_time": "2022-09-02T06:14:35.794Z"
   },
   {
    "duration": 237,
    "start_time": "2022-09-02T06:14:36.048Z"
   },
   {
    "duration": 22559,
    "start_time": "2022-09-02T06:26:39.618Z"
   },
   {
    "duration": 21445,
    "start_time": "2022-09-02T06:27:16.385Z"
   },
   {
    "duration": 49824,
    "start_time": "2022-09-02T06:38:32.402Z"
   },
   {
    "duration": 10103,
    "start_time": "2022-09-02T06:39:32.229Z"
   },
   {
    "duration": 9820,
    "start_time": "2022-09-02T06:39:47.571Z"
   },
   {
    "duration": 11476,
    "start_time": "2022-09-02T06:40:03.265Z"
   },
   {
    "duration": 9151,
    "start_time": "2022-09-02T06:40:20.434Z"
   },
   {
    "duration": 10544,
    "start_time": "2022-09-02T06:40:33.044Z"
   },
   {
    "duration": 282053,
    "start_time": "2022-09-02T06:40:52.283Z"
   },
   {
    "duration": 138,
    "start_time": "2022-09-02T06:47:01.630Z"
   },
   {
    "duration": 10332,
    "start_time": "2022-09-02T06:47:21.655Z"
   },
   {
    "duration": 4898,
    "start_time": "2022-09-02T06:47:56.831Z"
   },
   {
    "duration": 3730,
    "start_time": "2022-09-02T06:48:05.632Z"
   },
   {
    "duration": 2084,
    "start_time": "2022-09-02T06:48:12.143Z"
   },
   {
    "duration": 2350,
    "start_time": "2022-09-02T06:48:19.390Z"
   },
   {
    "duration": 9853,
    "start_time": "2022-09-02T06:48:27.558Z"
   },
   {
    "duration": 8695,
    "start_time": "2022-09-02T06:48:44.350Z"
   },
   {
    "duration": 2489,
    "start_time": "2022-09-02T06:48:59.185Z"
   },
   {
    "duration": 163,
    "start_time": "2022-09-02T06:52:59.164Z"
   },
   {
    "duration": 1777,
    "start_time": "2022-09-02T06:53:10.539Z"
   },
   {
    "duration": 828,
    "start_time": "2022-09-02T06:53:17.534Z"
   },
   {
    "duration": 118,
    "start_time": "2022-09-02T06:53:33.731Z"
   },
   {
    "duration": 1772,
    "start_time": "2022-09-02T06:54:00.179Z"
   },
   {
    "duration": 997,
    "start_time": "2022-09-02T06:54:39.802Z"
   },
   {
    "duration": 21837,
    "start_time": "2022-09-02T06:54:53.125Z"
   },
   {
    "duration": 127,
    "start_time": "2022-09-02T06:55:27.644Z"
   },
   {
    "duration": 953,
    "start_time": "2022-09-02T06:55:46.036Z"
   },
   {
    "duration": 2361,
    "start_time": "2022-09-02T06:55:56.133Z"
   },
   {
    "duration": 4362,
    "start_time": "2022-09-02T06:56:01.523Z"
   },
   {
    "duration": 3671,
    "start_time": "2022-09-02T06:56:13.659Z"
   },
   {
    "duration": 167,
    "start_time": "2022-09-02T06:56:26.076Z"
   },
   {
    "duration": 2387,
    "start_time": "2022-09-02T06:56:37.036Z"
   },
   {
    "duration": 858,
    "start_time": "2022-09-02T06:56:43.636Z"
   },
   {
    "duration": 1298,
    "start_time": "2022-09-02T06:56:48.260Z"
   },
   {
    "duration": 121,
    "start_time": "2022-09-02T06:56:58.115Z"
   },
   {
    "duration": 1427,
    "start_time": "2022-09-02T06:57:10.428Z"
   },
   {
    "duration": 1976,
    "start_time": "2022-09-02T06:57:26.341Z"
   },
   {
    "duration": 2145,
    "start_time": "2022-09-02T06:57:34.715Z"
   },
   {
    "duration": 2403,
    "start_time": "2022-09-02T06:57:43.316Z"
   },
   {
    "duration": 2324,
    "start_time": "2022-09-02T06:57:50.707Z"
   },
   {
    "duration": 2217,
    "start_time": "2022-09-02T06:57:55.485Z"
   },
   {
    "duration": 3280,
    "start_time": "2022-09-02T06:58:00.837Z"
   },
   {
    "duration": 2737,
    "start_time": "2022-09-02T06:58:07.518Z"
   },
   {
    "duration": 3112,
    "start_time": "2022-09-02T06:58:13.476Z"
   },
   {
    "duration": 1039,
    "start_time": "2022-09-02T06:58:20.020Z"
   },
   {
    "duration": 240,
    "start_time": "2022-09-02T06:58:24.947Z"
   },
   {
    "duration": 2685,
    "start_time": "2022-09-02T06:58:28.260Z"
   },
   {
    "duration": 1028,
    "start_time": "2022-09-02T06:58:35.011Z"
   },
   {
    "duration": 2579,
    "start_time": "2022-09-02T06:58:44.740Z"
   },
   {
    "duration": 41764,
    "start_time": "2022-09-02T06:59:05.027Z"
   },
   {
    "duration": 43088,
    "start_time": "2022-09-02T07:04:04.105Z"
   },
   {
    "duration": 10961,
    "start_time": "2022-09-02T07:07:36.472Z"
   },
   {
    "duration": 10649,
    "start_time": "2022-09-02T07:07:56.328Z"
   },
   {
    "duration": 6561,
    "start_time": "2022-09-02T07:08:13.376Z"
   },
   {
    "duration": 7090,
    "start_time": "2022-09-02T07:08:30.145Z"
   },
   {
    "duration": 14162,
    "start_time": "2022-09-02T07:08:45.648Z"
   },
   {
    "duration": 6786,
    "start_time": "2022-09-02T07:09:05.480Z"
   },
   {
    "duration": 10606,
    "start_time": "2022-09-02T07:09:19.273Z"
   },
   {
    "duration": 11022,
    "start_time": "2022-09-02T07:09:38.310Z"
   },
   {
    "duration": 5001,
    "start_time": "2022-09-02T07:09:53.255Z"
   },
   {
    "duration": 11,
    "start_time": "2022-09-02T07:11:39.271Z"
   },
   {
    "duration": 4588,
    "start_time": "2022-09-02T07:11:51.638Z"
   },
   {
    "duration": 4727,
    "start_time": "2022-09-02T07:12:23.917Z"
   },
   {
    "duration": 4604,
    "start_time": "2022-09-02T07:12:50.790Z"
   },
   {
    "duration": 172,
    "start_time": "2022-09-02T07:12:58.988Z"
   },
   {
    "duration": 213,
    "start_time": "2022-09-02T07:13:05.116Z"
   },
   {
    "duration": 432,
    "start_time": "2022-09-02T07:14:02.493Z"
   },
   {
    "duration": 7183,
    "start_time": "2022-09-02T07:14:05.393Z"
   },
   {
    "duration": 17,
    "start_time": "2022-09-02T07:14:23.413Z"
   },
   {
    "duration": 1225,
    "start_time": "2022-09-02T07:14:29.213Z"
   },
   {
    "duration": 59,
    "start_time": "2022-09-02T07:14:30.440Z"
   },
   {
    "duration": 14,
    "start_time": "2022-09-02T07:14:30.500Z"
   },
   {
    "duration": 17,
    "start_time": "2022-09-02T07:14:30.515Z"
   },
   {
    "duration": 29,
    "start_time": "2022-09-02T07:14:30.535Z"
   },
   {
    "duration": 44,
    "start_time": "2022-09-02T07:14:30.566Z"
   },
   {
    "duration": 11,
    "start_time": "2022-09-02T07:14:30.612Z"
   },
   {
    "duration": 37,
    "start_time": "2022-09-02T07:14:30.625Z"
   },
   {
    "duration": 122,
    "start_time": "2022-09-02T07:14:30.663Z"
   },
   {
    "duration": 11,
    "start_time": "2022-09-02T07:14:30.787Z"
   },
   {
    "duration": 150,
    "start_time": "2022-09-02T07:14:30.799Z"
   },
   {
    "duration": 4,
    "start_time": "2022-09-02T07:14:30.951Z"
   },
   {
    "duration": 93555,
    "start_time": "2022-09-02T07:14:30.956Z"
   },
   {
    "duration": 3,
    "start_time": "2022-09-02T07:16:04.514Z"
   },
   {
    "duration": 503,
    "start_time": "2022-09-02T07:16:04.519Z"
   },
   {
    "duration": 119,
    "start_time": "2022-09-02T07:16:05.023Z"
   },
   {
    "duration": 4707,
    "start_time": "2022-09-02T07:16:05.144Z"
   },
   {
    "duration": 153,
    "start_time": "2022-09-02T07:16:09.855Z"
   },
   {
    "duration": 59,
    "start_time": "2022-09-02T07:16:10.011Z"
   },
   {
    "duration": 413,
    "start_time": "2022-09-02T07:16:10.072Z"
   },
   {
    "duration": 12,
    "start_time": "2022-09-02T07:16:10.487Z"
   },
   {
    "duration": 16,
    "start_time": "2022-09-02T07:16:10.500Z"
   },
   {
    "duration": 107,
    "start_time": "2022-09-02T07:16:10.517Z"
   },
   {
    "duration": 485,
    "start_time": "2022-09-02T07:16:10.626Z"
   },
   {
    "duration": 16992,
    "start_time": "2022-09-02T07:16:11.112Z"
   },
   {
    "duration": 325,
    "start_time": "2022-09-02T07:16:28.106Z"
   },
   {
    "duration": 26,
    "start_time": "2022-09-02T07:16:28.433Z"
   },
   {
    "duration": 104,
    "start_time": "2022-09-02T07:16:28.460Z"
   },
   {
    "duration": 452,
    "start_time": "2022-09-02T07:16:28.566Z"
   },
   {
    "duration": 7165,
    "start_time": "2022-09-02T07:16:29.019Z"
   },
   {
    "duration": 346,
    "start_time": "2022-09-02T07:16:36.185Z"
   },
   {
    "duration": 278,
    "start_time": "2022-09-02T07:16:36.533Z"
   },
   {
    "duration": 4672,
    "start_time": "2022-09-02T07:19:35.598Z"
   },
   {
    "duration": 4668,
    "start_time": "2022-09-02T07:19:42.040Z"
   },
   {
    "duration": 10,
    "start_time": "2022-09-02T07:20:20.181Z"
   },
   {
    "duration": 1250,
    "start_time": "2022-09-02T07:20:25.089Z"
   },
   {
    "duration": 58,
    "start_time": "2022-09-02T07:20:26.341Z"
   },
   {
    "duration": 16,
    "start_time": "2022-09-02T07:20:26.401Z"
   },
   {
    "duration": 11,
    "start_time": "2022-09-02T07:20:26.418Z"
   },
   {
    "duration": 4,
    "start_time": "2022-09-02T07:20:26.431Z"
   },
   {
    "duration": 41,
    "start_time": "2022-09-02T07:20:26.436Z"
   },
   {
    "duration": 8,
    "start_time": "2022-09-02T07:20:26.479Z"
   },
   {
    "duration": 36,
    "start_time": "2022-09-02T07:20:26.489Z"
   },
   {
    "duration": 118,
    "start_time": "2022-09-02T07:20:26.554Z"
   },
   {
    "duration": 12,
    "start_time": "2022-09-02T07:20:26.675Z"
   },
   {
    "duration": 168,
    "start_time": "2022-09-02T07:20:26.689Z"
   },
   {
    "duration": 3,
    "start_time": "2022-09-02T07:20:26.859Z"
   },
   {
    "duration": 92911,
    "start_time": "2022-09-02T07:20:26.865Z"
   },
   {
    "duration": 4,
    "start_time": "2022-09-02T07:21:59.778Z"
   },
   {
    "duration": 498,
    "start_time": "2022-09-02T07:21:59.784Z"
   },
   {
    "duration": 118,
    "start_time": "2022-09-02T07:22:00.283Z"
   },
   {
    "duration": 4688,
    "start_time": "2022-09-02T07:22:00.403Z"
   },
   {
    "duration": 147,
    "start_time": "2022-09-02T07:22:05.093Z"
   },
   {
    "duration": 213,
    "start_time": "2022-09-02T07:22:05.242Z"
   },
   {
    "duration": 305,
    "start_time": "2022-09-02T07:22:05.457Z"
   },
   {
    "duration": 7,
    "start_time": "2022-09-02T07:22:05.764Z"
   },
   {
    "duration": 23,
    "start_time": "2022-09-02T07:22:05.773Z"
   },
   {
    "duration": 99,
    "start_time": "2022-09-02T07:22:05.797Z"
   },
   {
    "duration": 455,
    "start_time": "2022-09-02T07:22:05.897Z"
   },
   {
    "duration": 17795,
    "start_time": "2022-09-02T07:22:06.355Z"
   },
   {
    "duration": 286,
    "start_time": "2022-09-02T07:22:24.154Z"
   },
   {
    "duration": 11,
    "start_time": "2022-09-02T07:22:24.454Z"
   },
   {
    "duration": 100,
    "start_time": "2022-09-02T07:22:24.469Z"
   },
   {
    "duration": 436,
    "start_time": "2022-09-02T07:22:24.570Z"
   },
   {
    "duration": 7763,
    "start_time": "2022-09-02T07:22:25.008Z"
   },
   {
    "duration": 359,
    "start_time": "2022-09-02T07:22:32.772Z"
   },
   {
    "duration": 157,
    "start_time": "2022-09-02T07:22:33.133Z"
   },
   {
    "duration": 104,
    "start_time": "2022-09-02T07:24:08.253Z"
   },
   {
    "duration": 11,
    "start_time": "2022-09-02T07:24:16.363Z"
   },
   {
    "duration": 8,
    "start_time": "2022-09-02T07:24:23.611Z"
   },
   {
    "duration": 20,
    "start_time": "2022-09-02T07:24:25.963Z"
   },
   {
    "duration": 20,
    "start_time": "2022-09-02T07:24:29.651Z"
   },
   {
    "duration": 12,
    "start_time": "2022-09-02T07:26:15.090Z"
   },
   {
    "duration": 4586,
    "start_time": "2022-09-02T07:26:32.186Z"
   },
   {
    "duration": 13,
    "start_time": "2022-09-02T07:27:49.506Z"
   },
   {
    "duration": 4487,
    "start_time": "2022-09-02T07:27:59.314Z"
   },
   {
    "duration": 9653,
    "start_time": "2022-09-02T07:28:09.819Z"
   },
   {
    "duration": 11888,
    "start_time": "2022-09-02T07:28:28.981Z"
   },
   {
    "duration": 7711,
    "start_time": "2022-09-02T07:28:53.554Z"
   },
   {
    "duration": 5989,
    "start_time": "2022-09-02T07:29:08.217Z"
   },
   {
    "duration": 4456,
    "start_time": "2022-09-02T07:29:32.059Z"
   },
   {
    "duration": 4456,
    "start_time": "2022-09-02T07:29:47.778Z"
   },
   {
    "duration": 3719,
    "start_time": "2022-09-02T07:29:56.562Z"
   },
   {
    "duration": 3201,
    "start_time": "2022-09-02T07:30:06.330Z"
   },
   {
    "duration": 5362,
    "start_time": "2022-09-02T07:30:15.882Z"
   },
   {
    "duration": 6070,
    "start_time": "2022-09-02T07:30:25.194Z"
   },
   {
    "duration": 11587,
    "start_time": "2022-09-02T07:30:39.482Z"
   },
   {
    "duration": 4142,
    "start_time": "2022-09-02T07:30:59.019Z"
   },
   {
    "duration": 5086,
    "start_time": "2022-09-02T07:31:06.427Z"
   },
   {
    "duration": 6194,
    "start_time": "2022-09-02T07:31:14.073Z"
   },
   {
    "duration": 8914,
    "start_time": "2022-09-02T07:31:27.945Z"
   },
   {
    "duration": 10797,
    "start_time": "2022-09-02T07:31:43.336Z"
   },
   {
    "duration": 8273,
    "start_time": "2022-09-02T07:32:01.129Z"
   },
   {
    "duration": 16546,
    "start_time": "2022-09-02T07:32:20.538Z"
   },
   {
    "duration": 22543,
    "start_time": "2022-09-02T07:32:41.473Z"
   },
   {
    "duration": 11259,
    "start_time": "2022-09-02T07:33:09.792Z"
   },
   {
    "duration": 9417,
    "start_time": "2022-09-02T07:33:25.266Z"
   },
   {
    "duration": 22028,
    "start_time": "2022-09-02T07:33:40.976Z"
   },
   {
    "duration": 47900,
    "start_time": "2022-09-02T07:34:07.215Z"
   },
   {
    "duration": 13361,
    "start_time": "2022-09-02T07:35:01.761Z"
   },
   {
    "duration": 10363,
    "start_time": "2022-09-02T07:35:19.872Z"
   },
   {
    "duration": 10036,
    "start_time": "2022-09-02T07:35:41.999Z"
   },
   {
    "duration": 192,
    "start_time": "2022-09-02T07:35:52.616Z"
   },
   {
    "duration": 1260,
    "start_time": "2022-09-02T07:39:06.393Z"
   },
   {
    "duration": 59,
    "start_time": "2022-09-02T07:39:07.655Z"
   },
   {
    "duration": 14,
    "start_time": "2022-09-02T07:39:07.715Z"
   },
   {
    "duration": 16,
    "start_time": "2022-09-02T07:39:07.730Z"
   },
   {
    "duration": 27,
    "start_time": "2022-09-02T07:39:07.748Z"
   },
   {
    "duration": 48,
    "start_time": "2022-09-02T07:39:07.776Z"
   },
   {
    "duration": 13,
    "start_time": "2022-09-02T07:39:07.826Z"
   },
   {
    "duration": 54,
    "start_time": "2022-09-02T07:39:07.840Z"
   },
   {
    "duration": 104,
    "start_time": "2022-09-02T07:39:07.896Z"
   },
   {
    "duration": 11,
    "start_time": "2022-09-02T07:39:08.001Z"
   },
   {
    "duration": 138,
    "start_time": "2022-09-02T07:39:08.014Z"
   },
   {
    "duration": 2,
    "start_time": "2022-09-02T07:39:08.154Z"
   },
   {
    "duration": 90778,
    "start_time": "2022-09-02T07:39:08.157Z"
   },
   {
    "duration": 4,
    "start_time": "2022-09-02T07:40:38.937Z"
   },
   {
    "duration": 478,
    "start_time": "2022-09-02T07:40:38.943Z"
   },
   {
    "duration": 110,
    "start_time": "2022-09-02T07:40:39.422Z"
   },
   {
    "duration": 10386,
    "start_time": "2022-09-02T07:40:39.534Z"
   },
   {
    "duration": 124,
    "start_time": "2022-09-02T07:40:49.921Z"
   },
   {
    "duration": 26,
    "start_time": "2022-09-02T07:40:50.047Z"
   },
   {
    "duration": 268,
    "start_time": "2022-09-02T07:40:50.075Z"
   },
   {
    "duration": 8,
    "start_time": "2022-09-02T07:40:50.355Z"
   },
   {
    "duration": 17,
    "start_time": "2022-09-02T07:40:50.365Z"
   },
   {
    "duration": 100,
    "start_time": "2022-09-02T07:40:50.384Z"
   },
   {
    "duration": 435,
    "start_time": "2022-09-02T07:40:50.486Z"
   },
   {
    "duration": 15640,
    "start_time": "2022-09-02T07:40:50.923Z"
   },
   {
    "duration": 372,
    "start_time": "2022-09-02T07:41:06.564Z"
   },
   {
    "duration": 19,
    "start_time": "2022-09-02T07:41:06.937Z"
   },
   {
    "duration": 104,
    "start_time": "2022-09-02T07:41:06.958Z"
   },
   {
    "duration": 476,
    "start_time": "2022-09-02T07:41:07.064Z"
   },
   {
    "duration": 6895,
    "start_time": "2022-09-02T07:41:07.542Z"
   },
   {
    "duration": 379,
    "start_time": "2022-09-02T07:41:14.438Z"
   },
   {
    "duration": 152,
    "start_time": "2022-09-02T07:41:14.819Z"
   },
   {
    "duration": 157,
    "start_time": "2022-09-02T07:43:26.474Z"
   },
   {
    "duration": 162,
    "start_time": "2022-09-02T07:43:34.530Z"
   },
   {
    "duration": 11,
    "start_time": "2022-09-02T07:43:55.282Z"
   },
   {
    "duration": 9871,
    "start_time": "2022-09-02T07:44:06.729Z"
   },
   {
    "duration": 164,
    "start_time": "2022-09-02T07:44:24.872Z"
   },
   {
    "duration": 217,
    "start_time": "2022-09-02T07:44:57.416Z"
   },
   {
    "duration": 162,
    "start_time": "2022-09-02T07:45:02.529Z"
   },
   {
    "duration": 1293,
    "start_time": "2022-09-02T07:45:15.855Z"
   },
   {
    "duration": 61,
    "start_time": "2022-09-02T07:45:17.149Z"
   },
   {
    "duration": 14,
    "start_time": "2022-09-02T07:45:17.212Z"
   },
   {
    "duration": 13,
    "start_time": "2022-09-02T07:45:17.228Z"
   },
   {
    "duration": 3,
    "start_time": "2022-09-02T07:45:17.244Z"
   },
   {
    "duration": 36,
    "start_time": "2022-09-02T07:45:17.249Z"
   },
   {
    "duration": 14,
    "start_time": "2022-09-02T07:45:17.287Z"
   },
   {
    "duration": 57,
    "start_time": "2022-09-02T07:45:17.303Z"
   },
   {
    "duration": 152,
    "start_time": "2022-09-02T07:45:17.362Z"
   },
   {
    "duration": 11,
    "start_time": "2022-09-02T07:45:17.515Z"
   },
   {
    "duration": 149,
    "start_time": "2022-09-02T07:45:17.528Z"
   },
   {
    "duration": 2,
    "start_time": "2022-09-02T07:45:17.679Z"
   },
   {
    "duration": 88464,
    "start_time": "2022-09-02T07:45:17.682Z"
   },
   {
    "duration": 6,
    "start_time": "2022-09-02T07:46:46.149Z"
   },
   {
    "duration": 481,
    "start_time": "2022-09-02T07:46:46.156Z"
   },
   {
    "duration": 123,
    "start_time": "2022-09-02T07:46:46.639Z"
   },
   {
    "duration": 9820,
    "start_time": "2022-09-02T07:46:46.763Z"
   },
   {
    "duration": 151,
    "start_time": "2022-09-02T07:46:56.585Z"
   },
   {
    "duration": 35,
    "start_time": "2022-09-02T07:46:56.738Z"
   },
   {
    "duration": 356,
    "start_time": "2022-09-02T07:46:56.776Z"
   },
   {
    "duration": 7,
    "start_time": "2022-09-02T07:46:57.133Z"
   },
   {
    "duration": 11,
    "start_time": "2022-09-02T07:46:57.155Z"
   },
   {
    "duration": 99,
    "start_time": "2022-09-02T07:46:57.168Z"
   },
   {
    "duration": 468,
    "start_time": "2022-09-02T07:46:57.268Z"
   },
   {
    "duration": 15544,
    "start_time": "2022-09-02T07:46:57.738Z"
   },
   {
    "duration": 350,
    "start_time": "2022-09-02T07:47:13.284Z"
   },
   {
    "duration": 23,
    "start_time": "2022-09-02T07:47:13.636Z"
   },
   {
    "duration": 95,
    "start_time": "2022-09-02T07:47:13.661Z"
   },
   {
    "duration": 421,
    "start_time": "2022-09-02T07:47:13.758Z"
   },
   {
    "duration": 6816,
    "start_time": "2022-09-02T07:47:14.181Z"
   },
   {
    "duration": 433,
    "start_time": "2022-09-02T07:47:20.998Z"
   },
   {
    "duration": 189,
    "start_time": "2022-09-02T07:47:21.433Z"
   },
   {
    "duration": 13,
    "start_time": "2022-09-02T07:48:35.964Z"
   },
   {
    "duration": 28,
    "start_time": "2022-09-02T07:48:48.500Z"
   },
   {
    "duration": 129,
    "start_time": "2022-09-02T07:48:52.796Z"
   },
   {
    "duration": 88981,
    "start_time": "2022-09-02T07:48:57.604Z"
   },
   {
    "duration": 9928,
    "start_time": "2022-09-02T07:50:42.312Z"
   },
   {
    "duration": 163,
    "start_time": "2022-09-02T07:51:07.145Z"
   },
   {
    "duration": 156,
    "start_time": "2022-09-02T07:51:09.923Z"
   },
   {
    "duration": 1219,
    "start_time": "2022-09-02T07:51:14.209Z"
   },
   {
    "duration": 57,
    "start_time": "2022-09-02T07:51:15.429Z"
   },
   {
    "duration": 13,
    "start_time": "2022-09-02T07:51:15.487Z"
   },
   {
    "duration": 9,
    "start_time": "2022-09-02T07:51:15.503Z"
   },
   {
    "duration": 4,
    "start_time": "2022-09-02T07:51:15.513Z"
   },
   {
    "duration": 46,
    "start_time": "2022-09-02T07:51:15.518Z"
   },
   {
    "duration": 13,
    "start_time": "2022-09-02T07:51:15.566Z"
   },
   {
    "duration": 26,
    "start_time": "2022-09-02T07:51:15.581Z"
   },
   {
    "duration": 129,
    "start_time": "2022-09-02T07:51:15.608Z"
   },
   {
    "duration": 17,
    "start_time": "2022-09-02T07:51:15.739Z"
   },
   {
    "duration": 130,
    "start_time": "2022-09-02T07:51:15.758Z"
   },
   {
    "duration": 2,
    "start_time": "2022-09-02T07:51:15.889Z"
   },
   {
    "duration": 89159,
    "start_time": "2022-09-02T07:51:15.892Z"
   },
   {
    "duration": 3,
    "start_time": "2022-09-02T07:52:45.055Z"
   },
   {
    "duration": 446,
    "start_time": "2022-09-02T07:52:45.060Z"
   },
   {
    "duration": 105,
    "start_time": "2022-09-02T07:52:45.508Z"
   },
   {
    "duration": 10906,
    "start_time": "2022-09-02T07:52:45.615Z"
   },
   {
    "duration": 154,
    "start_time": "2022-09-02T07:52:56.522Z"
   },
   {
    "duration": 177,
    "start_time": "2022-09-02T07:52:56.678Z"
   },
   {
    "duration": 273,
    "start_time": "2022-09-02T07:52:56.856Z"
   },
   {
    "duration": 7,
    "start_time": "2022-09-02T07:52:57.131Z"
   },
   {
    "duration": 23,
    "start_time": "2022-09-02T07:52:57.140Z"
   },
   {
    "duration": 96,
    "start_time": "2022-09-02T07:52:57.165Z"
   },
   {
    "duration": 483,
    "start_time": "2022-09-02T07:52:57.262Z"
   },
   {
    "duration": 15755,
    "start_time": "2022-09-02T07:52:57.754Z"
   },
   {
    "duration": 330,
    "start_time": "2022-09-02T07:53:13.510Z"
   },
   {
    "duration": 21,
    "start_time": "2022-09-02T07:53:13.841Z"
   },
   {
    "duration": 107,
    "start_time": "2022-09-02T07:53:13.866Z"
   },
   {
    "duration": 452,
    "start_time": "2022-09-02T07:53:13.975Z"
   },
   {
    "duration": 7200,
    "start_time": "2022-09-02T07:53:14.429Z"
   },
   {
    "duration": 384,
    "start_time": "2022-09-02T07:53:21.630Z"
   },
   {
    "duration": 181,
    "start_time": "2022-09-02T07:53:22.016Z"
   },
   {
    "duration": 105,
    "start_time": "2022-09-02T07:54:21.230Z"
   },
   {
    "duration": 63,
    "start_time": "2022-09-02T07:54:33.094Z"
   },
   {
    "duration": 17,
    "start_time": "2022-09-02T07:54:48.365Z"
   },
   {
    "duration": 182,
    "start_time": "2022-09-02T07:55:00.836Z"
   },
   {
    "duration": 1263,
    "start_time": "2022-09-02T07:55:08.191Z"
   },
   {
    "duration": 60,
    "start_time": "2022-09-02T07:55:09.456Z"
   },
   {
    "duration": 15,
    "start_time": "2022-09-02T07:55:09.518Z"
   },
   {
    "duration": 10,
    "start_time": "2022-09-02T07:55:09.534Z"
   },
   {
    "duration": 9,
    "start_time": "2022-09-02T07:55:09.545Z"
   },
   {
    "duration": 24,
    "start_time": "2022-09-02T07:55:09.556Z"
   },
   {
    "duration": 14,
    "start_time": "2022-09-02T07:55:09.581Z"
   },
   {
    "duration": 37,
    "start_time": "2022-09-02T07:55:09.597Z"
   },
   {
    "duration": 131,
    "start_time": "2022-09-02T07:55:09.635Z"
   },
   {
    "duration": 11,
    "start_time": "2022-09-02T07:55:09.768Z"
   },
   {
    "duration": 164,
    "start_time": "2022-09-02T07:55:09.780Z"
   },
   {
    "duration": 3,
    "start_time": "2022-09-02T07:55:09.946Z"
   },
   {
    "duration": 90760,
    "start_time": "2022-09-02T07:55:09.954Z"
   },
   {
    "duration": 4,
    "start_time": "2022-09-02T07:56:40.715Z"
   },
   {
    "duration": 445,
    "start_time": "2022-09-02T07:56:40.720Z"
   },
   {
    "duration": 118,
    "start_time": "2022-09-02T07:56:41.166Z"
   },
   {
    "duration": 9960,
    "start_time": "2022-09-02T07:56:41.286Z"
   },
   {
    "duration": 156,
    "start_time": "2022-09-02T07:56:51.247Z"
   },
   {
    "duration": 59,
    "start_time": "2022-09-02T07:56:51.404Z"
   },
   {
    "duration": 367,
    "start_time": "2022-09-02T07:56:51.464Z"
   },
   {
    "duration": 6,
    "start_time": "2022-09-02T07:56:51.833Z"
   },
   {
    "duration": 23,
    "start_time": "2022-09-02T07:56:51.840Z"
   },
   {
    "duration": 90,
    "start_time": "2022-09-02T07:56:51.865Z"
   },
   {
    "duration": 429,
    "start_time": "2022-09-02T07:56:51.956Z"
   },
   {
    "duration": 16771,
    "start_time": "2022-09-02T07:56:52.387Z"
   },
   {
    "duration": 275,
    "start_time": "2022-09-02T07:57:09.159Z"
   },
   {
    "duration": 25,
    "start_time": "2022-09-02T07:57:09.436Z"
   },
   {
    "duration": 100,
    "start_time": "2022-09-02T07:57:09.465Z"
   },
   {
    "duration": 431,
    "start_time": "2022-09-02T07:57:09.567Z"
   },
   {
    "duration": 6933,
    "start_time": "2022-09-02T07:57:10.000Z"
   },
   {
    "duration": 296,
    "start_time": "2022-09-02T07:57:16.935Z"
   },
   {
    "duration": 311,
    "start_time": "2022-09-02T07:57:17.233Z"
   },
   {
    "duration": 18,
    "start_time": "2022-09-02T07:58:05.197Z"
   },
   {
    "duration": 1314,
    "start_time": "2022-09-02T07:58:12.826Z"
   },
   {
    "duration": 62,
    "start_time": "2022-09-02T07:58:14.142Z"
   },
   {
    "duration": 14,
    "start_time": "2022-09-02T07:58:14.205Z"
   },
   {
    "duration": 791,
    "start_time": "2022-09-02T07:58:14.221Z"
   },
   {
    "duration": 3,
    "start_time": "2022-09-02T07:58:15.014Z"
   },
   {
    "duration": 56,
    "start_time": "2022-09-02T07:58:15.018Z"
   },
   {
    "duration": 15,
    "start_time": "2022-09-02T07:58:15.075Z"
   },
   {
    "duration": 32,
    "start_time": "2022-09-02T07:58:15.091Z"
   },
   {
    "duration": 123,
    "start_time": "2022-09-02T07:58:15.124Z"
   },
   {
    "duration": 11,
    "start_time": "2022-09-02T07:58:15.255Z"
   },
   {
    "duration": 143,
    "start_time": "2022-09-02T07:58:15.268Z"
   },
   {
    "duration": 3,
    "start_time": "2022-09-02T07:58:15.412Z"
   },
   {
    "duration": 90860,
    "start_time": "2022-09-02T07:58:15.416Z"
   },
   {
    "duration": 4,
    "start_time": "2022-09-02T07:59:46.278Z"
   },
   {
    "duration": 489,
    "start_time": "2022-09-02T07:59:46.284Z"
   },
   {
    "duration": 124,
    "start_time": "2022-09-02T07:59:46.775Z"
   },
   {
    "duration": 10028,
    "start_time": "2022-09-02T07:59:46.901Z"
   },
   {
    "duration": 158,
    "start_time": "2022-09-02T07:59:56.931Z"
   },
   {
    "duration": 68,
    "start_time": "2022-09-02T07:59:57.090Z"
   },
   {
    "duration": 375,
    "start_time": "2022-09-02T07:59:57.159Z"
   },
   {
    "duration": 8,
    "start_time": "2022-09-02T07:59:57.536Z"
   },
   {
    "duration": 20,
    "start_time": "2022-09-02T07:59:57.554Z"
   },
   {
    "duration": 112,
    "start_time": "2022-09-02T07:59:57.575Z"
   },
   {
    "duration": 442,
    "start_time": "2022-09-02T07:59:57.689Z"
   },
   {
    "duration": 16280,
    "start_time": "2022-09-02T07:59:58.133Z"
   },
   {
    "duration": 317,
    "start_time": "2022-09-02T08:00:14.415Z"
   },
   {
    "duration": 25,
    "start_time": "2022-09-02T08:00:14.734Z"
   },
   {
    "duration": 94,
    "start_time": "2022-09-02T08:00:14.763Z"
   },
   {
    "duration": 455,
    "start_time": "2022-09-02T08:00:14.859Z"
   },
   {
    "duration": 7204,
    "start_time": "2022-09-02T08:00:15.315Z"
   },
   {
    "duration": 392,
    "start_time": "2022-09-02T08:00:22.521Z"
   },
   {
    "duration": 172,
    "start_time": "2022-09-02T08:00:22.915Z"
   },
   {
    "duration": 13,
    "start_time": "2022-09-02T08:01:46.292Z"
   },
   {
    "duration": 1332,
    "start_time": "2022-09-02T08:02:01.775Z"
   },
   {
    "duration": 59,
    "start_time": "2022-09-02T08:02:03.109Z"
   },
   {
    "duration": 13,
    "start_time": "2022-09-02T08:02:03.170Z"
   },
   {
    "duration": 784,
    "start_time": "2022-09-02T08:02:03.185Z"
   },
   {
    "duration": 3,
    "start_time": "2022-09-02T08:02:03.971Z"
   },
   {
    "duration": 29,
    "start_time": "2022-09-02T08:02:03.975Z"
   },
   {
    "duration": 16,
    "start_time": "2022-09-02T08:02:04.005Z"
   },
   {
    "duration": 49,
    "start_time": "2022-09-02T08:02:04.022Z"
   },
   {
    "duration": 113,
    "start_time": "2022-09-02T08:02:04.073Z"
   },
   {
    "duration": 11,
    "start_time": "2022-09-02T08:02:04.188Z"
   },
   {
    "duration": 148,
    "start_time": "2022-09-02T08:02:04.200Z"
   },
   {
    "duration": 6,
    "start_time": "2022-09-02T08:02:04.350Z"
   },
   {
    "duration": 92283,
    "start_time": "2022-09-02T08:02:04.357Z"
   },
   {
    "duration": 4,
    "start_time": "2022-09-02T08:03:36.641Z"
   },
   {
    "duration": 485,
    "start_time": "2022-09-02T08:03:36.646Z"
   },
   {
    "duration": 110,
    "start_time": "2022-09-02T08:03:37.133Z"
   },
   {
    "duration": 10050,
    "start_time": "2022-09-02T08:03:37.244Z"
   },
   {
    "duration": 184,
    "start_time": "2022-09-02T08:03:47.296Z"
   },
   {
    "duration": 22,
    "start_time": "2022-09-02T08:03:47.483Z"
   },
   {
    "duration": 331,
    "start_time": "2022-09-02T08:03:47.507Z"
   },
   {
    "duration": 17,
    "start_time": "2022-09-02T08:03:47.840Z"
   },
   {
    "duration": 14,
    "start_time": "2022-09-02T08:03:47.858Z"
   },
   {
    "duration": 99,
    "start_time": "2022-09-02T08:03:47.873Z"
   },
   {
    "duration": 451,
    "start_time": "2022-09-02T08:03:47.974Z"
   },
   {
    "duration": 16866,
    "start_time": "2022-09-02T08:03:48.426Z"
   },
   {
    "duration": 285,
    "start_time": "2022-09-02T08:04:05.293Z"
   },
   {
    "duration": 10,
    "start_time": "2022-09-02T08:04:05.580Z"
   },
   {
    "duration": 108,
    "start_time": "2022-09-02T08:04:05.593Z"
   },
   {
    "duration": 439,
    "start_time": "2022-09-02T08:04:05.702Z"
   },
   {
    "duration": 9485,
    "start_time": "2022-09-02T08:04:06.143Z"
   },
   {
    "duration": 391,
    "start_time": "2022-09-02T08:04:15.629Z"
   },
   {
    "duration": 193,
    "start_time": "2022-09-02T08:04:16.021Z"
   },
   {
    "duration": 4,
    "start_time": "2022-09-02T08:05:18.676Z"
   },
   {
    "duration": 12,
    "start_time": "2022-09-02T08:05:21.492Z"
   },
   {
    "duration": 32,
    "start_time": "2022-09-02T08:05:53.582Z"
   },
   {
    "duration": 34,
    "start_time": "2022-09-02T08:06:13.109Z"
   },
   {
    "duration": 41,
    "start_time": "2022-09-02T08:06:20.117Z"
   },
   {
    "duration": 1270,
    "start_time": "2022-09-02T08:06:41.683Z"
   },
   {
    "duration": 67,
    "start_time": "2022-09-02T08:06:42.955Z"
   },
   {
    "duration": 14,
    "start_time": "2022-09-02T08:06:43.025Z"
   },
   {
    "duration": 9,
    "start_time": "2022-09-02T08:06:43.041Z"
   },
   {
    "duration": 4,
    "start_time": "2022-09-02T08:06:43.051Z"
   },
   {
    "duration": 26,
    "start_time": "2022-09-02T08:06:43.056Z"
   },
   {
    "duration": 13,
    "start_time": "2022-09-02T08:06:43.083Z"
   },
   {
    "duration": 59,
    "start_time": "2022-09-02T08:06:43.097Z"
   },
   {
    "duration": 115,
    "start_time": "2022-09-02T08:06:43.158Z"
   },
   {
    "duration": 11,
    "start_time": "2022-09-02T08:06:43.274Z"
   },
   {
    "duration": 139,
    "start_time": "2022-09-02T08:06:43.286Z"
   },
   {
    "duration": 2,
    "start_time": "2022-09-02T08:06:43.427Z"
   },
   {
    "duration": 91039,
    "start_time": "2022-09-02T08:06:43.431Z"
   },
   {
    "duration": 4,
    "start_time": "2022-09-02T08:08:14.471Z"
   },
   {
    "duration": 459,
    "start_time": "2022-09-02T08:08:14.477Z"
   },
   {
    "duration": 118,
    "start_time": "2022-09-02T08:08:14.938Z"
   },
   {
    "duration": 9962,
    "start_time": "2022-09-02T08:08:15.058Z"
   },
   {
    "duration": 140,
    "start_time": "2022-09-02T08:08:25.021Z"
   },
   {
    "duration": 19,
    "start_time": "2022-09-02T08:08:25.162Z"
   },
   {
    "duration": 345,
    "start_time": "2022-09-02T08:08:25.183Z"
   },
   {
    "duration": 7,
    "start_time": "2022-09-02T08:08:25.530Z"
   },
   {
    "duration": 29,
    "start_time": "2022-09-02T08:08:25.538Z"
   },
   {
    "duration": 95,
    "start_time": "2022-09-02T08:08:25.569Z"
   },
   {
    "duration": 437,
    "start_time": "2022-09-02T08:08:25.666Z"
   },
   {
    "duration": 15859,
    "start_time": "2022-09-02T08:08:26.105Z"
   },
   {
    "duration": 290,
    "start_time": "2022-09-02T08:08:41.965Z"
   },
   {
    "duration": 9,
    "start_time": "2022-09-02T08:08:42.256Z"
   },
   {
    "duration": 105,
    "start_time": "2022-09-02T08:08:42.266Z"
   },
   {
    "duration": 455,
    "start_time": "2022-09-02T08:08:42.373Z"
   },
   {
    "duration": 7083,
    "start_time": "2022-09-02T08:08:42.830Z"
   },
   {
    "duration": 416,
    "start_time": "2022-09-02T08:08:49.915Z"
   },
   {
    "duration": 186,
    "start_time": "2022-09-02T08:08:50.332Z"
   },
   {
    "duration": 8462,
    "start_time": "2022-09-02T08:11:20.566Z"
   },
   {
    "duration": 11700,
    "start_time": "2022-09-02T08:11:54.534Z"
   },
   {
    "duration": 203,
    "start_time": "2022-09-02T08:12:21.805Z"
   },
   {
    "duration": 4782,
    "start_time": "2022-09-02T08:12:36.279Z"
   },
   {
    "duration": 157,
    "start_time": "2022-09-02T08:12:52.341Z"
   },
   {
    "duration": 51,
    "start_time": "2022-09-02T08:13:04.198Z"
   },
   {
    "duration": 4950,
    "start_time": "2022-09-02T08:13:20.629Z"
   },
   {
    "duration": 4866,
    "start_time": "2022-09-02T08:13:33.798Z"
   },
   {
    "duration": 10072,
    "start_time": "2022-09-02T08:13:40.987Z"
   },
   {
    "duration": 15496,
    "start_time": "2022-09-02T08:13:57.637Z"
   },
   {
    "duration": 11978,
    "start_time": "2022-09-02T08:14:18.715Z"
   },
   {
    "duration": 161491,
    "start_time": "2022-09-02T08:14:38.683Z"
   },
   {
    "duration": 22945,
    "start_time": "2022-09-02T09:06:24.125Z"
   },
   {
    "duration": 32147,
    "start_time": "2022-09-02T09:07:00.676Z"
   },
   {
    "duration": 22610,
    "start_time": "2022-09-02T09:07:40.377Z"
   },
   {
    "duration": 1314,
    "start_time": "2022-09-02T09:08:18.165Z"
   },
   {
    "duration": 72,
    "start_time": "2022-09-02T09:08:19.482Z"
   },
   {
    "duration": 14,
    "start_time": "2022-09-02T09:08:19.556Z"
   },
   {
    "duration": 10,
    "start_time": "2022-09-02T09:08:19.572Z"
   },
   {
    "duration": 13,
    "start_time": "2022-09-02T09:08:19.584Z"
   },
   {
    "duration": 31,
    "start_time": "2022-09-02T09:08:19.598Z"
   },
   {
    "duration": 25,
    "start_time": "2022-09-02T09:08:19.631Z"
   },
   {
    "duration": 50,
    "start_time": "2022-09-02T09:08:19.658Z"
   },
   {
    "duration": 128,
    "start_time": "2022-09-02T09:08:19.709Z"
   },
   {
    "duration": 22,
    "start_time": "2022-09-02T09:08:19.839Z"
   },
   {
    "duration": 144,
    "start_time": "2022-09-02T09:08:19.863Z"
   },
   {
    "duration": 3,
    "start_time": "2022-09-02T09:08:20.008Z"
   },
   {
    "duration": 90610,
    "start_time": "2022-09-02T09:08:20.012Z"
   },
   {
    "duration": 4,
    "start_time": "2022-09-02T09:09:50.624Z"
   },
   {
    "duration": 496,
    "start_time": "2022-09-02T09:09:50.629Z"
   },
   {
    "duration": 152,
    "start_time": "2022-09-02T09:09:51.126Z"
   },
   {
    "duration": 22274,
    "start_time": "2022-09-02T09:09:51.280Z"
   },
   {
    "duration": 161,
    "start_time": "2022-09-02T09:10:13.555Z"
   },
   {
    "duration": 41,
    "start_time": "2022-09-02T09:10:13.717Z"
   },
   {
    "duration": 294,
    "start_time": "2022-09-02T09:10:13.762Z"
   },
   {
    "duration": 7,
    "start_time": "2022-09-02T09:10:14.058Z"
   },
   {
    "duration": 18,
    "start_time": "2022-09-02T09:10:14.066Z"
   },
   {
    "duration": 110,
    "start_time": "2022-09-02T09:10:14.085Z"
   },
   {
    "duration": 441,
    "start_time": "2022-09-02T09:10:14.197Z"
   },
   {
    "duration": 16064,
    "start_time": "2022-09-02T09:10:14.639Z"
   },
   {
    "duration": 339,
    "start_time": "2022-09-02T09:10:30.705Z"
   },
   {
    "duration": 17,
    "start_time": "2022-09-02T09:10:31.046Z"
   },
   {
    "duration": 99,
    "start_time": "2022-09-02T09:10:31.065Z"
   },
   {
    "duration": 448,
    "start_time": "2022-09-02T09:10:31.165Z"
   },
   {
    "duration": 7040,
    "start_time": "2022-09-02T09:10:31.615Z"
   },
   {
    "duration": 366,
    "start_time": "2022-09-02T09:10:38.656Z"
   },
   {
    "duration": 209,
    "start_time": "2022-09-02T09:10:39.023Z"
   },
   {
    "duration": 16034,
    "start_time": "2022-09-02T09:14:36.530Z"
   },
   {
    "duration": 368,
    "start_time": "2022-09-02T09:14:52.566Z"
   },
   {
    "duration": 91683,
    "start_time": "2022-09-02T09:34:43.642Z"
   },
   {
    "duration": 90653,
    "start_time": "2022-09-02T09:36:37.131Z"
   },
   {
    "duration": 91953,
    "start_time": "2022-09-02T09:38:50.404Z"
   },
   {
    "duration": 91322,
    "start_time": "2022-09-02T09:41:05.920Z"
   },
   {
    "duration": 92222,
    "start_time": "2022-09-02T09:43:41.422Z"
   },
   {
    "duration": 5,
    "start_time": "2022-09-02T09:45:42.613Z"
   },
   {
    "duration": 16,
    "start_time": "2022-09-02T09:49:34.341Z"
   },
   {
    "duration": 1288,
    "start_time": "2022-09-02T09:50:03.366Z"
   },
   {
    "duration": 64,
    "start_time": "2022-09-02T09:50:04.656Z"
   },
   {
    "duration": 13,
    "start_time": "2022-09-02T09:50:04.722Z"
   },
   {
    "duration": 13,
    "start_time": "2022-09-02T09:50:04.737Z"
   },
   {
    "duration": 4,
    "start_time": "2022-09-02T09:50:04.751Z"
   },
   {
    "duration": 36,
    "start_time": "2022-09-02T09:50:04.757Z"
   },
   {
    "duration": 17,
    "start_time": "2022-09-02T09:50:04.795Z"
   },
   {
    "duration": 63,
    "start_time": "2022-09-02T09:50:04.814Z"
   },
   {
    "duration": 127,
    "start_time": "2022-09-02T09:50:04.879Z"
   },
   {
    "duration": 11,
    "start_time": "2022-09-02T09:50:05.009Z"
   },
   {
    "duration": 149,
    "start_time": "2022-09-02T09:50:05.022Z"
   },
   {
    "duration": 5,
    "start_time": "2022-09-02T09:50:05.173Z"
   },
   {
    "duration": 94066,
    "start_time": "2022-09-02T09:50:05.179Z"
   },
   {
    "duration": 10,
    "start_time": "2022-09-02T09:51:39.246Z"
   },
   {
    "duration": 464,
    "start_time": "2022-09-02T09:51:39.258Z"
   },
   {
    "duration": 112,
    "start_time": "2022-09-02T09:51:39.724Z"
   },
   {
    "duration": 22833,
    "start_time": "2022-09-02T09:51:39.838Z"
   },
   {
    "duration": 172,
    "start_time": "2022-09-02T09:52:02.673Z"
   },
   {
    "duration": 33,
    "start_time": "2022-09-02T09:52:02.847Z"
   },
   {
    "duration": 401,
    "start_time": "2022-09-02T09:52:02.955Z"
   },
   {
    "duration": 8,
    "start_time": "2022-09-02T09:52:03.357Z"
   },
   {
    "duration": 22,
    "start_time": "2022-09-02T09:52:03.367Z"
   },
   {
    "duration": 108,
    "start_time": "2022-09-02T09:52:03.391Z"
   },
   {
    "duration": 454,
    "start_time": "2022-09-02T09:52:03.501Z"
   },
   {
    "duration": 16452,
    "start_time": "2022-09-02T09:52:03.957Z"
   },
   {
    "duration": 323,
    "start_time": "2022-09-02T09:52:20.410Z"
   },
   {
    "duration": 21,
    "start_time": "2022-09-02T09:52:20.735Z"
   },
   {
    "duration": 106,
    "start_time": "2022-09-02T09:52:20.759Z"
   },
   {
    "duration": 484,
    "start_time": "2022-09-02T09:52:20.866Z"
   },
   {
    "duration": 7001,
    "start_time": "2022-09-02T09:52:21.354Z"
   },
   {
    "duration": 362,
    "start_time": "2022-09-02T09:52:28.357Z"
   },
   {
    "duration": 215,
    "start_time": "2022-09-02T09:52:28.720Z"
   },
   {
    "duration": 121,
    "start_time": "2022-09-02T09:53:26.285Z"
   },
   {
    "duration": 221,
    "start_time": "2022-09-02T11:59:29.423Z"
   },
   {
    "duration": 16,
    "start_time": "2022-09-02T12:00:16.301Z"
   },
   {
    "duration": 199,
    "start_time": "2022-09-02T12:05:52.758Z"
   },
   {
    "duration": 19,
    "start_time": "2022-09-02T12:06:06.436Z"
   },
   {
    "duration": 102,
    "start_time": "2022-09-02T12:06:35.670Z"
   },
   {
    "duration": 101,
    "start_time": "2022-09-02T12:06:43.325Z"
   },
   {
    "duration": 17,
    "start_time": "2022-09-02T12:07:20.477Z"
   },
   {
    "duration": 9,
    "start_time": "2022-09-02T12:07:46.333Z"
   },
   {
    "duration": 19,
    "start_time": "2022-09-02T12:07:54.540Z"
   },
   {
    "duration": 1223,
    "start_time": "2022-09-02T12:08:14.173Z"
   },
   {
    "duration": 1425,
    "start_time": "2022-09-02T12:08:17.022Z"
   },
   {
    "duration": 16,
    "start_time": "2022-09-02T12:08:26.572Z"
   },
   {
    "duration": 10,
    "start_time": "2022-09-02T12:08:37.484Z"
   },
   {
    "duration": 20,
    "start_time": "2022-09-02T12:08:47.668Z"
   },
   {
    "duration": 21,
    "start_time": "2022-09-02T12:08:52.427Z"
   },
   {
    "duration": 9,
    "start_time": "2022-09-02T12:09:54.772Z"
   },
   {
    "duration": 25,
    "start_time": "2022-09-02T12:10:01.588Z"
   },
   {
    "duration": 17,
    "start_time": "2022-09-02T12:10:06.803Z"
   },
   {
    "duration": 85,
    "start_time": "2022-09-02T12:10:13.821Z"
   },
   {
    "duration": 20,
    "start_time": "2022-09-02T12:10:17.196Z"
   },
   {
    "duration": 17,
    "start_time": "2022-09-02T12:10:22.892Z"
   },
   {
    "duration": 17,
    "start_time": "2022-09-02T12:10:31.122Z"
   },
   {
    "duration": 23,
    "start_time": "2022-09-02T12:10:49.643Z"
   },
   {
    "duration": 22,
    "start_time": "2022-09-02T12:11:12.499Z"
   },
   {
    "duration": 190,
    "start_time": "2022-09-02T12:11:18.739Z"
   },
   {
    "duration": 180,
    "start_time": "2022-09-02T12:12:00.971Z"
   },
   {
    "duration": 84,
    "start_time": "2022-09-02T12:15:09.602Z"
   },
   {
    "duration": 4313,
    "start_time": "2022-09-02T12:31:19.134Z"
   },
   {
    "duration": 0,
    "start_time": "2022-09-02T12:31:23.450Z"
   },
   {
    "duration": 0,
    "start_time": "2022-09-02T12:31:23.451Z"
   },
   {
    "duration": 0,
    "start_time": "2022-09-02T12:31:23.452Z"
   },
   {
    "duration": 0,
    "start_time": "2022-09-02T12:31:23.453Z"
   },
   {
    "duration": 0,
    "start_time": "2022-09-02T12:31:23.455Z"
   },
   {
    "duration": 0,
    "start_time": "2022-09-02T12:31:23.456Z"
   },
   {
    "duration": 0,
    "start_time": "2022-09-02T12:31:23.457Z"
   },
   {
    "duration": 0,
    "start_time": "2022-09-02T12:31:23.458Z"
   },
   {
    "duration": 0,
    "start_time": "2022-09-02T12:31:23.460Z"
   },
   {
    "duration": 0,
    "start_time": "2022-09-02T12:31:23.461Z"
   },
   {
    "duration": 0,
    "start_time": "2022-09-02T12:31:23.462Z"
   },
   {
    "duration": 0,
    "start_time": "2022-09-02T12:31:23.463Z"
   },
   {
    "duration": 0,
    "start_time": "2022-09-02T12:31:23.465Z"
   },
   {
    "duration": 0,
    "start_time": "2022-09-02T12:31:23.466Z"
   },
   {
    "duration": 0,
    "start_time": "2022-09-02T12:31:23.467Z"
   },
   {
    "duration": 0,
    "start_time": "2022-09-02T12:31:23.469Z"
   },
   {
    "duration": 0,
    "start_time": "2022-09-02T12:31:23.470Z"
   },
   {
    "duration": 0,
    "start_time": "2022-09-02T12:31:23.471Z"
   },
   {
    "duration": 0,
    "start_time": "2022-09-02T12:31:23.506Z"
   },
   {
    "duration": 0,
    "start_time": "2022-09-02T12:31:23.508Z"
   },
   {
    "duration": 0,
    "start_time": "2022-09-02T12:31:23.509Z"
   },
   {
    "duration": 0,
    "start_time": "2022-09-02T12:31:23.510Z"
   },
   {
    "duration": 0,
    "start_time": "2022-09-02T12:31:23.512Z"
   },
   {
    "duration": 0,
    "start_time": "2022-09-02T12:31:23.512Z"
   },
   {
    "duration": 0,
    "start_time": "2022-09-02T12:31:23.514Z"
   },
   {
    "duration": 0,
    "start_time": "2022-09-02T12:31:23.515Z"
   },
   {
    "duration": 0,
    "start_time": "2022-09-02T12:31:23.515Z"
   },
   {
    "duration": 0,
    "start_time": "2022-09-02T12:31:23.516Z"
   },
   {
    "duration": 0,
    "start_time": "2022-09-02T12:31:23.517Z"
   },
   {
    "duration": 0,
    "start_time": "2022-09-02T12:31:23.518Z"
   },
   {
    "duration": 1,
    "start_time": "2022-09-02T12:31:23.519Z"
   },
   {
    "duration": 0,
    "start_time": "2022-09-02T12:31:23.520Z"
   },
   {
    "duration": 1636,
    "start_time": "2022-09-02T12:31:31.336Z"
   },
   {
    "duration": 184,
    "start_time": "2022-09-02T12:31:32.973Z"
   },
   {
    "duration": 19,
    "start_time": "2022-09-02T12:31:33.159Z"
   },
   {
    "duration": 16,
    "start_time": "2022-09-02T12:31:33.180Z"
   },
   {
    "duration": 937,
    "start_time": "2022-09-02T12:31:35.318Z"
   },
   {
    "duration": 116,
    "start_time": "2022-09-02T12:31:40.816Z"
   },
   {
    "duration": 134,
    "start_time": "2022-09-02T12:31:46.786Z"
   },
   {
    "duration": 314,
    "start_time": "2022-09-02T12:31:49.144Z"
   },
   {
    "duration": 126,
    "start_time": "2022-09-02T12:31:51.080Z"
   },
   {
    "duration": 167,
    "start_time": "2022-09-02T12:31:54.623Z"
   },
   {
    "duration": 101,
    "start_time": "2022-09-02T12:31:57.338Z"
   },
   {
    "duration": 130,
    "start_time": "2022-09-02T12:32:00.580Z"
   },
   {
    "duration": 4,
    "start_time": "2022-09-02T12:32:02.164Z"
   },
   {
    "duration": 105,
    "start_time": "2022-09-02T12:32:05.385Z"
   },
   {
    "duration": 4,
    "start_time": "2022-09-02T12:35:42.381Z"
   },
   {
    "duration": 102,
    "start_time": "2022-09-02T12:35:42.388Z"
   },
   {
    "duration": 36,
    "start_time": "2022-09-02T12:35:42.492Z"
   },
   {
    "duration": 142,
    "start_time": "2022-09-02T12:35:42.530Z"
   },
   {
    "duration": 5,
    "start_time": "2022-09-02T12:35:42.674Z"
   },
   {
    "duration": 48,
    "start_time": "2022-09-02T12:35:42.681Z"
   },
   {
    "duration": 26,
    "start_time": "2022-09-02T12:35:42.731Z"
   },
   {
    "duration": 97,
    "start_time": "2022-09-02T12:35:42.759Z"
   },
   {
    "duration": 209,
    "start_time": "2022-09-02T12:35:42.858Z"
   },
   {
    "duration": 18,
    "start_time": "2022-09-02T12:35:43.069Z"
   },
   {
    "duration": 256,
    "start_time": "2022-09-02T12:35:43.108Z"
   },
   {
    "duration": 7,
    "start_time": "2022-09-02T12:35:43.367Z"
   },
   {
    "duration": 100654,
    "start_time": "2022-09-02T12:35:43.377Z"
   },
   {
    "duration": 6,
    "start_time": "2022-09-02T12:37:24.033Z"
   },
   {
    "duration": 504,
    "start_time": "2022-09-02T12:37:24.041Z"
   },
   {
    "duration": 123,
    "start_time": "2022-09-02T12:37:24.546Z"
   },
   {
    "duration": 25158,
    "start_time": "2022-09-02T12:37:24.671Z"
   },
   {
    "duration": 171,
    "start_time": "2022-09-02T12:37:49.831Z"
   },
   {
    "duration": 23,
    "start_time": "2022-09-02T12:37:50.003Z"
   },
   {
    "duration": 360,
    "start_time": "2022-09-02T12:37:50.028Z"
   },
   {
    "duration": 17,
    "start_time": "2022-09-02T12:37:50.389Z"
   },
   {
    "duration": 14,
    "start_time": "2022-09-02T12:37:50.408Z"
   },
   {
    "duration": 117,
    "start_time": "2022-09-02T12:37:50.424Z"
   },
   {
    "duration": 466,
    "start_time": "2022-09-02T12:37:50.543Z"
   },
   {
    "duration": 17318,
    "start_time": "2022-09-02T12:37:51.011Z"
   },
   {
    "duration": 463,
    "start_time": "2022-09-02T12:38:08.330Z"
   },
   {
    "duration": 13,
    "start_time": "2022-09-02T12:38:08.805Z"
   },
   {
    "duration": 106,
    "start_time": "2022-09-02T12:38:08.821Z"
   },
   {
    "duration": 481,
    "start_time": "2022-09-02T12:38:08.931Z"
   },
   {
    "duration": 7869,
    "start_time": "2022-09-02T12:38:09.414Z"
   },
   {
    "duration": 330,
    "start_time": "2022-09-02T12:38:17.285Z"
   },
   {
    "duration": 228,
    "start_time": "2022-09-02T12:38:17.617Z"
   },
   {
    "duration": 211,
    "start_time": "2022-09-02T12:38:17.847Z"
   }
  ],
  "kernelspec": {
   "display_name": "Python 3 (ipykernel)",
   "language": "python",
   "name": "python3"
  },
  "language_info": {
   "codemirror_mode": {
    "name": "ipython",
    "version": 3
   },
   "file_extension": ".py",
   "mimetype": "text/x-python",
   "name": "python",
   "nbconvert_exporter": "python",
   "pygments_lexer": "ipython3",
   "version": "3.9.5"
  },
  "toc": {
   "base_numbering": 1,
   "nav_menu": {},
   "number_sections": true,
   "sideBar": true,
   "skip_h1_title": true,
   "title_cell": "Содержание",
   "title_sidebar": "Contents",
   "toc_cell": true,
   "toc_position": {
    "height": "calc(100% - 180px)",
    "left": "10px",
    "top": "150px",
    "width": "256.188px"
   },
   "toc_section_display": true,
   "toc_window_display": true
  }
 },
 "nbformat": 4,
 "nbformat_minor": 2
}